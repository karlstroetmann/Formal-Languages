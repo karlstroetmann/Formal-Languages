{
 "cells": [
  {
   "cell_type": "code",
   "execution_count": null,
   "metadata": {},
   "outputs": [],
   "source": [
    "from IPython.display import HTML\n",
    "HTML(open('../style.css').read())"
   ]
  },
  {
   "cell_type": "code",
   "execution_count": null,
   "metadata": {},
   "outputs": [],
   "source": [
    "%load_ext nb_mypy"
   ]
  },
  {
   "cell_type": "code",
   "execution_count": null,
   "metadata": {},
   "outputs": [],
   "source": [
    "from typing import TypeVar"
   ]
  },
  {
   "cell_type": "markdown",
   "metadata": {},
   "source": [
    "# From Regular Expressions to <span style=\"font-variant:small-caps;\">Nfa</span>s"
   ]
  },
  {
   "cell_type": "markdown",
   "metadata": {},
   "source": [
    "This notebook shows how a given regular expression $r$ can be transformed into an equivalent finite state machine. \n",
    "It implements the theory that is outlined in section 4.4. of the \n",
    "lecture notes."
   ]
  },
  {
   "cell_type": "code",
   "execution_count": null,
   "metadata": {},
   "outputs": [],
   "source": [
    "from typing import Literal"
   ]
  },
  {
   "cell_type": "code",
   "execution_count": null,
   "metadata": {},
   "outputs": [],
   "source": [
    "type BinaryOp = Literal['⋅', '+']\n",
    "type UnaryOp  = Literal['*']"
   ]
  },
  {
   "cell_type": "markdown",
   "metadata": {},
   "source": [
    "The type `RegExp` describes the *parse tree* of a regular expression.  This will be the *input* of the program we develop in this notebook.  Note that `RegExp` is a *recursive* type.  \n",
    "\n",
    "The expression `tuple[RegExp, ...]` denotes a tuple of objects of type `RegExp` that has an arbitrary length."
   ]
  },
  {
   "cell_type": "code",
   "execution_count": null,
   "metadata": {},
   "outputs": [],
   "source": [
    "Char   = str\n",
    "RegExp = TypeVar('RegExp')\n",
    "RegExp = int | Char | tuple[RegExp, UnaryOp] | tuple[RegExp, BinaryOp, RegExp]"
   ]
  },
  {
   "cell_type": "markdown",
   "metadata": {},
   "source": [
    "We will represent the states of the `NFA` as integers."
   ]
  },
  {
   "cell_type": "code",
   "execution_count": null,
   "metadata": {},
   "outputs": [],
   "source": [
    "State = int"
   ]
  },
  {
   "cell_type": "markdown",
   "metadata": {},
   "source": [
    "The type `Delta` denotes the transition relation of a non-deterministic finite automaton.\n",
    "The type `NFA` denotes a non-deterministic finite automaton.  Its elements are 5-tuples of the form\n",
    "$$ \\langle Q, \\Sigma, \\delta, q_0, A \\rangle $$\n",
    "where\n",
    "1. $Q$ is the set of states,\n",
    "2. $\\Sigma$ is the alphabet,\n",
    "3. $\\delta: Q \\times (\\Sigma \\cup \\{ \\varepsilon \\}) \\rightarrow 2^Q$ is the transition relation,\n",
    "4. $q_0 \\in Q$ is the start state, and\n",
    "5. $A \\subseteq Q$ is the set of accepting states"
   ]
  },
  {
   "cell_type": "code",
   "execution_count": null,
   "metadata": {},
   "outputs": [],
   "source": [
    "Delta = dict[tuple[State, Char], set[State]]\n",
    "NFA   = tuple[set[State], set[Char], Delta, State, set[State]]"
   ]
  },
  {
   "cell_type": "markdown",
   "metadata": {},
   "source": [
    "The class `RegExp2NFA` administers two member variables:\n",
    "- `Sigma` is the <em style=\"color:blue\">alphabet</em>, i.e. the set of characters used.\n",
    "- `StateCount` is a counter that is needed to create <em style=\"color:blue\">unique</em> state names.\n",
    "\n",
    "The methods given here are just stubs that are needed by the type checker.  The implementation of these stubs is given later."
   ]
  },
  {
   "cell_type": "code",
   "execution_count": null,
   "metadata": {},
   "outputs": [],
   "source": [
    "class RegExp2NFA:\n",
    "    def __init__(self, Sigma: set[Char]):\n",
    "        self.Sigma     : set[Char] = Sigma\n",
    "        self.StateCount: int = 0\n",
    "            \n",
    "    def toNFA(self, r: RegExp) -> NFA:\n",
    "        return None # type: ignore\n",
    "    def genEmptyNFA(self) -> NFA:\n",
    "        return None # type: ignore\n",
    "    def genEpsilonNFA(self) -> NFA:\n",
    "        return None # type: ignore\n",
    "    def genCharNFA(self, c) -> NFA:\n",
    "        return None # type: ignore\n",
    "    def catenate(self, f1, f2) -> NFA:   \n",
    "        return None # type: ignore\n",
    "    def disjunction(self, f1, f2) -> NFA:\n",
    "        return None # type: ignore\n",
    "    def kleene(self, f) -> NFA:\n",
    "        return None # type: ignore\n",
    "    def getNewState(self) -> State:\n",
    "        return None # type: ignore"
   ]
  },
  {
   "cell_type": "markdown",
   "metadata": {},
   "source": [
    "The member function `toNFA` takes an object `self` of class `RegExp2NFA` and a regular expression `r` and returns a finite state machine \n",
    "that accepts the same language as described by `r`.  The regular expression is represented in `Python` as follows:\n",
    "- The regular expression $\\emptyset$ is represented as the number `0`.\n",
    "- The regular expression $\\varepsilon$ is represented as the string `'𝜀'`.\n",
    "- The regular expression $c$ that matches the character $c$ is represented by the character $c$.\n",
    "- The regular expression $r_1 \\cdot r_2$  is represented by the triple $\\bigl(\\texttt{repr}(r_1), \\texttt{'⋅'}, \\texttt{repr}(r_2)\\bigr)$ \n",
    "  where $\\texttt{repr}(r_1)$ and $\\texttt{repr}(r_2)$ are the representations of the regular expressions $r_1$ and $r_2$.\n",
    "  \n",
    "  Here, and in the following, for a given regular expression $r$ the expression $\\texttt{repr}(r)$ denotes the `Python` representation of the regular \n",
    "  expressions  $r$.\n",
    "- The regular expression $r_1 + r_2$  is represented by the triple $\\bigl(\\texttt{repr}(r_1), \\texttt{'+'}, \\texttt{repr}(r_2)\\bigr)$.\n",
    "- The regular expression $r^*$  is represented by the pair $\\bigl(\\texttt{repr}(r), \\texttt{'*'}\\bigr)$.\n",
    "\n",
    "The annotation `# type: ignore`is needed to silence the type checker."
   ]
  },
  {
   "cell_type": "code",
   "execution_count": null,
   "metadata": {},
   "outputs": [],
   "source": [
    "def toNFA(self: RegExp2NFA, r: RegExp) -> NFA:\n",
    "    match r:\n",
    "        case 0: \n",
    "            return self.genEmptyNFA()\n",
    "        case '𝜀': \n",
    "            return self.genEpsilonNFA()\n",
    "        case r if isinstance(r, str) and len(r) == 1: \n",
    "            return self.genCharNFA(r)\n",
    "        case (r1, '⋅', r2):\n",
    "            return self.catenate(self.toNFA(r1), self.toNFA(r2))\n",
    "        case (r1, '+', r2):\n",
    "            return self.disjunction(self.toNFA(r1), self.toNFA(r2))\n",
    "        case (r1, '*'):\n",
    "            return self.kleene(self.toNFA(r1))\n",
    "        case _:\n",
    "            raise ValueError(f'{r} is not a proper regular expression.') \n",
    "\n",
    "RegExp2NFA.toNFA = toNFA # type: ignore\n",
    "del toNFA"
   ]
  },
  {
   "cell_type": "markdown",
   "metadata": {},
   "source": [
    "The <span style=\"font-variant:small-caps;\">Nfa</span> `genEmptyNFA()` is defined as\n",
    "$$\\bigl\\langle \\{ q_0, q_1 \\}, \\Sigma, \\{\\}, q_0, \\{ q_1 \\} \\bigr\\rangle. $$\n",
    "Note that this <span style=\"font-variant:small-caps;\">Nfa</span> has no transitions at all.\n",
    "Graphically, this <span style=\"font-variant:small-caps;\">Nfa</span> looks as follows:\n",
    "\n",
    "![Nfa recognizing the empty set](./aLeer.jpg)"
   ]
  },
  {
   "cell_type": "code",
   "execution_count": null,
   "metadata": {},
   "outputs": [],
   "source": [
    "def genEmptyNFA(self: RegExp2NFA) -> NFA:\n",
    "    q0 = self.getNewState()\n",
    "    q1 = self.getNewState()\n",
    "    return {q0, q1}, self.Sigma, {}, q0, { q1 }\n",
    "\n",
    "RegExp2NFA.genEmptyNFA = genEmptyNFA # type: ignore\n",
    "del genEmptyNFA"
   ]
  },
  {
   "cell_type": "markdown",
   "metadata": {},
   "source": [
    "The <span style=\"font-variant:small-caps;\">Nfa</span> `genEpsilonNFA` is defined as\n",
    "$$  \\bigl\\langle \\{ q_0, q_1 \\}, \\Sigma, \n",
    "                          \\bigl\\{ \\langle q_0, \\varepsilon\\rangle \\mapsto \\{q_1\\} \\bigr\\}, q_0, \\{ q_1 \\} \\bigr\\rangle.\n",
    "$$\n",
    "Graphically, this <span style=\"font-variant:small-caps;\">Nfa</span> looks as follows:\n",
    "\n",
    "![Nfa recognizing the empty string](./aEpsilon.jpg)"
   ]
  },
  {
   "cell_type": "code",
   "execution_count": null,
   "metadata": {},
   "outputs": [],
   "source": [
    "def genEpsilonNFA(self: RegExp2NFA) -> NFA:\n",
    "    q0 = self.getNewState()\n",
    "    q1 = self.getNewState()\n",
    "    delta = { (q0, '𝜀'): {q1} }\n",
    "    return {q0, q1}, self.Sigma, delta, q0, { q1 }\n",
    "\n",
    "RegExp2NFA.genEpsilonNFA = genEpsilonNFA # type: ignore\n",
    "del genEpsilonNFA"
   ]
  },
  {
   "cell_type": "markdown",
   "metadata": {},
   "source": [
    "For a letter $c \\in \\Sigma$ the <span style=\"font-variant:small-caps;\">NFA</span> `genCharNFA`$(c)$ is defined as \n",
    "$$ A(c) = \n",
    "   \\bigl\\langle \\{ q_0, q_1 \\}, \\Sigma, \n",
    "   \\bigl\\{ \\langle q_0, c \\rangle \\mapsto \\{q_1\\}\\bigr\\}, q_0, \\{ q_1 \\} \\bigr\\rangle.\n",
    "$$\n",
    "Graphically, this <span style=\"font-variant:small-caps;\">NFA</span> looks as follows:\n",
    "\n",
    "![NFA recognizing the character c](./aChar.jpg)"
   ]
  },
  {
   "cell_type": "code",
   "execution_count": null,
   "metadata": {},
   "outputs": [],
   "source": [
    "def genCharNFA(self: RegExp2NFA, c: str) -> NFA:\n",
    "    q0 = self.getNewState()\n",
    "    q1 = self.getNewState()\n",
    "    delta = { (q0, c): {q1} } \n",
    "    return {q0, q1}, self.Sigma, delta, q0, { q1 }\n",
    "\n",
    "RegExp2NFA.genCharNFA = genCharNFA # type: ignore\n",
    "del genCharNFA"
   ]
  },
  {
   "cell_type": "markdown",
   "metadata": {},
   "source": [
    "Given two <span style=\"font-variant:small-caps;\">Nfa</span>s `f1` and `f2`, the function `catenate(f1, f2)` \n",
    "creates an <span style=\"font-variant:small-caps;\">Nfa</span> that recognizes a string $s$ if it can be written \n",
    "in the form\n",
    "$$ s = s_1s_2 $$\n",
    "and $s_1$ is recognized by `f1` and $s_2$ is recognized by `f2`. \n",
    "\n",
    "Assume that $f_1$ and $f_2$ have the following form:\n",
    "- $f_1 = \\langle Q_1, \\Sigma, \\delta_1, q_1, \\{ q_2 \\}\\rangle$,\n",
    "- $f_2 = \\langle Q_2, \\Sigma, \\delta_2, q_3, \\{ q_4 \\}\\rangle$,\n",
    "- $Q_1 \\cap Q_2 = \\{\\}$.\n",
    " \n",
    "Then $\\texttt{catenate}(f_1, f_2)$ is defined as:\n",
    "$$  \\bigl\\langle Q_1 \\cup Q_2, \\Sigma, \n",
    "   \\bigl\\{ \\langle q_2,\\varepsilon\\rangle  \\mapsto \\{q_3\\} \\bigr\\} \n",
    "         \\cup \\delta_1 \\cup \\delta_2, q_1, \\{ q_4 \\} \\bigr\\rangle.\n",
    "$$\n",
    "Graphically, this <span style=\"font-variant:small-caps;\">Nfa</span> looks as follows:\n",
    "\n",
    "![Nfa recognizing the concatenation of two languages](./aConcat.jpg)"
   ]
  },
  {
   "cell_type": "code",
   "execution_count": null,
   "metadata": {},
   "outputs": [],
   "source": [
    "def catenate(self: RegExp2NFA, f1: NFA, f2: NFA) -> NFA:\n",
    "    M1, Sigma, delta1, q1, A1 = f1\n",
    "    M2, Sigma, delta2, q3, A2 = f2\n",
    "    q2, = A1 # extract the element from the set A1\n",
    "    delta = delta1 | delta2\n",
    "    delta[q2, '𝜀'] = {q3}\n",
    "    return M1 | M2, Sigma, delta, q1, A2\n",
    "\n",
    "RegExp2NFA.catenate = catenate # type: ignore\n",
    "del catenate"
   ]
  },
  {
   "cell_type": "markdown",
   "metadata": {},
   "source": [
    "Given two <span style=\"font-variant:small-caps;\">Nfa</span>s `f1` and `f2`, the function `disjunction(f1, f2)` \n",
    "creates an <span style=\"font-variant:small-caps;\">Nfa</span> that recognizes a string $s$ if it is either \n",
    "is recognized by `f1` or by `f2`. \n",
    "\n",
    "Assume again that the states of \n",
    "$f_1$ and $f_2$ are different and that $f_1$ and $f_2$ have the following form:\n",
    "- $f_1 = \\langle Q_1, \\Sigma, \\delta_1, q_1, \\{ q_3 \\}\\rangle$,\n",
    "- $f_2 = \\langle Q_2, \\Sigma, \\delta_2, q_2, \\{ q_4 \\}\\rangle$,\n",
    "- $Q_1 \\cap Q_2 = \\{\\}$.\n",
    "\n",
    "Then $\\texttt{disjunction}(f_1, f_2)$ is defined as follows:\n",
    "$$ \\bigl\\langle \\{ q_0, q_5 \\} \\cup Q_1 \\cup Q_2, \\Sigma, \n",
    "                \\bigl\\{ \\langle q_0,\\varepsilon\\rangle \\mapsto \\{q_1, q_2\\},\n",
    "                   \\langle q_3,\\varepsilon\\rangle \\mapsto \\{q_5\\}, \n",
    "                   \\langle q_4,\\varepsilon\\rangle \\mapsto \\{q_5\\} \\bigr\\} \n",
    "                   \\cup \\delta_1 \\cup \\delta_2, q_0, \\{ q_5 \\} \\bigr\\rangle\n",
    "$$\n",
    "Graphically, this <span style=\"font-variant:small-caps;\">Nfa</span> looks as follows:\n",
    "![Nfa recognizing the disjunction](./aPlus.jpg)"
   ]
  },
  {
   "cell_type": "code",
   "execution_count": null,
   "metadata": {},
   "outputs": [],
   "source": [
    "def disjunction(self: RegExp2NFA, f1: NFA, f2: NFA) -> NFA:\n",
    "        Q1, Sigma, delta1, q1, A1 = f1\n",
    "        Q2, Sigma, delta2, q2, A2 = f2\n",
    "        q3, = A1\n",
    "        q4, = A2\n",
    "        q0 = self.getNewState()\n",
    "        q5 = self.getNewState() \n",
    "        delta = delta1 | delta2\n",
    "        delta[q0, '𝜀'] = { q1, q2 }\n",
    "        delta[q3, '𝜀'] = { q5 }\n",
    "        delta[q4, '𝜀'] = { q5 }\n",
    "        return { q0, q5 } | Q1 | Q2, Sigma, delta, q0, { q5 }\n",
    "    \n",
    "RegExp2NFA.disjunction = disjunction # type: ignore\n",
    "del disjunction"
   ]
  },
  {
   "cell_type": "markdown",
   "metadata": {},
   "source": [
    "Given an <span style=\"font-variant:small-caps;\">Nfa</span> `f`, the function `kleene(f)` \n",
    "creates an <span style=\"font-variant:small-caps;\">Nfa</span> that recognizes a string $s$ if it can be written as\n",
    "$$ s = s_1 s_2 \\cdots s_n $$\n",
    "and all $s_i$ are recognized by `f`.  Note that $n$ might be $0$. \n",
    "\n",
    "If `f` is defined as\n",
    "$$ f = \\langle Q, \\Sigma, \\delta, q_1, \\{ q_2 \\} \\rangle,\n",
    "$$\n",
    "then  `kleene(f)` is defined as follows:\n",
    "$$ \\bigl\\langle \\{ q_0, q_3 \\} \\cup Q, \\Sigma, \n",
    "                \\bigl\\{ \\langle q_0,\\varepsilon\\rangle \\mapsto \\{q_1, q_3\\},  \n",
    "                        \\langle q_2,\\varepsilon\\rangle \\mapsto \\{q_1, q_3\\} \\bigr\\} \n",
    "                \\cup \\delta, q_0, \\{ q_3 \\} \\bigr\\rangle.\n",
    "$$\n",
    "Graphically, this <span style=\"font-variant:small-caps;\">Nfa</span> looks as follows:\n",
    "![Nfa recognizing the Kleene star](./aStar.jpg)"
   ]
  },
  {
   "cell_type": "code",
   "execution_count": null,
   "metadata": {},
   "outputs": [],
   "source": [
    "def kleene(self: RegExp2NFA, f: NFA) -> NFA:\n",
    "    Q, Sigma, delta0, q1, A = f\n",
    "    q2, = A\n",
    "    q0 = self.getNewState()\n",
    "    q3 = self.getNewState()\n",
    "    delta = delta0\n",
    "    delta[q0, '𝜀'] = { q1, q3 }\n",
    "    delta[q2, '𝜀'] = { q1, q3 }\n",
    "    return { q0, q3 } | Q, Sigma, delta, q0, { q3 }\n",
    "\n",
    "RegExp2NFA.kleene = kleene # type: ignore\n",
    "del kleene"
   ]
  },
  {
   "cell_type": "markdown",
   "metadata": {},
   "source": [
    "The auxiliary function `getNewState` returns a new number that has not yet been used as a state."
   ]
  },
  {
   "cell_type": "code",
   "execution_count": null,
   "metadata": {},
   "outputs": [],
   "source": [
    "def getNewState(self: RegExp2NFA) -> State:\n",
    "    self.StateCount += 1\n",
    "    return self.StateCount\n",
    "\n",
    "RegExp2NFA.getNewState = getNewState # type: ignore\n",
    "del getNewState"
   ]
  },
  {
   "cell_type": "markdown",
   "metadata": {},
   "source": [
    "The notebook `04-Test-Regexp-2-NFA`can be used to test the functions implemented in this notebook."
   ]
  },
  {
   "cell_type": "code",
   "execution_count": null,
   "metadata": {},
   "outputs": [],
   "source": []
  }
 ],
 "metadata": {
  "kernelspec": {
   "display_name": "Python 3 (ipykernel)",
   "language": "python",
   "name": "python3"
  },
  "language_info": {
   "codemirror_mode": {
    "name": "ipython",
    "version": 3
   },
   "file_extension": ".py",
   "mimetype": "text/x-python",
   "name": "python",
   "nbconvert_exporter": "python",
   "pygments_lexer": "ipython3",
   "version": "3.13.5"
  },
  "varInspector": {
   "cols": {
    "lenName": 16,
    "lenType": 16,
    "lenVar": 40
   },
   "kernels_config": {
    "python": {
     "delete_cmd_postfix": "",
     "delete_cmd_prefix": "del ",
     "library": "var_list.py",
     "varRefreshCmd": "print(var_dic_list())"
    },
    "r": {
     "delete_cmd_postfix": ") ",
     "delete_cmd_prefix": "rm(",
     "library": "var_list.r",
     "varRefreshCmd": "cat(var_dic_list()) "
    }
   },
   "types_to_exclude": [
    "module",
    "function",
    "builtin_function_or_method",
    "instance",
    "_Feature"
   ],
   "window_display": false
  }
 },
 "nbformat": 4,
 "nbformat_minor": 4
}
