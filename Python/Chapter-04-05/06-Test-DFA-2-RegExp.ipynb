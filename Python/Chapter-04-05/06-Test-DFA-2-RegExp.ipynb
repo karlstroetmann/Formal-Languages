{
 "cells": [
  {
   "cell_type": "code",
   "execution_count": 1,
   "metadata": {},
   "outputs": [
    {
     "data": {
      "text/html": [
       "<link href='http://fonts.googleapis.com/css?family=Alegreya+Sans:100,300,400,500,700,800,900,100italic,300italic,400italic,500italic,700italic,800italic,900italic' rel='stylesheet' type='text/css'>\n",
       "<link href='http://fonts.googleapis.com/css?family=Arvo:400,700,400italic' rel='stylesheet' type='text/css'>\n",
       "<link href='http://fonts.googleapis.com/css?family=PT+Mono' rel='stylesheet' type='text/css'>\n",
       "<link href='http://fonts.googleapis.com/css?family=Shadows+Into+Light' rel='stylesheet' type='text/css'>\n",
       "<link href='http://fonts.googleapis.com/css?family=Philosopher:400,700,400italic,700italic' rel='stylesheet' type='text/css'>\n",
       "<link href=\"http://fonts.googleapis.com/css?family=Sacramento\" rel=\"stylesheet\" type=\"text/css\">\n",
       "\n",
       "<style>\n",
       "\n",
       "@font-face {\n",
       "    font-family: \"Computer Modern\";\n",
       "    src: url('http://mirrors.ctan.org/fonts/cm-unicode/fonts/otf/cmunss.otf');\n",
       "}\n",
       "\n",
       ".container { width: 100% }\n",
       "\n",
       "/* Formatting for header cells */\n",
       ".text_cell_render h1 {\n",
       "    font-family: 'Philosopher', sans-serif;\n",
       "    font-weight: 400;\n",
       "    font-size: 2.2em;\n",
       "    line-height: 100%;\n",
       "    color: rgb(0, 80, 120);\n",
       "    margin-bottom: 0.1em;\n",
       "    margin-top: 0.1em;\n",
       "    display: block;\n",
       "}\t\n",
       ".text_cell_render h2 {\n",
       "    font-family: 'Philosopher', serif;\n",
       "    font-weight: 400;\n",
       "    font-size: 1.9em;\n",
       "    line-height: 100%;\n",
       "    color: rgb(200,100,0);\n",
       "    margin-bottom: 0.1em;\n",
       "    margin-top: 0.1em;\n",
       "    display: block;\n",
       "}\t\n",
       "\n",
       ".text_cell_render h3 {\n",
       "    font-family: 'Philosopher', serif;\n",
       "    margin-top:12px;\n",
       "    margin-bottom: 3px;\n",
       "    font-style: italic;\n",
       "    color: rgb(94,127,192);\n",
       "}\n",
       "\n",
       ".text_cell_render h4 {\n",
       "    font-family: 'Philosopher', serif;\n",
       "}\n",
       "\n",
       ".text_cell_render h5 {\n",
       "    font-family: 'Alegreya Sans', sans-serif;\n",
       "    font-weight: 300;\n",
       "    font-size: 16pt;\n",
       "    color: grey;\n",
       "    font-style: italic;\n",
       "    margin-bottom: .1em;\n",
       "    margin-top: 0.1em;\n",
       "    display: block;\n",
       "}\n",
       "\n",
       ".text_cell_render h6 {\n",
       "    font-family: 'PT Mono', sans-serif;\n",
       "    font-weight: 300;\n",
       "    font-size: 10pt;\n",
       "    color: grey;\n",
       "    margin-bottom: 1px;\n",
       "    margin-top: 1px;\n",
       "}\n",
       "\n",
       ".text_cell_render em {\n",
       "    font-family: 'Philosopher', sans-serif;\n",
       "    color:        blue;\n",
       "    background-color: rgb(255,220,180);\n",
       "    font-size:    110%;\n",
       "    margin-left:   2px;\n",
       "    margin-right:  2px;\n",
       "    font-weight:   100;\n",
       "}\n",
       "\n",
       ".text_cell_render b {\n",
       "    color:            rgb(255,195,195);\n",
       "    background-color: rgb(0,0,0);\n",
       "    font-size:    110%;\n",
       "    margin-left:   2px;\n",
       "    margin-right:  2px;\n",
       "    font-weight:   650;\n",
       "}\n",
       "\n",
       ".text_cell_render u {\n",
       "    color:            blue;\n",
       "    font-size:    110%;\n",
       "    margin-left:   2px;\n",
       "    margin-right:  2px;\n",
       "    font-weight:   650;\n",
       "}\n",
       "\n",
       ".text_cell_render tt {\n",
       "    font-size:    120%;\n",
       "    margin-left:   2px;\n",
       "    margin-right:  2px;\n",
       "    font-weight:   150;\n",
       "}\n",
       "\n",
       ".Codemirror {\n",
       "    font-family: \"PT Mono\";\n",
       "    font-size: 100%;\n",
       "}\n",
       "\n",
       "#fancy {\n",
       "    font-family:      Georgia;\n",
       "    position:         relative;\n",
       "    float:            left;\n",
       "    border:           2px solid red;\n",
       "    width:            600px;\n",
       "    padding-left:     20px;\n",
       "    padding-right:    20px;\n",
       "    padding-top:      10px;\n",
       "    font-family:      'Sacramento', cursive;\n",
       "    font-size:        26px;\n",
       "    background-color: #F4EBF3;\n",
       "    border-radius:    15px;\n",
       "}\n",
       "\n",
       "</Style>\n",
       "\n"
      ],
      "text/plain": [
       "<IPython.core.display.HTML object>"
      ]
     },
     "execution_count": 1,
     "metadata": {},
     "output_type": "execute_result"
    }
   ],
   "source": [
    "from IPython.display import HTML\n",
    "HTML(open('../style.css', 'r').read())"
   ]
  },
  {
   "cell_type": "markdown",
   "metadata": {},
   "source": [
    "# Test DFA-2-RegExp"
   ]
  },
  {
   "cell_type": "code",
   "execution_count": 2,
   "metadata": {},
   "outputs": [
    {
     "name": "stderr",
     "output_type": "stream",
     "text": [
      "Version 1.0.6\n"
     ]
    }
   ],
   "source": [
    "%run 05-DFA-2-RegExp.ipynb"
   ]
  },
  {
   "cell_type": "code",
   "execution_count": 3,
   "metadata": {},
   "outputs": [],
   "source": [
    "%run FSM-2-Dot.ipynb"
   ]
  },
  {
   "cell_type": "code",
   "execution_count": 4,
   "metadata": {},
   "outputs": [],
   "source": [
    "%unload_ext nb_mypy"
   ]
  },
  {
   "cell_type": "code",
   "execution_count": 5,
   "metadata": {},
   "outputs": [],
   "source": [
    "delta = { (1, 'a'): 2,\n",
    "          (2, 'b'): 3,\n",
    "          (3, 'a'): 2\n",
    "        }"
   ]
  },
  {
   "cell_type": "code",
   "execution_count": 6,
   "metadata": {},
   "outputs": [],
   "source": [
    "A = {1, 2, 3}, {'a', 'b'}, delta, 1, {3}"
   ]
  },
  {
   "cell_type": "code",
   "execution_count": 7,
   "metadata": {},
   "outputs": [
    {
     "data": {
      "image/svg+xml": [
       "<?xml version=\"1.0\" encoding=\"UTF-8\" standalone=\"no\"?>\n",
       "<!DOCTYPE svg PUBLIC \"-//W3C//DTD SVG 1.1//EN\"\n",
       " \"http://www.w3.org/Graphics/SVG/1.1/DTD/svg11.dtd\">\n",
       "<!-- Generated by graphviz version 9.0.0 (0)\n",
       " -->\n",
       "<!-- Title: Deterministic FSM Pages: 1 -->\n",
       "<svg width=\"307pt\" height=\"52pt\"\n",
       " viewBox=\"0.00 0.00 306.95 52.00\" xmlns=\"http://www.w3.org/2000/svg\" xmlns:xlink=\"http://www.w3.org/1999/xlink\">\n",
       "<g id=\"graph0\" class=\"graph\" transform=\"scale(1 1) rotate(0) translate(4 48)\">\n",
       "<title>Deterministic FSM</title>\n",
       "<polygon fill=\"white\" stroke=\"none\" points=\"-4,4 -4,-48 302.95,-48 302.95,4 -4,4\"/>\n",
       "<!-- 1 -->\n",
       "<g id=\"node1\" class=\"node\">\n",
       "<title>1</title>\n",
       "<ellipse fill=\"blue\" stroke=\"blue\" cx=\"3.6\" cy=\"-22\" rx=\"3.6\" ry=\"3.6\"/>\n",
       "</g>\n",
       "<!-- S0 -->\n",
       "<g id=\"node2\" class=\"node\">\n",
       "<title>S0</title>\n",
       "<ellipse fill=\"none\" stroke=\"black\" cx=\"71.2\" cy=\"-22\" rx=\"27\" ry=\"18\"/>\n",
       "<text text-anchor=\"middle\" x=\"71.2\" y=\"-16.95\" font-family=\"Times,serif\" font-size=\"14.00\">S0</text>\n",
       "</g>\n",
       "<!-- 1&#45;&gt;S0 -->\n",
       "<g id=\"edge1\" class=\"edge\">\n",
       "<title>1&#45;&gt;S0</title>\n",
       "<path fill=\"none\" stroke=\"black\" d=\"M7.42,-22C12.07,-22 21.87,-22 32.38,-22\"/>\n",
       "<polygon fill=\"black\" stroke=\"black\" points=\"32.34,-25.5 42.34,-22 32.34,-18.5 32.34,-25.5\"/>\n",
       "</g>\n",
       "<!-- S1 -->\n",
       "<g id=\"node3\" class=\"node\">\n",
       "<title>S1</title>\n",
       "<ellipse fill=\"none\" stroke=\"black\" cx=\"167.2\" cy=\"-22\" rx=\"27\" ry=\"18\"/>\n",
       "<text text-anchor=\"middle\" x=\"167.2\" y=\"-16.95\" font-family=\"Times,serif\" font-size=\"14.00\">S1</text>\n",
       "</g>\n",
       "<!-- S0&#45;&gt;S1 -->\n",
       "<g id=\"edge2\" class=\"edge\">\n",
       "<title>S0&#45;&gt;S1</title>\n",
       "<path fill=\"none\" stroke=\"black\" d=\"M98.63,-22C107.92,-22 118.55,-22 128.58,-22\"/>\n",
       "<polygon fill=\"black\" stroke=\"black\" points=\"128.45,-25.5 138.45,-22 128.45,-18.5 128.45,-25.5\"/>\n",
       "<text text-anchor=\"middle\" x=\"119.2\" y=\"-25.2\" font-family=\"Times,serif\" font-size=\"14.00\">a</text>\n",
       "</g>\n",
       "<!-- S2 -->\n",
       "<g id=\"node4\" class=\"node\">\n",
       "<title>S2</title>\n",
       "<ellipse fill=\"none\" stroke=\"black\" cx=\"267.95\" cy=\"-22\" rx=\"27\" ry=\"18\"/>\n",
       "<ellipse fill=\"none\" stroke=\"black\" cx=\"267.95\" cy=\"-22\" rx=\"31\" ry=\"22\"/>\n",
       "<text text-anchor=\"middle\" x=\"267.95\" y=\"-16.95\" font-family=\"Times,serif\" font-size=\"14.00\">S2</text>\n",
       "</g>\n",
       "<!-- S1&#45;&gt;S2 -->\n",
       "<g id=\"edge3\" class=\"edge\">\n",
       "<title>S1&#45;&gt;S2</title>\n",
       "<path fill=\"none\" stroke=\"black\" d=\"M194.66,-22C204.04,-22 214.84,-22 225.19,-22\"/>\n",
       "<polygon fill=\"black\" stroke=\"black\" points=\"225.06,-25.5 235.06,-22 225.06,-18.5 225.06,-25.5\"/>\n",
       "<text text-anchor=\"middle\" x=\"215.58\" y=\"-25.2\" font-family=\"Times,serif\" font-size=\"14.00\">b</text>\n",
       "</g>\n",
       "<!-- S2&#45;&gt;S1 -->\n",
       "<g id=\"edge4\" class=\"edge\">\n",
       "<title>S2&#45;&gt;S1</title>\n",
       "<path fill=\"none\" stroke=\"black\" d=\"M244.47,-7.25C234.74,-2.53 223.1,0.91 212.2,-1.5 207.57,-2.53 202.85,-4.09 198.31,-5.91\"/>\n",
       "<polygon fill=\"black\" stroke=\"black\" points=\"197.21,-2.56 189.52,-9.85 200.07,-8.95 197.21,-2.56\"/>\n",
       "<text text-anchor=\"middle\" x=\"215.58\" y=\"-4.2\" font-family=\"Times,serif\" font-size=\"14.00\">a</text>\n",
       "</g>\n",
       "</g>\n",
       "</svg>\n"
      ],
      "text/plain": [
       "<graphviz.graphs.Digraph at 0x1125cb770>"
      ]
     },
     "execution_count": 7,
     "metadata": {},
     "output_type": "execute_result"
    }
   ],
   "source": [
    "g, _ = dfa2dot(A)\n",
    "g"
   ]
  },
  {
   "cell_type": "code",
   "execution_count": 8,
   "metadata": {},
   "outputs": [
    {
     "data": {
      "text/plain": [
       "(((0, '+', ((0, '⋅', (('𝜀', '+', 0), '*')), '⋅', ('𝜀', '+', 0))),\n",
       "  '+',\n",
       "  ((('a', '+', ((0, '⋅', (('𝜀', '+', 0), '*')), '⋅', 'a')),\n",
       "    '⋅',\n",
       "    ((('𝜀', '+', 0), '+', (('b', '⋅', (('𝜀', '+', 0), '*')), '⋅', 'a')), '*')),\n",
       "   '⋅',\n",
       "   ('b', '+', (('b', '⋅', (('𝜀', '+', 0), '*')), '⋅', ('𝜀', '+', 0))))),\n",
       " '+',\n",
       " ((((('𝜀', '+', 0), '+', ((0, '⋅', (('𝜀', '+', 0), '*')), '⋅', 0)),\n",
       "    '+',\n",
       "    ((('a', '+', ((0, '⋅', (('𝜀', '+', 0), '*')), '⋅', 'a')),\n",
       "      '⋅',\n",
       "      ((('𝜀', '+', 0), '+', (('b', '⋅', (('𝜀', '+', 0), '*')), '⋅', 'a')),\n",
       "       '*')),\n",
       "     '⋅',\n",
       "     (0, '+', (('b', '⋅', (('𝜀', '+', 0), '*')), '⋅', 0)))),\n",
       "   '⋅',\n",
       "   (((('𝜀', '+', 0), '+', ((0, '⋅', (('𝜀', '+', 0), '*')), '⋅', 0)),\n",
       "     '+',\n",
       "     ((('a', '+', ((0, '⋅', (('𝜀', '+', 0), '*')), '⋅', 'a')),\n",
       "       '⋅',\n",
       "       ((('𝜀', '+', 0), '+', (('b', '⋅', (('𝜀', '+', 0), '*')), '⋅', 'a')),\n",
       "        '*')),\n",
       "      '⋅',\n",
       "      (0, '+', (('b', '⋅', (('𝜀', '+', 0), '*')), '⋅', 0)))),\n",
       "    '*')),\n",
       "  '⋅',\n",
       "  ((0, '+', ((0, '⋅', (('𝜀', '+', 0), '*')), '⋅', ('𝜀', '+', 0))),\n",
       "   '+',\n",
       "   ((('a', '+', ((0, '⋅', (('𝜀', '+', 0), '*')), '⋅', 'a')),\n",
       "     '⋅',\n",
       "     ((('𝜀', '+', 0), '+', (('b', '⋅', (('𝜀', '+', 0), '*')), '⋅', 'a')),\n",
       "      '*')),\n",
       "    '⋅',\n",
       "    ('b', '+', (('b', '⋅', (('𝜀', '+', 0), '*')), '⋅', ('𝜀', '+', 0)))))))"
      ]
     },
     "execution_count": 8,
     "metadata": {},
     "output_type": "execute_result"
    }
   ],
   "source": [
    "r = dfa_2_regexp(A)\n",
    "r"
   ]
  },
  {
   "cell_type": "markdown",
   "metadata": {},
   "source": [
    "As this regular expression is nearly unreadable,  The notebook `Rewrite.ipynb` contains the definition of the function `simplify` that can be used to simplify this expression."
   ]
  },
  {
   "cell_type": "code",
   "execution_count": 9,
   "metadata": {},
   "outputs": [
    {
     "name": "stderr",
     "output_type": "stream",
     "text": [
      "Version 1.0.6\n"
     ]
    }
   ],
   "source": [
    "%run Rewrite.ipynb"
   ]
  },
  {
   "cell_type": "code",
   "execution_count": 10,
   "metadata": {},
   "outputs": [],
   "source": [
    "%unload_ext nb_mypy"
   ]
  },
  {
   "cell_type": "code",
   "execution_count": 11,
   "metadata": {},
   "outputs": [
    {
     "data": {
      "text/plain": [
       "(('a', '⋅', (('b', '⋅', 'a'), '*')), '⋅', 'b')"
      ]
     },
     "execution_count": 11,
     "metadata": {},
     "output_type": "execute_result"
    }
   ],
   "source": [
    "s = simplify(r)\n",
    "s"
   ]
  },
  {
   "cell_type": "markdown",
   "metadata": {},
   "source": [
    "The function `regexp_2_string` takes a regular expression that is represented as a nested tuple and transforms it into a string."
   ]
  },
  {
   "cell_type": "code",
   "execution_count": 12,
   "metadata": {},
   "outputs": [],
   "source": [
    "def regexp_2_string(r):\n",
    "    if r == 0: \n",
    "        return '0'\n",
    "    if r == '𝜀': \n",
    "        return '𝜀'\n",
    "    if isinstance(r, str): # single characters\n",
    "        return r\n",
    "    if r[1] == '⋅': # concatenation\n",
    "        r1, _, r2 = r\n",
    "        return regexp_2_string(r1) + '⋅' + regexp_2_string(r2)        \n",
    "    if r[1] == '+':\n",
    "        r1, _, r2 = r\n",
    "        return '(' + regexp_2_string(r1) + '+' + regexp_2_string(r2) + ')'\n",
    "    if r[1] == '*': \n",
    "        r0 = r[0]\n",
    "        if isinstance(r0, str):\n",
    "            return regexp_2_string(r0) +'*'\n",
    "        else:\n",
    "            return '(' + regexp_2_string(r0) + ')*'\n",
    "    raise Exception(f'{r} is not a suitable regular expression')"
   ]
  },
  {
   "cell_type": "code",
   "execution_count": 13,
   "metadata": {},
   "outputs": [
    {
     "name": "stdout",
     "output_type": "stream",
     "text": [
      "a⋅(b⋅a)*⋅b\n"
     ]
    }
   ],
   "source": [
    "print(regexp_2_string(s))"
   ]
  },
  {
   "cell_type": "code",
   "execution_count": null,
   "metadata": {},
   "outputs": [],
   "source": []
  }
 ],
 "metadata": {
  "kernelspec": {
   "display_name": "Python 3 (ipykernel)",
   "language": "python",
   "name": "python3"
  },
  "language_info": {
   "codemirror_mode": {
    "name": "ipython",
    "version": 3
   },
   "file_extension": ".py",
   "mimetype": "text/x-python",
   "name": "python",
   "nbconvert_exporter": "python",
   "pygments_lexer": "ipython3",
   "version": "3.13.7"
  },
  "varInspector": {
   "cols": {
    "lenName": 16,
    "lenType": 16,
    "lenVar": 40
   },
   "kernels_config": {
    "python": {
     "delete_cmd_postfix": "",
     "delete_cmd_prefix": "del ",
     "library": "var_list.py",
     "varRefreshCmd": "print(var_dic_list())"
    },
    "r": {
     "delete_cmd_postfix": ") ",
     "delete_cmd_prefix": "rm(",
     "library": "var_list.r",
     "varRefreshCmd": "cat(var_dic_list()) "
    }
   },
   "types_to_exclude": [
    "module",
    "function",
    "builtin_function_or_method",
    "instance",
    "_Feature"
   ],
   "window_display": false
  }
 },
 "nbformat": 4,
 "nbformat_minor": 4
}
