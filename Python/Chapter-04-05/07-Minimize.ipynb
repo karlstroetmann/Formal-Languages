{
 "cells": [
  {
   "cell_type": "code",
   "execution_count": null,
   "metadata": {},
   "outputs": [],
   "source": [
    "from IPython.display import HTML\n",
    "HTML(open('../style.css', 'r').read())"
   ]
  },
  {
   "cell_type": "code",
   "execution_count": null,
   "metadata": {},
   "outputs": [],
   "source": [
    "%load_ext nb_mypy"
   ]
  },
  {
   "cell_type": "code",
   "execution_count": null,
   "metadata": {},
   "outputs": [],
   "source": [
    "from typing import TypeVar"
   ]
  },
  {
   "cell_type": "markdown",
   "metadata": {},
   "source": [
    "# Minimizing a Finite State Machine\n",
    "\n",
    "In this notebook we show how a <span style=\"font-variant:small-caps;\">Dfa</span> can be minimized by identifying states the are equivalent."
   ]
  },
  {
   "cell_type": "markdown",
   "metadata": {},
   "source": [
    "## Some Type Definitions"
   ]
  },
  {
   "cell_type": "markdown",
   "metadata": {},
   "source": [
    "* `Char` is an alias for `str`.\n",
    "* `State` is the abstract type of the states that make up the deterministic <span style=\"font-variant:small-caps;\">Fsm</span>."
   ]
  },
  {
   "cell_type": "code",
   "execution_count": null,
   "metadata": {},
   "outputs": [],
   "source": [
    "Char  = str\n",
    "State = TypeVar('State')"
   ]
  },
  {
   "cell_type": "markdown",
   "metadata": {},
   "source": [
    "`TransRel` is the type that describes the transition function $\\delta$."
   ]
  },
  {
   "cell_type": "code",
   "execution_count": null,
   "metadata": {},
   "outputs": [],
   "source": [
    "TransRel = dict[tuple[State, Char], State]"
   ]
  },
  {
   "cell_type": "markdown",
   "metadata": {},
   "source": [
    "`DFA` is the type that describes the deterministic <span style=\"font-variant:small-caps;\">Fsm</span>."
   ]
  },
  {
   "cell_type": "code",
   "execution_count": null,
   "metadata": {},
   "outputs": [],
   "source": [
    "DFA = tuple[set[State], set[Char], TransRel, State, set[State]]"
   ]
  },
  {
   "cell_type": "markdown",
   "metadata": {},
   "source": [
    "`Pair` is a pair of states."
   ]
  },
  {
   "cell_type": "code",
   "execution_count": null,
   "metadata": {},
   "outputs": [],
   "source": [
    "Pair = tuple[State, State]"
   ]
  },
  {
   "cell_type": "markdown",
   "metadata": {},
   "source": [
    "The states of the minimized <span style=\"font-variant:small-caps;\">Dfa</span> will be  sets of states of the original <span style=\"font-variant:small-caps;\">Dfa</span>.  These states will contain those states that are *equivalent*."
   ]
  },
  {
   "cell_type": "code",
   "execution_count": null,
   "metadata": {},
   "outputs": [],
   "source": [
    "SetState = frozenset[State]"
   ]
  },
  {
   "cell_type": "code",
   "execution_count": null,
   "metadata": {},
   "outputs": [],
   "source": [
    "TransRelSet = dict[tuple[SetState, Char], SetState]"
   ]
  },
  {
   "cell_type": "code",
   "execution_count": null,
   "metadata": {},
   "outputs": [],
   "source": [
    "Min_DFA = tuple[set[SetState], set[Char], TransRelSet, SetState, set[SetState]]"
   ]
  },
  {
   "cell_type": "markdown",
   "metadata": {},
   "source": [
    "The function `arb(M)` takes a non-empty set `M` as its argument and returns an *arbitrary* element from this set.  The set `M` is not changed.  The function `arb`also works if `M` is a `frozenset`. \n",
    "\n",
    "In order to type-check this function we define an abstract type `S` that serves as a *type parameter* and  denotes the type of the elements of the set `M`."
   ]
  },
  {
   "cell_type": "code",
   "execution_count": null,
   "metadata": {},
   "outputs": [],
   "source": [
    "def arb[S](M: set[S] | frozenset[S]) -> S:\n",
    "    x, *_ = M\n",
    "    return x"
   ]
  },
  {
   "cell_type": "markdown",
   "metadata": {},
   "source": [
    "The function `cart_prod(A, B)` computes the *Cartesian product* $A \\times B$ of the sets $A$ and $B$ where $A \\times B$ is defined as follows:\n",
    "$$ A \\times B := \\{ (x, y) \\mid x \\in A \\wedge y \\in B \\}. $$\n",
    "In order to denote the type of the second set, we define the abstract type `T`."
   ]
  },
  {
   "cell_type": "code",
   "execution_count": null,
   "metadata": {},
   "outputs": [],
   "source": [
    "def cart_prod[S, T](A: set[S], B: set[T]) -> set[tuple[S, T]]:\n",
    "    return { (x, y) for x in A for y in B }"
   ]
  },
  {
   "cell_type": "code",
   "execution_count": null,
   "metadata": {},
   "outputs": [],
   "source": [
    "cart_prod({1, 2}, {'a', 'b', 'c'})"
   ]
  },
  {
   "cell_type": "markdown",
   "metadata": {},
   "source": [
    "The function `separate` takes four arguments:\n",
    "- `Pairs`  is a set of pairs of states from some given <span style=\"font-variant:small-caps;\">Dfa</span> $F$.\n",
    "\n",
    "   If $(p_1, p_2) \\in \\texttt{Pairs}$, then $p_1$ and $p_2$ are known to be *separable*.\n",
    "   \n",
    "   Two states $p_1$ and $p_2$ are *separable* if there is a string $w$ such that processing $w$ in state\n",
    "   $p_1$ leads to an accepting state, while processing $w$ in state $p_2$ leads to a state that is not \n",
    "   accepting, or vice versa.\n",
    "- `States` is the set of all states of the <span style=\"font-variant:small-caps;\">Fsm</span> $F$,\n",
    "- `Σ` is the alphabet of the <span style=\"font-variant:small-caps;\">Dfa</span> $F$.\n",
    "- `𝛿` is the transition function of the <span style=\"font-variant:small-caps;\">Dfa</span>\n",
    "\n",
    "The function `separate(Pairs, States, Σ, 𝛿)` computes the set of pairs of states $(q_1, q_2)$ that are *separable* because there is some character $c \\in \\Sigma$ such that \n",
    "$$\\delta(q_1,c) = p_1, \\quad \\textrm{but} \\quad \\delta(q_2,c) = p_2 $$\n",
    "and $(p_1, p_2)$ is already known to be *separable* because $(p_1, p_2) \\in \\textrm{Pairs}$."
   ]
  },
  {
   "cell_type": "code",
   "execution_count": null,
   "metadata": {},
   "outputs": [],
   "source": [
    "def separate(Pairs: set[Pair], States: set[State], Σ: set[Char], 𝛿: TransRel) -> set[Pair]:\n",
    "    Result = { (q1, q2) for q1 in States\n",
    "                        for q2 in States\n",
    "                        for c  in Σ \n",
    "                        if (𝛿[q1, c], 𝛿[q2, c]) in Pairs\n",
    "             }\n",
    "    return Result"
   ]
  },
  {
   "cell_type": "markdown",
   "metadata": {},
   "source": [
    "Given a state `p` and a `Partition` of the set of all states, the function `find_equivalence_class(p, Partition)` returns the equivalence class of `p`, i.e. it returns the set of states from `Partition` that contains the state `x`. "
   ]
  },
  {
   "cell_type": "code",
   "execution_count": null,
   "metadata": {},
   "outputs": [],
   "source": [
    "def find_equivalence_class(p: State, Partition: set[frozenset[State]]) -> frozenset[State]:\n",
    "    return arb({ C for C in Partition if p in C })"
   ]
  },
  {
   "cell_type": "markdown",
   "metadata": {},
   "source": [
    "The function `all_separable(Q, A, Σ, 𝛿)` takes four arguments:\n",
    "* `Q` is the set of states of the Fsm.\n",
    "* `A` is the set of all accepting states,\n",
    "* `Σ`  is the alphabet.\n",
    "* `𝛿` is the transition function.  \n",
    "\n",
    "  `𝛿` is represented as a dictionary.   \n",
    "\n",
    "The function computes the set of all Pairs `(p, q)` such that `p` and `q` are separable, i.e. all pairs such that\n",
    "$$ \\exists s \\in \\Sigma^*: \\bigl(\\delta^*(p, s) \\in A \\wedge \\delta^*(q,s) \\not\\in A\\bigr) \\vee \n",
    "                           \\bigl(\\delta^*(p, s) \\not\\in A \\wedge \\delta^*(q,s) \\in A\\bigr). \n",
    "$$\n",
    "The result is computed via a *fixed point* computation:\n",
    "1. Initially, all accepting states are separated from the non-accepting states.\n",
    "2. If $p_1$ and $p_2$ are separable and $q_1$ and $q_2$ are two states such that there is a character \n",
    "   $c \\in \\Sigma$ such that\n",
    "   $$ \\delta(q_1, c) = p_1 \\quad \\mbox{and} \\quad \\delta(q_2, c) = p_2, $$\n",
    "   then $q_1$ and $q_2$ are separable."
   ]
  },
  {
   "cell_type": "code",
   "execution_count": null,
   "metadata": {},
   "outputs": [],
   "source": [
    "def all_separable(Q: set[State], A: set[State], Σ: set[Char], 𝛿: TransRel) -> set[Pair]:\n",
    "        Separable = cart_prod(Q - A, A) | cart_prod(A, Q - A)\n",
    "        while True:\n",
    "            NewPairs = separate(Separable, Q, Σ, 𝛿)\n",
    "            if NewPairs <= Separable:\n",
    "                return Separable\n",
    "            Separable |= NewPairs"
   ]
  },
  {
   "cell_type": "markdown",
   "metadata": {},
   "source": [
    "The function `reachable(q0, Σ, 𝛿)` takes three arguments:\n",
    "* `q0` is the start state of an Fsm,\n",
    "* `Σ`  is the alphabet.\n",
    "* `𝛿`  is the transition function.  The transition function is assumed to be *complete*. `𝛿` is represented as a dictionary.   \n",
    "\n",
    "It returns the set of all states that can be reached from the start state `q0` by reading strings of characters from `Σ`.\n",
    "\n",
    "The result is computed via a *fixed point* computation."
   ]
  },
  {
   "cell_type": "code",
   "execution_count": null,
   "metadata": {},
   "outputs": [],
   "source": [
    "def reachable(q0: State, Σ: set[str], 𝛿: TransRel) -> set[State]:\n",
    "    Result = { q0 }\n",
    "    while True:\n",
    "        NewStates = { 𝛿[p, c] for p in Result for c in Σ }\n",
    "        if NewStates <= Result:\n",
    "            return Result\n",
    "        Result |= NewStates"
   ]
  },
  {
   "cell_type": "markdown",
   "metadata": {},
   "source": [
    "The function `minimize(A)` takes a <span style=\"font-variant:small-caps;\">Dfa</span> `F` as its input.\n",
    "Here `F` is a 5-tuple of the form\n",
    "$$ F = (Q, \\Sigma, \\delta, q_0, A) $$\n",
    "The algorithm performs the following steps:\n",
    "1. All unreachable states are eliminated.\n",
    "2. All accepting states are separated form all non-accepting states.\n",
    "3. States are separated as long as possible.\n",
    "   Two states $p_1$ and $p_2$ are separable if there is a string \n",
    "   $w \\in \\Sigma^*$ such that \n",
    "   $$ \\Bigl(\\delta(p_1,w) \\in A \\;\\wedge\\; \\delta(p_2,w) \\not\\in A\\Bigr) \\quad \\vee \\quad \n",
    "      \\Bigl(\\delta(p_1,w) \\not\\in A \\;\\wedge\\; \\delta(p_2,w) \\in A\\Bigr)\n",
    "   $$\n",
    "4. States that are not separable are *equivalent* and are therefore identified and grouped\n",
    "   in equivalence classes.  The states in an equivalence class are then identified."
   ]
  },
  {
   "cell_type": "code",
   "execution_count": null,
   "metadata": {},
   "outputs": [],
   "source": [
    "def minimize(F: DFA) -> Min_DFA:\n",
    "    Q, Σ, 𝛿, q0, A = F\n",
    "    Q              = reachable(q0, Σ, 𝛿)\n",
    "    Separable      = all_separable(Q, A, Σ, 𝛿)\n",
    "    Equivalent     = cart_prod(Q, Q) - Separable\n",
    "    EquivClasses   = { frozenset({ p for p in Q if (p, q) in Equivalent })\n",
    "                       for q in Q\n",
    "                     }\n",
    "    newQ0          = arb({ M for M in EquivClasses if q0 in M })\n",
    "    newAccept      = { M for M in EquivClasses if arb(M) in A }   \n",
    "    newDelta       = {}\n",
    "    for q in Q:\n",
    "        for c in Σ:\n",
    "            p = 𝛿.get((q, c))\n",
    "            if p != None:\n",
    "                classOfP = find_equivalence_class(p, EquivClasses)\n",
    "                classOfQ = find_equivalence_class(q, EquivClasses)\n",
    "                newDelta[(classOfQ, c)] = classOfP\n",
    "            else:\n",
    "                newDelta[(classOfQ, c)] = frozenset()\n",
    "    return EquivClasses, Σ, newDelta, newQ0, newAccept"
   ]
  },
  {
   "cell_type": "code",
   "execution_count": null,
   "metadata": {},
   "outputs": [],
   "source": []
  }
 ],
 "metadata": {
  "kernelspec": {
   "display_name": "Python 3 (ipykernel)",
   "language": "python",
   "name": "python3"
  },
  "language_info": {
   "codemirror_mode": {
    "name": "ipython",
    "version": 3
   },
   "file_extension": ".py",
   "mimetype": "text/x-python",
   "name": "python",
   "nbconvert_exporter": "python",
   "pygments_lexer": "ipython3",
   "version": "3.13.7"
  },
  "varInspector": {
   "cols": {
    "lenName": 16,
    "lenType": 16,
    "lenVar": 40
   },
   "kernels_config": {
    "python": {
     "delete_cmd_postfix": "",
     "delete_cmd_prefix": "del ",
     "library": "var_list.py",
     "varRefreshCmd": "print(var_dic_list())"
    },
    "r": {
     "delete_cmd_postfix": ") ",
     "delete_cmd_prefix": "rm(",
     "library": "var_list.r",
     "varRefreshCmd": "cat(var_dic_list()) "
    }
   },
   "types_to_exclude": [
    "module",
    "function",
    "builtin_function_or_method",
    "instance",
    "_Feature"
   ],
   "window_display": false
  }
 },
 "nbformat": 4,
 "nbformat_minor": 4
}
