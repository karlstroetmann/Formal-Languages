{
 "cells": [
  {
   "cell_type": "code",
   "execution_count": null,
   "metadata": {},
   "outputs": [],
   "source": [
    "from IPython.display import HTML\n",
    "HTML(open('../style.css', 'r').read())"
   ]
  },
  {
   "cell_type": "code",
   "execution_count": null,
   "metadata": {},
   "outputs": [],
   "source": [
    "%load_ext nb_mypy"
   ]
  },
  {
   "cell_type": "code",
   "execution_count": null,
   "metadata": {},
   "outputs": [],
   "source": [
    "from typing import TypeVar\n",
    "from collections.abc import Iterable"
   ]
  },
  {
   "cell_type": "markdown",
   "metadata": {},
   "source": [
    "# Checking the Equivalence of Regular Expressions"
   ]
  },
  {
   "cell_type": "markdown",
   "metadata": {},
   "source": [
    "In order to check whether two regular expressions $r_1$ and $r_2$ are *equivalent*, perform the \n",
    "following steps:\n",
    "- convert the regular expressions $r_1$ and $r_2$ into *NFAs*\n",
    "  $F_1$ and $F_2$ such that $L(r_1) = L(F_1)$ and $L(r_2) = L(F_2)$,\n",
    "- convert the *NFAs* $F_1$ and $F_2$ into *DFAs*\n",
    "  $D_1$ and $D_2$ such that $L(D_1) = L(F_1)$ and $L(D_2) = L(F_2)$\n",
    "- check whether both $L(D_1) \\backslash L(D_2)$ and $L(D_2) \\backslash L(D_1)$ are empty."
   ]
  },
  {
   "cell_type": "markdown",
   "metadata": {},
   "source": [
    "The notebook `Regexp-2-NFA.ipynb` contains the function `RegExp2NFA.toNFA` that can be used to compute a non-deterministic \n",
    "<span style=\"font-variant:small-caps;\">Fsm</span> that accepts the language described by a given regular expression."
   ]
  },
  {
   "cell_type": "code",
   "execution_count": null,
   "metadata": {},
   "outputs": [],
   "source": [
    "%run 03-Regexp-2-NFA.ipynb"
   ]
  },
  {
   "cell_type": "markdown",
   "metadata": {},
   "source": [
    "`NFA-2-DFA.ipynb` contains the function `nfa2dfa` that converts a non-deterministic \n",
    "*Fsm* into an equivalent deterministic *Fsm*."
   ]
  },
  {
   "cell_type": "code",
   "execution_count": null,
   "metadata": {},
   "outputs": [],
   "source": [
    "%run 01-NFA-2-DFA.ipynb"
   ]
  },
  {
   "cell_type": "markdown",
   "metadata": {},
   "source": [
    "Given two sets `A` and `B`, the function `cartesian_product(A, B)` computes the \n",
    "<em style=\"color:blue\">cartesian product</em> $A \\times B$ which is defined as\n",
    "$$ A \\times B := \\{ (x, y) \\mid x \\in A \\wedge y \\in B \\}. $$"
   ]
  },
  {
   "cell_type": "code",
   "execution_count": null,
   "metadata": {},
   "outputs": [],
   "source": [
    "def cartesian_product[S, T](A: set[S], B: set[T]) -> set[tuple[S, T]]:\n",
    "    return { (x, y) for x in A\n",
    "                    for y in B\n",
    "           }"
   ]
  },
  {
   "cell_type": "code",
   "execution_count": null,
   "metadata": {},
   "outputs": [],
   "source": [
    "cartesian_product({1, 2}, {'a', 'b'})"
   ]
  },
  {
   "cell_type": "code",
   "execution_count": null,
   "metadata": {},
   "outputs": [],
   "source": [
    "Char      = str\n",
    "State     = TypeVar('State')\n",
    "StatePair = tuple[State, State]\n",
    "TransRel1 = dict[tuple[State, Char], State]\n",
    "TransRel2 = dict[tuple[StatePair, Char], StatePair]\n",
    "DFA1      = tuple[set[State], set[Char], TransRel1, State, set[State]]\n",
    "DFA2      = tuple[set[StatePair], set[Char], TransRel2, StatePair, set[StatePair]]"
   ]
  },
  {
   "cell_type": "markdown",
   "metadata": {},
   "source": [
    "Given to deterministic *FSMs* `F1` and `F2`, the expression `fsm_complement(F1, F2)` computes a deterministic \n",
    "*FSM* that recognizes the language  $L(F_1)\\backslash L(F_2)$."
   ]
  },
  {
   "cell_type": "code",
   "execution_count": null,
   "metadata": {},
   "outputs": [],
   "source": [
    "def fsm_complement(F1: DFA1, F2: DFA1) -> DFA2:\n",
    "    States1, Σ, 𝛿1, q1, A1 = F1\n",
    "    States2, _, 𝛿2, q2, A2 = F2\n",
    "    States = cartesian_product(States1, States2)\n",
    "    𝛿 = {}\n",
    "    for p1, p2 in States:\n",
    "        for c in Σ:\n",
    "            𝛿[(p1, p2), c] = (𝛿1[p1, c], 𝛿2[p2, c])\n",
    "    return States, Σ, 𝛿, (q1, q2), cartesian_product(A1, States2 - A2)"
   ]
  },
  {
   "cell_type": "code",
   "execution_count": null,
   "metadata": {},
   "outputs": [],
   "source": [
    "from typing import Literal"
   ]
  },
  {
   "cell_type": "code",
   "execution_count": null,
   "metadata": {},
   "outputs": [],
   "source": [
    "BinaryOp = Literal['⋅', '+']\n",
    "UnaryOp  = Literal['*']"
   ]
  },
  {
   "cell_type": "code",
   "execution_count": null,
   "metadata": {},
   "outputs": [],
   "source": [
    "Char   = str\n",
    "RegExp = TypeVar('RegExp')\n",
    "RegExp = int | Char | tuple[RegExp, UnaryOp] | tuple[RegExp, BinaryOp, RegExp]"
   ]
  },
  {
   "cell_type": "markdown",
   "metadata": {},
   "source": [
    "Given a regular expression $r$ and an alphabet $\\Sigma$, the function $\\texttt{regexp2DFA}(r, \\Sigma)$\n",
    "computes a *DFA* that accepts the language specified by $r$.\n",
    "\n",
    "We have to use `# type: ignore`here because the class `RegExp2NFA`and the function `nfa2dfa` have been\n",
    "defined in a different notebook."
   ]
  },
  {
   "cell_type": "code",
   "execution_count": null,
   "metadata": {},
   "outputs": [],
   "source": [
    "def regexp2DFA(r: RegExp, Σ: set[Char]) -> DFA1:\n",
    "    converter = RegExp2NFA(Σ)       # type: ignore\n",
    "    nfa       = converter.toNFA(r)\n",
    "    dfa       = nfa2dfa(nfa)        # type: ignore\n",
    "    return dfa # type: ignore"
   ]
  },
  {
   "cell_type": "markdown",
   "metadata": {},
   "source": [
    "Given a deterministic *FSM* $F$ the function \n",
    "`is_empty(F)` checks whether the language accepted by $F$ is empty.\n",
    "In this function, the variable `Reachable` is the set of those states that are already known to be reachable\n",
    "from the start state `q0`. `NewFound` are those states that can be reached from a state in the set \n",
    "`Reachable`.  When we find no new states that are reachable, the iteration stops and we check whether\n",
    "there is a state that is both reachable and acceptable because in that case the language is not empty."
   ]
  },
  {
   "cell_type": "code",
   "execution_count": null,
   "metadata": {},
   "outputs": [],
   "source": [
    "def is_empty(F: DFA2) -> bool:\n",
    "    States, Σ, δ, q0, Accepting = F\n",
    "    Reachable = { q0 }\n",
    "    while True:\n",
    "        NewFound = { δ[q, c] for q in Reachable for c in Σ }\n",
    "        if NewFound <= Reachable:\n",
    "            break\n",
    "        Reachable |= NewFound\n",
    "    return Reachable & Accepting == set()"
   ]
  },
  {
   "cell_type": "markdown",
   "metadata": {},
   "source": [
    "The function `regExpEquiv` takes three arguments:\n",
    "- $r_1$ and $r_2$ are regular expressions,\n",
    "- $\\Sigma$ is the alphabet used in these regular expressions.\n",
    "\n",
    "The function returns `True` iff $r_1 \\doteq r_2$, i.e. if $r_1$ and $r_2$ are equivalent. "
   ]
  },
  {
   "cell_type": "code",
   "execution_count": null,
   "metadata": {},
   "outputs": [],
   "source": [
    "def regExpEquiv(r1: RegExp, r2: RegExp, Σ: set[Char]) -> bool:\n",
    "    F1 = regexp2DFA(r1, Σ)\n",
    "    F2 = regexp2DFA(r2, Σ)    \n",
    "    r1_minus_r2 = fsm_complement(F1, F2)\n",
    "    r2_minus_r1 = fsm_complement(F2, F1)\n",
    "    return is_empty(r1_minus_r2) and is_empty(r2_minus_r1)"
   ]
  },
  {
   "cell_type": "markdown",
   "metadata": {},
   "source": [
    "The notebook `Test-Equivalence.ipynb` can be used to test this function."
   ]
  },
  {
   "cell_type": "code",
   "execution_count": null,
   "metadata": {},
   "outputs": [],
   "source": []
  }
 ],
 "metadata": {
  "kernelspec": {
   "display_name": "Python 3 (ipykernel)",
   "language": "python",
   "name": "python3"
  },
  "language_info": {
   "codemirror_mode": {
    "name": "ipython",
    "version": 3
   },
   "file_extension": ".py",
   "mimetype": "text/x-python",
   "name": "python",
   "nbconvert_exporter": "python",
   "pygments_lexer": "ipython3",
   "version": "3.13.7"
  },
  "varInspector": {
   "cols": {
    "lenName": 16,
    "lenType": 16,
    "lenVar": 40
   },
   "kernels_config": {
    "python": {
     "delete_cmd_postfix": "",
     "delete_cmd_prefix": "del ",
     "library": "var_list.py",
     "varRefreshCmd": "print(var_dic_list())"
    },
    "r": {
     "delete_cmd_postfix": ") ",
     "delete_cmd_prefix": "rm(",
     "library": "var_list.r",
     "varRefreshCmd": "cat(var_dic_list()) "
    }
   },
   "types_to_exclude": [
    "module",
    "function",
    "builtin_function_or_method",
    "instance",
    "_Feature"
   ],
   "window_display": false
  }
 },
 "nbformat": 4,
 "nbformat_minor": 4
}
