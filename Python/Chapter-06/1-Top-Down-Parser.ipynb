{
 "cells": [
  {
   "cell_type": "code",
   "execution_count": null,
   "metadata": {},
   "outputs": [],
   "source": [
    "from IPython.display import HTML\n",
    "HTML(open('../style.css').read())"
   ]
  },
  {
   "cell_type": "code",
   "execution_count": null,
   "metadata": {},
   "outputs": [],
   "source": [
    "%load_ext nb_mypy"
   ]
  },
  {
   "cell_type": "markdown",
   "metadata": {},
   "source": [
    "# A Recursive Parser for Arithmetic Expressions\n",
    "\n",
    "In this notebook we implement a simple *recursive descend* parser for arithmetic expressions.\n",
    "This parser will implement the following grammar:\n",
    "$$\n",
    "  \\begin{eqnarray*}\n",
    "  \\mathrm{expr}        & \\rightarrow & \\mathrm{product}\\;\\;\\mathrm{exprRest}            \\\\[0.2cm]\n",
    "  \\mathrm{exprRest}    & \\rightarrow & \\texttt{'+'} \\;\\;\\mathrm{product}\\;\\;\\mathrm{exprRest}   \\\\\n",
    "                       & \\mid        & \\texttt{'-'} \\;\\;\\mathrm{product}\\;\\;\\mathrm{exprRest}   \\\\\n",
    "                       & \\mid        & \\lambda                                      \\\\[0.2cm]\n",
    "  \\mathrm{product}     & \\rightarrow & \\mathrm{factor}\\;\\;\\mathrm{productRest}          \\\\[0.2cm]\n",
    "  \\mathrm{productRest} & \\rightarrow & \\texttt{'*'} \\;\\;\\mathrm{factor}\\;\\;\\mathrm{productRest} \\\\\n",
    "                       & \\mid        & \\texttt{'/'} \\;\\;\\mathrm{factor}\\;\\;\\mathrm{productRest} \\\\\n",
    "                       & \\mid        & \\lambda                                      \\\\[0.2cm]\n",
    "  \\mathrm{factor}      & \\rightarrow & \\texttt{'('} \\;\\;\\mathrm{expr} \\;\\;\\texttt{')'}                \\\\\n",
    "                       & \\mid        & \\texttt{NUMBER} \n",
    "  \\end{eqnarray*}\n",
    "$$"
   ]
  },
  {
   "cell_type": "markdown",
   "metadata": {},
   "source": [
    "## Implementing a Scanner\n",
    "\n",
    "We implement a scanner with the help of the module `re`."
   ]
  },
  {
   "cell_type": "code",
   "execution_count": null,
   "metadata": {},
   "outputs": [],
   "source": [
    "import re"
   ]
  },
  {
   "cell_type": "markdown",
   "metadata": {},
   "source": [
    "The function `tokenize` receives a string `s` as argument and returns a list of tokens.\n",
    "The string `s` is supposed to represent an arithmetical expression. \n",
    "\n",
    "**Note:** \n",
    "1. We need to set the flag `re.VERBOSE` in our call of the function `findall`\n",
    "   below because otherwise we are not able to format the regular expression `lexSpec` the way \n",
    "   we have done it.  Furthermore, we wouldn't have been able to add comments inside the regular expression.\n",
    "2. The regular expression `lexSpec` contains 5 parenthesized groups.  Therefore,\n",
    "   `findall` returns a list of 5-tuples where the 5 components correspond to the 5\n",
    "   groups of the regular expression."
   ]
  },
  {
   "cell_type": "code",
   "execution_count": null,
   "metadata": {},
   "outputs": [],
   "source": [
    "def tokenize(s: str) -> list[str]:\n",
    "    '''Transform the string s into a list of tokens.  The string s\n",
    "       is supposed to represent an arithmetic expression.\n",
    "    '''\n",
    "    lexSpec = r'''[ \\t]+        |  # blanks and tabs\n",
    "                  [1-9][0-9]*|0 |  # numbers\n",
    "                  [-+*/()]      |  # arithmetical operators and parentheses\n",
    "               '''\n",
    "    tokenList = re.findall(lexSpec, s, re.VERBOSE)\n",
    "    result    = []\n",
    "    for token in tokenList:\n",
    "        if token == '' or token[0] in [' ', '\\t']:        # skip blanks and tabs\n",
    "            continue\n",
    "        result += [ token ]\n",
    "    return result"
   ]
  },
  {
   "cell_type": "code",
   "execution_count": null,
   "metadata": {},
   "outputs": [],
   "source": [
    "tokenize('123 + (234 +  345 - 2**0)/7')"
   ]
  },
  {
   "cell_type": "markdown",
   "metadata": {},
   "source": [
    "## Implementing the Recursive Descend Parser"
   ]
  },
  {
   "cell_type": "markdown",
   "metadata": {},
   "source": [
    "The next cell contains type declarations needed by `mypy`."
   ]
  },
  {
   "cell_type": "code",
   "execution_count": null,
   "metadata": {},
   "outputs": [],
   "source": [
    "def parseExpr(TL: list[str]) -> tuple[float, list[str]]:\n",
    "    return None # type: ignore\n",
    "\n",
    "def parseExprRest(Sum: float, TL: list[str]) -> tuple[float, list[str]]:\n",
    "    return None # type: ignore\n",
    "\n",
    "def parseProduct(TL: list[str]) -> tuple[float, list[str]]:\n",
    "    return None # type: ignore\n",
    "\n",
    "def parseProductRest(product: float, TL: list[str]) -> tuple[float, list[str]]:\n",
    "    return None # type: ignore\n",
    "\n",
    "def parseFactor(TL: list[str]) -> tuple[float, list[str]]:\n",
    "    return None # type: ignore"
   ]
  },
  {
   "cell_type": "markdown",
   "metadata": {},
   "source": [
    "The function `parse` takes a string `s` as input and parses this string according to the recursive grammar\n",
    "shown above.  The function returns the floating point number that results from evaluation the expression given in the string `s`. "
   ]
  },
  {
   "cell_type": "code",
   "execution_count": null,
   "metadata": {},
   "outputs": [],
   "source": [
    "def parse(s: str) -> float:\n",
    "    TL           = tokenize(s)\n",
    "    result, Rest = parseExpr(TL)\n",
    "    assert Rest == [], f'Parse Error: could not parse {TL}'\n",
    "    return result"
   ]
  },
  {
   "cell_type": "markdown",
   "metadata": {},
   "source": [
    "The function `parseExpr` implements the following grammar rule:\n",
    "$$ \\mathrm{expr} \\rightarrow \\;\\mathrm{product}\\;\\;\\mathrm{exprRest} $$\n",
    "It takes a token list `TL` as its input and returns a pair of the form `(value, Rest)` where\n",
    "- `value` is the result of evaluating the arithmetical expression\n",
    "  that is represented by `TL` and\n",
    "- `Rest` is a list of those tokens that have not been consumed during the parse process. "
   ]
  },
  {
   "cell_type": "code",
   "execution_count": null,
   "metadata": {},
   "outputs": [],
   "source": [
    "def parseExpr(TL: list[str]) -> tuple[float, list[str]]:\n",
    "    product, Rest = parseProduct(TL)\n",
    "    return parseExprRest(product, Rest)"
   ]
  },
  {
   "cell_type": "markdown",
   "metadata": {},
   "source": [
    "The function `parseExprRest` implements the following grammar rules:\n",
    "$$\n",
    "  \\begin{eqnarray*}\n",
    "  \\mathrm{exprRest}    & \\rightarrow & \\texttt{'+'} \\;\\;\\mathrm{product}\\;\\;\\mathrm{exprRest}   \\\\\n",
    "                       & \\mid        & \\texttt{'-'} \\;\\;\\mathrm{product}\\;\\;\\mathrm{exprRest}   \\\\\n",
    "                       & \\mid        & \\;\\lambda                                     \\\\[0.2cm]\n",
    "  \\end{eqnarray*}\n",
    "$$\n",
    "It takes two arguments:\n",
    "- `Sum` is the value that has already been computed from the tokens parsed so far,\n",
    "- `TL` is the list of tokens that still need to be consumed.\n",
    "\n",
    "It returns a pair of the form `(value, Rest)` where\n",
    "- `value` is the result of evaluating the arithmetical expression\n",
    "  that is represented by `TL` and\n",
    "- `Rest` is a list of those tokens that have not been consumed during the parse process. "
   ]
  },
  {
   "cell_type": "code",
   "execution_count": null,
   "metadata": {},
   "outputs": [],
   "source": [
    "def parseExprRest(Sum: float, TL: list[str]) -> tuple[float, list[str]]:\n",
    "    match TL:\n",
    "        case []:\n",
    "            return Sum, []\n",
    "        case '+', *RL:\n",
    "            product, Rest = parseProduct(RL)\n",
    "            return parseExprRest(Sum + product, Rest)\n",
    "        case '-', *RL:\n",
    "            product, Rest = parseProduct(RL)\n",
    "            return parseExprRest(Sum - product, Rest)\n",
    "        case _:\n",
    "            return Sum, TL"
   ]
  },
  {
   "cell_type": "markdown",
   "metadata": {},
   "source": [
    "The function `parseProduct` implements the following grammar rule:\n",
    "$$ \\mathrm{product} \\rightarrow \\;\\mathrm{factor}\\;\\;\\mathrm{productRest} $$\n",
    "\n",
    "It takes one argument:\n",
    "- `TL` is the list of tokens that need to be consumed.\n",
    "\n",
    "It returns a pair of the form `(value, Rest)` where\n",
    "- `value` is the result of evaluating the arithmetical expression\n",
    "  that is represented by `TL` and\n",
    "- `Rest` is a list of those tokens that have not been consumed while trying to parse a product."
   ]
  },
  {
   "cell_type": "code",
   "execution_count": null,
   "metadata": {},
   "outputs": [],
   "source": [
    "def parseProduct(TL: list[str]) -> tuple[float, list[str]]:\n",
    "    factor, Rest = parseFactor(TL)\n",
    "    return parseProductRest(factor, Rest)"
   ]
  },
  {
   "cell_type": "markdown",
   "metadata": {},
   "source": [
    "The function `parseProductRest` implements the following grammar rules:\n",
    "$$\n",
    "  \\begin{eqnarray*}\n",
    "  \\mathrm{productRest} & \\rightarrow & \\texttt{'*'} \\;\\;\\mathrm{factor}\\;\\;\\mathrm{productRest} \\\\\n",
    "                       & \\mid        & \\texttt{'/'} \\;\\;\\mathrm{factor}\\;\\;\\mathrm{productRest} \\\\\n",
    "                       & \\mid        & \\;\\lambda    \\\\                                  \n",
    "  \\end{eqnarray*}\n",
    "$$\n",
    "\n",
    "It takes two arguments:\n",
    "- `product` is the value that has already been parsed,\n",
    "- `TL` is the list of tokens that still need to be consumed.\n",
    "\n",
    "It returns a pair of the form `(value, Rest)` where\n",
    "- `value` is the result of evaluating the arithmetical expression\n",
    "  that is represented by `TL` and\n",
    "- `Rest` is a list of those tokens that have not been consumed while trying to parse the rest of a product."
   ]
  },
  {
   "cell_type": "code",
   "execution_count": null,
   "metadata": {},
   "outputs": [],
   "source": [
    "def parseProductRest(product: float, TL: list[str]) -> tuple[float, list[str]]:\n",
    "    match TL:\n",
    "        case []:\n",
    "            return product, []\n",
    "        case '*', *RL: \n",
    "            factor, Rest = parseFactor(RL)\n",
    "            return parseProductRest(product * factor, Rest)\n",
    "        case '/', *RL:\n",
    "            factor, Rest = parseFactor(RL)\n",
    "            return parseProductRest(product / factor, Rest)\n",
    "        case _:\n",
    "            return product, TL"
   ]
  },
  {
   "cell_type": "markdown",
   "metadata": {},
   "source": [
    "The function `parseFactor` implements the following grammar rules:\n",
    "$$\n",
    "  \\begin{eqnarray*}\n",
    "  \\mathrm{factor}      & \\rightarrow & \\texttt{'('} \\;\\;\\mathrm{expr} \\;\\;\\texttt{')'}                \\\\\n",
    "                       & \\mid        & \\;\\texttt{NUMBER} \n",
    "  \\end{eqnarray*}\n",
    "$$\n",
    "\n",
    "It takes one argument:\n",
    "- `TL` is the list of tokens that still need to be consumed.\n",
    "\n",
    "It returns a pair of the form `(value, Rest)` where\n",
    "- `value` is the result of evaluating the arithmetical expression\n",
    "  that is represented by `TL` and\n",
    "- `Rest` is a list of those tokens that have not been consumed while trying to parse a factor."
   ]
  },
  {
   "cell_type": "code",
   "execution_count": null,
   "metadata": {},
   "outputs": [],
   "source": [
    "def parseFactor(TL: list[str]) -> tuple[float, list[str]]:\n",
    "    match TL:\n",
    "        case '(', *RL: \n",
    "            expr, Rest = parseExpr(RL)\n",
    "            assert Rest[0] == ')', 'Parse Error: expected \")\"'\n",
    "            return expr, Rest[1:]\n",
    "        case _: \n",
    "            return float(TL[0]), TL[1:]"
   ]
  },
  {
   "cell_type": "markdown",
   "metadata": {},
   "source": [
    "## Testing"
   ]
  },
  {
   "cell_type": "code",
   "execution_count": null,
   "metadata": {},
   "outputs": [],
   "source": [
    "def test(s: str) -> float:\n",
    "    r1 = parse(s)\n",
    "    r2 = eval(s)\n",
    "    assert r1 == r2\n",
    "    return r1"
   ]
  },
  {
   "cell_type": "code",
   "execution_count": null,
   "metadata": {},
   "outputs": [],
   "source": [
    "test('11+22*(33-44)/(5-10*5/(4-3))')"
   ]
  },
  {
   "cell_type": "code",
   "execution_count": null,
   "metadata": {},
   "outputs": [],
   "source": [
    "test('0*11+22*(33-44)/(5-10*5/(4-3))')"
   ]
  },
  {
   "cell_type": "code",
   "execution_count": null,
   "metadata": {},
   "outputs": [],
   "source": [
    "test('2-3-4')"
   ]
  },
  {
   "cell_type": "code",
   "execution_count": null,
   "metadata": {},
   "outputs": [],
   "source": []
  }
 ],
 "metadata": {
  "@webio": {
   "lastCommId": null,
   "lastKernelId": null
  },
  "kernelspec": {
   "display_name": "Python 3 (ipykernel)",
   "language": "python",
   "name": "python3"
  },
  "language_info": {
   "codemirror_mode": {
    "name": "ipython",
    "version": 3
   },
   "file_extension": ".py",
   "mimetype": "text/x-python",
   "name": "python",
   "nbconvert_exporter": "python",
   "pygments_lexer": "ipython3",
   "version": "3.13.5"
  },
  "varInspector": {
   "cols": {
    "lenName": 16,
    "lenType": 16,
    "lenVar": 40
   },
   "kernels_config": {
    "python": {
     "delete_cmd_postfix": "",
     "delete_cmd_prefix": "del ",
     "library": "var_list.py",
     "varRefreshCmd": "print(var_dic_list())"
    },
    "r": {
     "delete_cmd_postfix": ") ",
     "delete_cmd_prefix": "rm(",
     "library": "var_list.r",
     "varRefreshCmd": "cat(var_dic_list()) "
    }
   },
   "types_to_exclude": [
    "module",
    "function",
    "builtin_function_or_method",
    "instance",
    "_Feature"
   ],
   "window_display": false
  }
 },
 "nbformat": 4,
 "nbformat_minor": 4
}
