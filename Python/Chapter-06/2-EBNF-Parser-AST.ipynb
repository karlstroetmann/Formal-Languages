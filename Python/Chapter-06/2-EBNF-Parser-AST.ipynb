{
 "cells": [
  {
   "cell_type": "code",
   "execution_count": 1,
   "metadata": {},
   "outputs": [
    {
     "data": {
      "text/html": [
       "<link href='http://fonts.googleapis.com/css?family=Alegreya+Sans:100,300,400,500,700,800,900,100italic,300italic,400italic,500italic,700italic,800italic,900italic' rel='stylesheet' type='text/css'>\n",
       "<link href='http://fonts.googleapis.com/css?family=Arvo:400,700,400italic' rel='stylesheet' type='text/css'>\n",
       "<link href='http://fonts.googleapis.com/css?family=PT+Mono' rel='stylesheet' type='text/css'>\n",
       "<link href='http://fonts.googleapis.com/css?family=Shadows+Into+Light' rel='stylesheet' type='text/css'>\n",
       "<link href='http://fonts.googleapis.com/css?family=Philosopher:400,700,400italic,700italic' rel='stylesheet' type='text/css'>\n",
       "<link href=\"http://fonts.googleapis.com/css?family=Sacramento\" rel=\"stylesheet\" type=\"text/css\">\n",
       "\n",
       "<style>\n",
       "\n",
       "@font-face {\n",
       "    font-family: \"Computer Modern\";\n",
       "    src: url('http://mirrors.ctan.org/fonts/cm-unicode/fonts/otf/cmunss.otf');\n",
       "}\n",
       "\n",
       ".container { width: 100% }\n",
       "\n",
       "/* Formatting for header cells */\n",
       ".text_cell_render h1 {\n",
       "    font-family: 'Philosopher', sans-serif;\n",
       "    font-weight: 400;\n",
       "    font-size: 2.2em;\n",
       "    line-height: 100%;\n",
       "    color: rgb(0, 80, 120);\n",
       "    margin-bottom: 0.1em;\n",
       "    margin-top: 0.1em;\n",
       "    display: block;\n",
       "}\t\n",
       ".text_cell_render h2 {\n",
       "    font-family: 'Philosopher', serif;\n",
       "    font-weight: 400;\n",
       "    font-size: 1.9em;\n",
       "    line-height: 100%;\n",
       "    color: rgb(200,100,0);\n",
       "    margin-bottom: 0.1em;\n",
       "    margin-top: 0.1em;\n",
       "    display: block;\n",
       "}\t\n",
       "\n",
       ".text_cell_render h3 {\n",
       "    font-family: 'Philosopher', serif;\n",
       "    margin-top:12px;\n",
       "    margin-bottom: 3px;\n",
       "    font-style: italic;\n",
       "    color: rgb(94,127,192);\n",
       "}\n",
       "\n",
       ".text_cell_render h4 {\n",
       "    font-family: 'Philosopher', serif;\n",
       "}\n",
       "\n",
       ".text_cell_render h5 {\n",
       "    font-family: 'Alegreya Sans', sans-serif;\n",
       "    font-weight: 300;\n",
       "    font-size: 16pt;\n",
       "    color: grey;\n",
       "    font-style: italic;\n",
       "    margin-bottom: .1em;\n",
       "    margin-top: 0.1em;\n",
       "    display: block;\n",
       "}\n",
       "\n",
       ".text_cell_render h6 {\n",
       "    font-family: 'PT Mono', sans-serif;\n",
       "    font-weight: 300;\n",
       "    font-size: 10pt;\n",
       "    color: grey;\n",
       "    margin-bottom: 1px;\n",
       "    margin-top: 1px;\n",
       "}\n",
       "\n",
       ".text_cell_render em {\n",
       "    font-family: 'Philosopher', sans-serif;\n",
       "    color:        blue;\n",
       "    background-color: rgb(255,220,180);\n",
       "    font-size:    110%;\n",
       "    margin-left:   2px;\n",
       "    margin-right:  2px;\n",
       "    font-weight:   100;\n",
       "}\n",
       "\n",
       ".text_cell_render b {\n",
       "    color:            rgb(255,195,195);\n",
       "    background-color: rgb(0,0,0);\n",
       "    font-size:    110%;\n",
       "    margin-left:   2px;\n",
       "    margin-right:  2px;\n",
       "    font-weight:   650;\n",
       "}\n",
       "\n",
       ".text_cell_render u {\n",
       "    color:            blue;\n",
       "    font-size:    110%;\n",
       "    margin-left:   2px;\n",
       "    margin-right:  2px;\n",
       "    font-weight:   650;\n",
       "}\n",
       "\n",
       ".text_cell_render tt {\n",
       "    font-size:    120%;\n",
       "    margin-left:   2px;\n",
       "    margin-right:  2px;\n",
       "    font-weight:   150;\n",
       "}\n",
       "\n",
       ".Codemirror {\n",
       "    font-family: \"PT Mono\";\n",
       "    font-size: 100%;\n",
       "}\n",
       "\n",
       "#fancy {\n",
       "    font-family:      Georgia;\n",
       "    position:         relative;\n",
       "    float:            left;\n",
       "    border:           2px solid red;\n",
       "    width:            600px;\n",
       "    padding-left:     20px;\n",
       "    padding-right:    20px;\n",
       "    padding-top:      10px;\n",
       "    font-family:      'Sacramento', cursive;\n",
       "    font-size:        26px;\n",
       "    background-color: #F4EBF3;\n",
       "    border-radius:    15px;\n",
       "}\n",
       "\n",
       "</Style>\n",
       "\n"
      ],
      "text/plain": [
       "<IPython.core.display.HTML object>"
      ]
     },
     "execution_count": 1,
     "metadata": {},
     "output_type": "execute_result"
    }
   ],
   "source": [
    "from IPython.display import HTML\n",
    "HTML(open('../style.css').read())"
   ]
  },
  {
   "cell_type": "code",
   "execution_count": 2,
   "metadata": {},
   "outputs": [
    {
     "name": "stderr",
     "output_type": "stream",
     "text": [
      "Version 1.0.6\n"
     ]
    }
   ],
   "source": [
    "%load_ext nb_mypy"
   ]
  },
  {
   "cell_type": "markdown",
   "metadata": {},
   "source": [
    "# An EBNF based Parser for Arithmetic Expressions\n",
    "\n",
    "In this notebook we implement an <span style=\"font-variant:small-caps;\">Ebnf</span> recursive-descend parser for arithmetic expressions.  This parser implements the following <span style=\"font-variant:small-caps;\">Ebnf</span> grammar:\n",
    "$$\n",
    "  \\begin{eqnarray*}\n",
    "  \\mathrm{expr}    & \\rightarrow & \\mathrm{product}\\;\\;\\bigl((\\texttt{'+'}\\;|\\;\\texttt{'-'})\\;\\; \\mathrm{product}\\bigr)^* \\\\[0.2cm]\n",
    "  \\mathrm{product} & \\rightarrow & \\mathrm{factor} \\;\\;\\bigl((\\texttt{'*'}\\;|\\;\\texttt{'/'})\\;\\; \\mathrm{factor}\\bigr)^*  \\\\[0.2cm]   \n",
    "  \\mathrm{factor}  & \\rightarrow & \\texttt{'('} \\;\\;\\mathrm{expr} \\;\\;\\texttt{')'}                             \\\\\n",
    "                   & \\mid        & \\texttt{NUMBER} \n",
    "  \\end{eqnarray*}\n",
    "$$"
   ]
  },
  {
   "cell_type": "markdown",
   "metadata": {},
   "source": [
    "## The Scanner"
   ]
  },
  {
   "cell_type": "code",
   "execution_count": 3,
   "metadata": {},
   "outputs": [],
   "source": [
    "import re"
   ]
  },
  {
   "cell_type": "markdown",
   "metadata": {},
   "source": [
    "The function `tokenize` receives a string `s` as argument and returns a list of tokens.\n",
    "The string `s` is supposed to represent an arithmetical expression. \n",
    "\n",
    "**Note:** \n",
    " - We need to set the flag `re.VERBOSE` in our call of the function `findall`\n",
    "   below because otherwise we are not able to format the regular expression `lexSpec` the way \n",
    "   we have done it.  Furthermore, we wouldn't have been able to add comments inside the regular expression.\n",
    " - Since the regular expression does not allow white space, `tokenList` will contain lots of \n",
    "   empty strings.  These have to be removed."
   ]
  },
  {
   "cell_type": "code",
   "execution_count": 4,
   "metadata": {},
   "outputs": [],
   "source": [
    "def tokenize(s: str) -> list[str]:\n",
    "    lexSpec = r'''[a-z][0-9]*   |  # variables\n",
    "                  [1-9][0-9]*|0 |  # numbers\n",
    "                  [-+*/()]      |  # arithmetical operators and parentheses\n",
    "               '''\n",
    "    tokenList = re.findall(lexSpec, s, re.VERBOSE)\n",
    "    return [t for t in tokenList if t != '']"
   ]
  },
  {
   "cell_type": "code",
   "execution_count": 5,
   "metadata": {},
   "outputs": [
    {
     "name": "stdout",
     "output_type": "stream",
     "text": [
      "['12', '*', 'x', '+', 'y1', '*', '4', '/', '6', '-', 'z3']\n"
     ]
    }
   ],
   "source": [
    "print(tokenize('12 * x + y1 * 4 / 6 - z3'))"
   ]
  },
  {
   "cell_type": "markdown",
   "metadata": {},
   "source": [
    "## Implementing the Recursive Descend Parser"
   ]
  },
  {
   "cell_type": "markdown",
   "metadata": {},
   "source": [
    "The type `AST` represents an *abstract syntax tree*. "
   ]
  },
  {
   "cell_type": "code",
   "execution_count": 6,
   "metadata": {},
   "outputs": [],
   "source": [
    "from typing import TypeVar\n",
    "from typing import Literal"
   ]
  },
  {
   "cell_type": "code",
   "execution_count": 7,
   "metadata": {},
   "outputs": [],
   "source": [
    "type BinaryOp = Literal['+', '-', '*', '/']\n",
    "AST = TypeVar('AST')\n",
    "AST = float | str | tuple[BinaryOp, AST, AST]"
   ]
  },
  {
   "cell_type": "markdown",
   "metadata": {},
   "source": [
    "Since the functions `parseExpr`, `parseProduct`, and `parseFactor` are mutually recursive,\n",
    "we need to declare their types in a forward declaration."
   ]
  },
  {
   "cell_type": "code",
   "execution_count": 8,
   "metadata": {},
   "outputs": [],
   "source": [
    "def parseExpr(TL: list[str]) -> tuple[AST, list[str]]:\n",
    "    return None # type: ignore\n",
    "\n",
    "def parseProduct(TL: list[str]) -> tuple[AST, list[str]]:\n",
    "    return None # type: ignore\n",
    "\n",
    "def parseFactor(TL: list[str]) -> tuple[AST, list[str]]:\n",
    "    return None # type: ignore"
   ]
  },
  {
   "cell_type": "markdown",
   "metadata": {},
   "source": [
    "The function `parse` takes a string `s` as input and parses this string according to the recursive grammar\n",
    "shown above."
   ]
  },
  {
   "cell_type": "code",
   "execution_count": 9,
   "metadata": {},
   "outputs": [],
   "source": [
    "def parse(s: str) -> AST:\n",
    "    TL           = tokenize(s)\n",
    "    result, Rest = parseExpr(TL)\n",
    "    assert Rest == [], f'Parse Error: could not parse {TL}, Rest = {Rest}'\n",
    "    return result"
   ]
  },
  {
   "cell_type": "markdown",
   "metadata": {},
   "source": [
    "The function `parseExpr(TL)` takes a list of tokens `TL` and tries to parse an expresssion according to the following\n",
    "<span style=\"font-variant:small-caps;\">Ebnf</span> grammar rule:\n",
    "$$ \\mathrm{expr} \\;\\rightarrow\\; \\mathrm{product}\\;\\;\\bigl((\\texttt{'+'}\\;|\\;\\texttt{'-'})\\;\\; \\mathrm{product}\\bigr)^* $$\n",
    "It returns an *abstract syntax tree* representing the expression and a list of all the tokens that have not been consumed during parsing."
   ]
  },
  {
   "cell_type": "code",
   "execution_count": 10,
   "metadata": {},
   "outputs": [
    {
     "name": "stderr",
     "output_type": "stream",
     "text": [
      "Error in type checker, you can turn it off with '%nb_mypy Off'\n"
     ]
    }
   ],
   "source": [
    "def parseExpr(TL: list[str]) -> tuple[AST, list[str]]:\n",
    "    result, Rest = parseProduct(TL)\n",
    "    while len(Rest) >= 2 and Rest[0] in {'+', '-'}: \n",
    "        operator  = Rest[0]\n",
    "        arg, Rest = parseProduct(Rest[1:])\n",
    "        result    = (operator, result, arg)\n",
    "    return result, Rest"
   ]
  },
  {
   "cell_type": "code",
   "execution_count": null,
   "metadata": {},
   "outputs": [],
   "source": [
    "%nb_mypy Off"
   ]
  },
  {
   "cell_type": "markdown",
   "metadata": {},
   "source": [
    "The function `parseProduct(TL)` takes a list of tokens `TL` and tries to parse a product according to the following\n",
    "<span style=\"font-variant:small-caps;\">Ebnf</span> grammar rule:\n",
    "$$ \\mathrm{product} \\;\\rightarrow\\; \\mathrm{factor} \\;\\;\\bigl((\\texttt{'*'}\\;|\\;\\texttt{'/'})\\;\\; \\mathrm{factor}\\bigr)^*  $$\n",
    "It returns the value of the product and a list of all the tokens that have not been consumed during parsing."
   ]
  },
  {
   "cell_type": "code",
   "execution_count": null,
   "metadata": {},
   "outputs": [],
   "source": [
    "def parseProduct(TL: list[str]) -> tuple[AST, list[str]]:\n",
    "    result, Rest = parseFactor(TL)\n",
    "    while len(Rest) >= 2 and Rest[0] in {'*', '/'}:\n",
    "        operator   = Rest[0]\n",
    "        arg, Rest  = parseFactor(Rest[1:])\n",
    "        result     = (operator, result, arg)\n",
    "    return result, Rest"
   ]
  },
  {
   "cell_type": "markdown",
   "metadata": {},
   "source": [
    "The function `parseFactor` implements the following grammar rules:\n",
    "$$\n",
    "  \\begin{eqnarray*}\n",
    "  \\mathrm{factor}      & \\;\\rightarrow\\; & \\texttt{'('} \\;\\;\\mathrm{expr} \\;\\;\\texttt{')'}    \\\\\n",
    "                       & \\;\\mid          & \\;\\texttt{NUMBER}                                  \\\\\n",
    "                       & \\;\\mid          & \\;\\texttt{VARIABLE}\n",
    "  \\end{eqnarray*}\n",
    "$$\n",
    "\n",
    "It takes one argument:\n",
    "- `TL` is the list of tokens that still need to be consumed.\n",
    "\n",
    "It returns a pair of the form `(value, Rest)` where\n",
    "- `value` is the result of evaluating the arithmetical expression\n",
    "  that is represented by `TL` and\n",
    "- `Rest` is a list of those tokens that have not been consumed while trying to parse a factor."
   ]
  },
  {
   "cell_type": "code",
   "execution_count": null,
   "metadata": {},
   "outputs": [],
   "source": [
    "def parseFactor(TL: list[str]) -> tuple[AST, list[str]]:\n",
    "    if TL[0] == '(': \n",
    "        expr, Rest = parseExpr(TL[1:])\n",
    "        assert Rest[0] == ')', \"ERROR: ')' expected, got {Rest[0]}\"\n",
    "        return expr, Rest[1:]\n",
    "    elif TL[0][0] in { str(d) for d in range(10) }:\n",
    "        return float(TL[0]), TL[1:]\n",
    "    else: \n",
    "        return TL[0], TL[1:]"
   ]
  },
  {
   "cell_type": "markdown",
   "metadata": {},
   "source": [
    "## Testing"
   ]
  },
  {
   "cell_type": "code",
   "execution_count": null,
   "metadata": {},
   "outputs": [],
   "source": [
    "import graphviz as gv"
   ]
  },
  {
   "cell_type": "code",
   "execution_count": null,
   "metadata": {},
   "outputs": [],
   "source": [
    "%run AST2Dot.ipynb"
   ]
  },
  {
   "cell_type": "code",
   "execution_count": null,
   "metadata": {},
   "outputs": [],
   "source": [
    "def test(s: str) -> float:\n",
    "    tree = parse(s)\n",
    "    return tuple2dot(tree)"
   ]
  },
  {
   "cell_type": "code",
   "execution_count": null,
   "metadata": {},
   "outputs": [],
   "source": [
    "parse('12 * y * x + 14 * z / 6 - x')"
   ]
  },
  {
   "cell_type": "code",
   "execution_count": null,
   "metadata": {},
   "outputs": [],
   "source": [
    "test('2 * x + y * y - z / (x * x + y * y) - 3')"
   ]
  },
  {
   "cell_type": "code",
   "execution_count": null,
   "metadata": {},
   "outputs": [],
   "source": []
  }
 ],
 "metadata": {
  "@webio": {
   "lastCommId": null,
   "lastKernelId": null
  },
  "kernelspec": {
   "display_name": "Python 3 (ipykernel)",
   "language": "python",
   "name": "python3"
  },
  "language_info": {
   "codemirror_mode": {
    "name": "ipython",
    "version": 3
   },
   "file_extension": ".py",
   "mimetype": "text/x-python",
   "name": "python",
   "nbconvert_exporter": "python",
   "pygments_lexer": "ipython3",
   "version": "3.13.7"
  },
  "varInspector": {
   "cols": {
    "lenName": 16,
    "lenType": 16,
    "lenVar": 40
   },
   "kernels_config": {
    "python": {
     "delete_cmd_postfix": "",
     "delete_cmd_prefix": "del ",
     "library": "var_list.py",
     "varRefreshCmd": "print(var_dic_list())"
    },
    "r": {
     "delete_cmd_postfix": ") ",
     "delete_cmd_prefix": "rm(",
     "library": "var_list.r",
     "varRefreshCmd": "cat(var_dic_list()) "
    }
   },
   "types_to_exclude": [
    "module",
    "function",
    "builtin_function_or_method",
    "instance",
    "_Feature"
   ],
   "window_display": false
  }
 },
 "nbformat": 4,
 "nbformat_minor": 4
}
