{
 "cells": [
  {
   "cell_type": "code",
   "execution_count": null,
   "metadata": {},
   "outputs": [],
   "source": [
    "from IPython.display import HTML\n",
    "HTML(open('../style.css').read())"
   ]
  },
  {
   "cell_type": "markdown",
   "metadata": {},
   "source": [
    "## Drawing Abstract Syntax Trees with GraphViz"
   ]
  },
  {
   "cell_type": "code",
   "execution_count": null,
   "metadata": {},
   "outputs": [],
   "source": [
    "import graphviz as gv"
   ]
  },
  {
   "cell_type": "code",
   "execution_count": null,
   "metadata": {},
   "outputs": [],
   "source": [
    "type AST = str | int | float | tuple[str, *tuple[\"AST\", ...]]"
   ]
  },
  {
   "cell_type": "markdown",
   "metadata": {},
   "source": [
    "`NodeMap`: A dictionary mapping a node's address (tuple of ints) to its name (string)."
   ]
  },
  {
   "cell_type": "code",
   "execution_count": null,
   "metadata": {},
   "outputs": [],
   "source": [
    "type NodeMap = dict[tuple[int, ...], str]"
   ]
  },
  {
   "cell_type": "markdown",
   "metadata": {},
   "source": [
    "The function `tuple2dot` takes a nested tuple `t` as its argument.  This nested tuple is interpreted as an\n",
    "*abstract syntax tree*.   This tree is visualized using `graphviz`."
   ]
  },
  {
   "cell_type": "code",
   "execution_count": null,
   "metadata": {},
   "outputs": [],
   "source": [
    "def tuple2dot(t: AST) -> gv.Digraph:\n",
    "    dot = gv.Digraph('Abstract Syntax Tree')\n",
    "    Nodes_2_Names = {}\n",
    "    assign_numbers((), t, Nodes_2_Names)\n",
    "    create_nodes(dot, (), t, Nodes_2_Names)\n",
    "    return dot"
   ]
  },
  {
   "cell_type": "markdown",
   "metadata": {},
   "source": [
    "The function `assign_numbers` takes three arguments:\n",
    "- `t` is a nested tuple that is interpreted as a tree,\n",
    "- `Nodes2Numbers` is dictionary,\n",
    "- `n` is a natural number.\n",
    "\n",
    "Given a tree `t` that is represented as a nested tuple, the function `assign_numbers` assigns a unique natural number \n",
    "to every node of `t`.  This assignment is stored in the dictionary `Nodes2Numbers`. `n` is the first natural number\n",
    "that is used.  The function returns the smallest natural number that is still unused."
   ]
  },
  {
   "cell_type": "code",
   "execution_count": null,
   "metadata": {},
   "outputs": [],
   "source": [
    "def assign_numbers(address: tuple[int, ...], \n",
    "                   t: AST, \n",
    "                   Nodes2Numbers: NodeMap, \n",
    "                   n: int =0) -> int:\n",
    "    Nodes2Numbers[address] = str(n)\n",
    "    if isinstance(t, str) or isinstance(t, int) or isinstance(t, float):\n",
    "        return n + 1\n",
    "    n += 1\n",
    "    j  = 1\n",
    "    for t in t[1:]:\n",
    "        n = assign_numbers(address + (j,), t, Nodes2Numbers, n)\n",
    "        j += 1\n",
    "    return n"
   ]
  },
  {
   "cell_type": "markdown",
   "metadata": {},
   "source": [
    "The function `create_nodes` takes three arguments:\n",
    "- `dot` is an object of class `graphviz.digraph`,\n",
    "- `t` is an abstract syntax tree represented as a nested tuple.\n",
    "- `Nodes_2_Names`is a dictionary mapping nodes in `t` to unique names\n",
    "   that can be used as node names in graphviz.\n",
    "   \n",
    "The function creates the nodes in `t` and connects them via directed edges so that `t` is represented as a tree."
   ]
  },
  {
   "cell_type": "code",
   "execution_count": null,
   "metadata": {},
   "outputs": [],
   "source": [
    "def create_nodes(dot: gv.Digraph, \n",
    "                 a: tuple[int, ...], \n",
    "                 t: AST, \n",
    "                 Nodes_2_Names: NodeMap) -> None:\n",
    "    root = Nodes_2_Names[a]\n",
    "    if isinstance(t, str) or isinstance(t, int) or isinstance(t, float):\n",
    "        dot.node(root, label=str(t))\n",
    "        return\n",
    "    dot.node(root, label=t[0])\n",
    "    j = 1\n",
    "    for c in t[1:]:\n",
    "        child = Nodes_2_Names[a + (j,)]\n",
    "        dot.edge(root, child)\n",
    "        create_nodes(dot, a + (j,), c, Nodes_2_Names)\n",
    "        j += 1"
   ]
  },
  {
   "cell_type": "code",
   "execution_count": null,
   "metadata": {},
   "outputs": [],
   "source": []
  }
 ],
 "metadata": {
  "kernelspec": {
   "display_name": "Python 3 (ipykernel)",
   "language": "python",
   "name": "python3"
  },
  "language_info": {
   "codemirror_mode": {
    "name": "ipython",
    "version": 3
   },
   "file_extension": ".py",
   "mimetype": "text/x-python",
   "name": "python",
   "nbconvert_exporter": "python",
   "pygments_lexer": "ipython3",
   "version": "3.13.5"
  },
  "varInspector": {
   "cols": {
    "lenName": 16,
    "lenType": 16,
    "lenVar": 40
   },
   "kernels_config": {
    "python": {
     "delete_cmd_postfix": "",
     "delete_cmd_prefix": "del ",
     "library": "var_list.py",
     "varRefreshCmd": "print(var_dic_list())"
    },
    "r": {
     "delete_cmd_postfix": ") ",
     "delete_cmd_prefix": "rm(",
     "library": "var_list.r",
     "varRefreshCmd": "cat(var_dic_list()) "
    }
   },
   "types_to_exclude": [
    "module",
    "function",
    "builtin_function_or_method",
    "instance",
    "_Feature"
   ],
   "window_display": false
  }
 },
 "nbformat": 4,
 "nbformat_minor": 4
}
