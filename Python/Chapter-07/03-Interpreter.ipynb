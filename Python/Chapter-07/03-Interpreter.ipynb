{
 "cells": [
  {
   "cell_type": "code",
   "execution_count": null,
   "metadata": {},
   "outputs": [],
   "source": [
    "from IPython.display import HTML\n",
    "HTML(open('../style.css').read())"
   ]
  },
  {
   "cell_type": "code",
   "execution_count": null,
   "metadata": {},
   "outputs": [],
   "source": [
    "%load_ext nb_mypy"
   ]
  },
  {
   "cell_type": "markdown",
   "metadata": {},
   "source": [
    "# An Interpreter for a Simple Programming Language"
   ]
  },
  {
   "cell_type": "markdown",
   "metadata": {},
   "source": [
    "In this notebook we develop an interpreter for a small programming language."
   ]
  },
  {
   "cell_type": "code",
   "execution_count": null,
   "metadata": {},
   "outputs": [],
   "source": [
    "import ply.lex as lex"
   ]
  },
  {
   "cell_type": "code",
   "execution_count": null,
   "metadata": {},
   "outputs": [],
   "source": [
    "tokens = [ 'NUMBER',     # r'0|[1-9][0-9]*'\n",
    "           'IDENTIFIER', # r'[a-zA-Z][a-zA-Z0-9_]*'\n",
    "           'ASSIGN',     # r':='\n",
    "           'EQ',         # r'=='\n",
    "           'NE',         # r'!='\n",
    "           'LE',         # r'<='\n",
    "           'GE',         # r'>='\n",
    "           'IF',         # see below\n",
    "           'WHILE'       # see below\n",
    "          ]"
   ]
  },
  {
   "cell_type": "markdown",
   "metadata": {},
   "source": [
    "We allow both *single-line comments* and *multi-line comments*.\n",
    "- The regular expression `/\\*(.|\\n)*?\\*/` recognizes multi-line comments.\n",
    "  Multi-line comments start with the string `/*` and end with the string `*/`.\n",
    "  Note the use of the *non-greedy* quantor `*?`.  If we have code like\n",
    "  ```\n",
    "  /* blah */ a := 1; /* blub */\n",
    "  ```\n",
    "  the greedy quantor would recognize the whole line as one comment. \n",
    "- The regular expression `//.*` recognizes single-line comments.\n",
    "  A single line comment starts with the string `//` and extends to the end of the line."
   ]
  },
  {
   "cell_type": "code",
   "execution_count": null,
   "metadata": {},
   "outputs": [],
   "source": [
    "def t_COMMENT(t):\n",
    "    r'/\\*(.|\\n)*?\\*/|//.*'\n",
    "    t.lexer.lineno += t.value.count('\\n')"
   ]
  },
  {
   "cell_type": "markdown",
   "metadata": {},
   "source": [
    "The token `NUMBER` specifies a natural number."
   ]
  },
  {
   "cell_type": "code",
   "execution_count": null,
   "metadata": {},
   "outputs": [],
   "source": [
    "def t_NUMBER(t):\n",
    "    r'0|[1-9][0-9]*'\n",
    "    t.value = int(t.value)\n",
    "    return t"
   ]
  },
  {
   "cell_type": "code",
   "execution_count": null,
   "metadata": {},
   "outputs": [],
   "source": [
    "t_ASSIGN = r':='\n",
    "t_EQ     = r'=='\n",
    "t_NE     = r'!='\n",
    "t_LE     = r'<='\n",
    "t_GE     = r'>='"
   ]
  },
  {
   "cell_type": "markdown",
   "metadata": {},
   "source": [
    "The *keywords* `'if'` and `'while'` have to be dealt with separately as they are syntactical identical to identifiers. The dictionary `Keywords` shown below maps every keyword to its token type."
   ]
  },
  {
   "cell_type": "code",
   "execution_count": null,
   "metadata": {},
   "outputs": [],
   "source": [
    "Keywords = { 'if': 'IF', 'while': 'WHILE' }"
   ]
  },
  {
   "cell_type": "markdown",
   "metadata": {},
   "source": [
    "When an identifier is read, we first have to check whether the identifier is one of our *keywords*.  If so, we assign the corresponding token type that is stored in the dictionary `Keywords`.  Otherwise, the token type is set to `IDENTIFIER`."
   ]
  },
  {
   "cell_type": "code",
   "execution_count": null,
   "metadata": {},
   "outputs": [],
   "source": [
    "def t_IDENTIFIER(t):\n",
    "    r'[a-zA-Z][a-zA-Z0-9_]*'\n",
    "    t.type = Keywords.get(t.value, 'IDENTIFIER')\n",
    "    return t"
   ]
  },
  {
   "cell_type": "markdown",
   "metadata": {},
   "source": [
    "Operators consisting of a single character do not need an associated token type.\n",
    "They are declared via the keyword `literals`."
   ]
  },
  {
   "cell_type": "code",
   "execution_count": null,
   "metadata": {},
   "outputs": [],
   "source": [
    "literals = ['+', '-', '*', '/', '%', '(', ')', '{', '}', ';', '<', '>', ',']"
   ]
  },
  {
   "cell_type": "markdown",
   "metadata": {},
   "source": [
    "The *white space* characters *blank*, *tabulator*, and *carriage return* are ignored. "
   ]
  },
  {
   "cell_type": "code",
   "execution_count": null,
   "metadata": {},
   "outputs": [],
   "source": [
    "t_ignore  = ' \\t\\r'"
   ]
  },
  {
   "cell_type": "markdown",
   "metadata": {},
   "source": [
    "Syntactically, *newline* characters are ignored. However, we still need to keep track of them in order to know the current line number, which is used for error messages."
   ]
  },
  {
   "cell_type": "code",
   "execution_count": null,
   "metadata": {},
   "outputs": [],
   "source": [
    "def t_newline(t):\n",
    "    r'\\n'\n",
    "    t.lexer.lineno += 1\n",
    "    return"
   ]
  },
  {
   "cell_type": "markdown",
   "metadata": {},
   "source": [
    "Given a `token`, the function `find_colum` returns the column where `token` starts.  This is possible, because every token contains a reference to the current lexer as `token.lexer` and this lexer in turn stores the string that is given to it via the reference `lexer.lexdata`.  Furthermore, `token.lexpos` is the number of characters that precede `token`.\n",
    "The function `rfind` searches the string *in reverse*, so we are looking for the first newline preceding the current position."
   ]
  },
  {
   "cell_type": "code",
   "execution_count": null,
   "metadata": {},
   "outputs": [],
   "source": [
    "def find_column(token):\n",
    "    program    = token.lexer.lexdata  # the complete string given to the scanner\n",
    "    line_start = program.rfind('\\n', 0, token.lexpos)\n",
    "    return token.lexpos - line_start"
   ]
  },
  {
   "cell_type": "markdown",
   "metadata": {},
   "source": [
    "The function `t_error` is called for any token `t` that can not be scanned by the lexer.  In this case, `t.value[0]` is the first character that is not recognized by the scanner.  This character is discarded.  After that, scanning proceeeds as if nothing has happened."
   ]
  },
  {
   "cell_type": "code",
   "execution_count": null,
   "metadata": {},
   "outputs": [],
   "source": [
    "def t_error(t):\n",
    "    column = find_column(t)\n",
    "    print(f\"Illegal character '{t.value[0]}' in line {t.lineno}, column {column}.\")\n",
    "    t.lexer.skip(1)"
   ]
  },
  {
   "cell_type": "code",
   "execution_count": null,
   "metadata": {},
   "outputs": [],
   "source": [
    "__file__ = 'main'"
   ]
  },
  {
   "cell_type": "code",
   "execution_count": null,
   "metadata": {},
   "outputs": [],
   "source": [
    "lexer = lex.lex()"
   ]
  },
  {
   "cell_type": "code",
   "execution_count": null,
   "metadata": {},
   "outputs": [],
   "source": [
    "def test_scanner(file_name):\n",
    "    with open(file_name, 'r') as handle:\n",
    "        program = handle.read() \n",
    "    print(program)\n",
    "    lexer.input(program)\n",
    "    lexer.lineno = 1          # reset line number\n",
    "    for t in lexer:           # start scanning and collect all tokens\n",
    "        print(t) "
   ]
  },
  {
   "cell_type": "code",
   "execution_count": null,
   "metadata": {},
   "outputs": [],
   "source": [
    "test_scanner('sum.sl')"
   ]
  },
  {
   "cell_type": "code",
   "execution_count": null,
   "metadata": {},
   "outputs": [],
   "source": [
    "test_scanner('factorial.sl')"
   ]
  },
  {
   "cell_type": "code",
   "execution_count": null,
   "metadata": {},
   "outputs": [],
   "source": [
    "import ply.yacc as yacc"
   ]
  },
  {
   "cell_type": "markdown",
   "metadata": {},
   "source": [
    "Below is the grammar for a simple `C`-like language:\n",
    "```\n",
    "program\n",
    "    : 𝜆 \n",
    "    | stmnt program\n",
    "    \n",
    "stmnt \n",
    "    : IF '(' bool_expr ')' stmnt                 \n",
    "    | WHILE '(' bool_expr ')' stmnt\n",
    "    | '{' program '}' \n",
    "    | IDENTIFIER ':=' expr ';'  \n",
    "    | expr ';'       \n",
    "\n",
    "bool_expr \n",
    "    : expr '==' expr     \n",
    "    | expr '!=' expr     \n",
    "    | expr '<=' expr     \n",
    "    | expr '>=' expr     \n",
    "    | expr '<'  expr      \n",
    "    | expr '>'  expr     \n",
    " \n",
    "expr: expr '+' product                 \n",
    "    | expr '-' product\n",
    "    | product\n",
    "              \n",
    "product\n",
    "    : product '*' factor               \n",
    "    | product '/' factor\n",
    "    | product '%' factor \n",
    "    | factor\n",
    "\n",
    "factor\n",
    "    : '(' expr ')' \n",
    "    | NUMBER\n",
    "    | IDENTIFIER\n",
    "    | IDENTIFIER '(' expr_list ')'\n",
    "\n",
    "expr_list\n",
    "    : 𝜆 \n",
    "    | ne_expr_list\n",
    "\n",
    "ne_expr_list\n",
    "    : expr\n",
    "    | expr ',' ne_expr_list\n",
    "```"
   ]
  },
  {
   "cell_type": "markdown",
   "metadata": {},
   "source": [
    "The *start variable* of our grammar is `program`."
   ]
  },
  {
   "cell_type": "code",
   "execution_count": null,
   "metadata": {},
   "outputs": [],
   "source": [
    "start = 'program'"
   ]
  },
  {
   "cell_type": "markdown",
   "metadata": {},
   "source": [
    "An example program that conforms to this grammar is stored in the file `sum.sl`."
   ]
  },
  {
   "cell_type": "code",
   "execution_count": null,
   "metadata": {},
   "outputs": [],
   "source": [
    "!cat sum.sl"
   ]
  },
  {
   "cell_type": "markdown",
   "metadata": {},
   "source": [
    "A program is a list of statements."
   ]
  },
  {
   "cell_type": "code",
   "execution_count": null,
   "metadata": {},
   "outputs": [],
   "source": [
    "def p_program_lambda(p):\n",
    "    \"program : \"\n",
    "    p[0] = ('.',)"
   ]
  },
  {
   "cell_type": "code",
   "execution_count": null,
   "metadata": {},
   "outputs": [],
   "source": [
    "def p_program_more(p):\n",
    "    \"program : stmnt program\"\n",
    "    p[0] = ('.', p[1]) + p[2][1:]"
   ]
  },
  {
   "cell_type": "code",
   "execution_count": null,
   "metadata": {},
   "outputs": [],
   "source": [
    "def p_stmnt_if(p):\n",
    "    \"stmnt : IF '(' bool_expr ')' stmnt\"\n",
    "    p[0] = ('if', p[3], p[5])   \n",
    "\n",
    "def p_stmnt_while(p):\n",
    "    \"stmnt : WHILE '(' bool_expr ')' stmnt\"\n",
    "    p[0] = ('while', p[3], p[5])\n",
    "    \n",
    "def p_stmnt_block(p):\n",
    "    \"stmnt : '{' program '}'\"\n",
    "    p[0] = p[2]\n",
    "    \n",
    "def p_stmnt_assign(p):\n",
    "    \"stmnt : IDENTIFIER ASSIGN expr ';'\"\n",
    "    p[0] = (':=', p[1], p[3]) \n",
    "\n",
    "def p_stmnt_expr(p):\n",
    "    \"stmnt : expr ';'\"\n",
    "    p[0] = ('expr', p[1])"
   ]
  },
  {
   "cell_type": "code",
   "execution_count": null,
   "metadata": {},
   "outputs": [],
   "source": [
    "def p_bool_expr_eq(p):\n",
    "    \"bool_expr : expr EQ expr\"\n",
    "    p[0] = ('==', p[1], p[3])\n",
    "\n",
    "def p_bool_expr_ne(p):\n",
    "    \"bool_expr : expr NE expr\"\n",
    "    p[0] = ('!=', p[1], p[3])\n",
    "\n",
    "def p_bool_expr_le(p):\n",
    "    \"bool_expr : expr LE expr\"\n",
    "    p[0] = ('<=', p[1], p[3])\n",
    "    \n",
    "def p_bool_expr_ge(p):\n",
    "    \"bool_expr : expr GE expr\"\n",
    "    p[0] = ('>=', p[1], p[3])\n",
    "    \n",
    "def p_bool_expr_lt(p):\n",
    "    \"bool_expr : expr '<' expr\"\n",
    "    p[0] = ('<', p[1], p[3])\n",
    "\n",
    "def p_bool_expr_gt(p):\n",
    "    \"bool_expr : expr '>' expr\"\n",
    "    p[0] = ('>', p[1], p[3])"
   ]
  },
  {
   "cell_type": "code",
   "execution_count": null,
   "metadata": {},
   "outputs": [],
   "source": [
    "def p_expr_plus(p):\n",
    "    \"expr : expr '+' product\"\n",
    "    p[0] = ('+', p[1], p[3])\n",
    "    \n",
    "def p_expr_minus(p):\n",
    "    \"expr : expr '-' product\"\n",
    "    p[0] = ('-', p[1], p[3])\n",
    "\n",
    "def p_expr_product(p):\n",
    "    \"expr : product\"\n",
    "    p[0] = p[1]\n",
    "    \n",
    "def p_product_times(p):\n",
    "    \"product : product '*' factor\"\n",
    "    p[0] = ('*', p[1], p[3])\n",
    "    \n",
    "def p_product_divide(p):\n",
    "    \"product : product '/' factor\"\n",
    "    p[0] = ('/', p[1], p[3])\n",
    "\n",
    "def p_product_modulo(p):\n",
    "    \"product : product '%' factor\"\n",
    "    p[0] = ('%', p[1], p[3])\n",
    "\n",
    "def p_product_factor(p):\n",
    "    \"product : factor\"\n",
    "    p[0] = p[1]\n",
    "\n",
    "def p_factor_paren(p):\n",
    "    \"factor : '(' expr ')'\"\n",
    "    p[0] = p[2]\n",
    "\n",
    "def p_factor_number(p):\n",
    "    \"factor : NUMBER\"\n",
    "    p[0] = p[1]\n",
    "\n",
    "def p_factor_identifier(p):\n",
    "    \"factor : IDENTIFIER\"\n",
    "    p[0] = p[1]\n",
    "\n",
    "def p_factor_fct_call(p):\n",
    "    \"factor : IDENTIFIER '(' expr_list ')'\"\n",
    "    p[0] = ('call', p[1]) + p[3][1:]"
   ]
  },
  {
   "cell_type": "code",
   "execution_count": null,
   "metadata": {},
   "outputs": [],
   "source": [
    "def p_expr_list_empty(p):\n",
    "    \"expr_list : \"\n",
    "    p[0] = ('.',)\n",
    "     \n",
    "def p_expr_more(p):\n",
    "    \"expr_list : ne_expr_list\"\n",
    "    p[0] = p[1]     \n",
    "\n",
    "def p_ne_expr_list_one(p):\n",
    "    \"ne_expr_list : expr\"\n",
    "    p[0] = ('.', p[1]) \n",
    "    \n",
    "def p_ne_expr_list_more(p):\n",
    "    \"ne_expr_list : expr ',' ne_expr_list\"\n",
    "    p[0] = ('.', p[1]) + p[3][1:] "
   ]
  },
  {
   "cell_type": "code",
   "execution_count": null,
   "metadata": {},
   "outputs": [],
   "source": [
    "def p_error(t):\n",
    "    column = find_column(t)\n",
    "    if t:\n",
    "        print(f'Syntax error at token \"{t.value}\" in line {t.lineno}, column {column}.')\n",
    "    else:\n",
    "        print('Syntax error at end of input.')"
   ]
  },
  {
   "cell_type": "code",
   "execution_count": null,
   "metadata": {},
   "outputs": [],
   "source": [
    "parser = yacc.yacc(write_tables=False, debug=True)"
   ]
  },
  {
   "cell_type": "markdown",
   "metadata": {},
   "source": [
    "The parser shown above will transform the program `sum.sl` into the *nested tuple* stored in the file `sum.ast`."
   ]
  },
  {
   "cell_type": "code",
   "execution_count": null,
   "metadata": {},
   "outputs": [],
   "source": [
    "%run AST2Dot.ipynb"
   ]
  },
  {
   "cell_type": "markdown",
   "metadata": {},
   "source": [
    "The function `parse` takes a `file_name` as ist sole argument.  The file is read and parsed. \n",
    "The resulting parse tree is visualized using `graphviz`.  It is important to reset the\n",
    "attribute `lineno` of the scanner, for otherwise error messages will not have the correct line numbers."
   ]
  },
  {
   "cell_type": "code",
   "execution_count": null,
   "metadata": {},
   "outputs": [],
   "source": [
    "def parse(file_name):\n",
    "    lexer.lineno = 1\n",
    "    with open(file_name, 'r') as handle:\n",
    "        program = handle.read() \n",
    "    ast = yacc.parse(program)\n",
    "    print(ast)\n",
    "    return tuple2dot(ast)"
   ]
  },
  {
   "cell_type": "code",
   "execution_count": null,
   "metadata": {},
   "outputs": [],
   "source": [
    "parse('sum.sl')"
   ]
  },
  {
   "cell_type": "code",
   "execution_count": null,
   "metadata": {},
   "outputs": [],
   "source": [
    "from typing import TypeVar\n",
    "NestedTuple = TypeVar('NestedTuple')\n",
    "NestedTuple = int | str | tuple[NestedTuple, ...]\n",
    "Number      = int | float"
   ]
  },
  {
   "cell_type": "markdown",
   "metadata": {},
   "source": [
    "We need some forward declarations."
   ]
  },
  {
   "cell_type": "code",
   "execution_count": null,
   "metadata": {},
   "outputs": [],
   "source": [
    "def execute(stmnt: NestedTuple, Values: dict[str, Number]) -> None:\n",
    "    return None"
   ]
  },
  {
   "cell_type": "code",
   "execution_count": null,
   "metadata": {},
   "outputs": [],
   "source": [
    "def evaluate(expr: NestedTuple, Values: dict[str, Number]) -> Number:\n",
    "    return None # type: ignore"
   ]
  },
  {
   "cell_type": "code",
   "execution_count": null,
   "metadata": {},
   "outputs": [],
   "source": [
    "def evaluate_bool(expr: NestedTuple, Values: dict[str, Number]) -> bool:\n",
    "    return None # type: ignore"
   ]
  },
  {
   "cell_type": "markdown",
   "metadata": {},
   "source": [
    "The function `execute_tuple` takes two arguments:\n",
    "- `StatementList` is a list of statements,\n",
    "- `Values` is a dictionary assigning integer values to variable names.\n",
    "\n",
    "The function executes the statements in `Statement_List`.  If an assignment statement is executed,\n",
    "the dictionary `Values` is updated."
   ]
  },
  {
   "cell_type": "code",
   "execution_count": null,
   "metadata": {},
   "outputs": [],
   "source": [
    "def execute_tuple(StatementList: tuple[NestedTuple, ...], Values: dict[str, Number]={}) -> None:\n",
    "    for stmnt in StatementList:\n",
    "        execute(stmnt, Values)"
   ]
  },
  {
   "cell_type": "markdown",
   "metadata": {},
   "source": [
    "The function `execute` takes two arguments:\n",
    "- `stmnt` is a statement,\n",
    "- `Values` is a dictionary assigning values to variable names.\n",
    "\n",
    "The function executes the statements in `Statement_List`.  If an assignment statement is executed,\n",
    "the dictionary `Values` is updated."
   ]
  },
  {
   "cell_type": "code",
   "execution_count": null,
   "metadata": {},
   "outputs": [],
   "source": [
    "def execute(stmnt: NestedTuple, Values: dict[str, Number]) -> None:\n",
    "    match stmnt:\n",
    "        case ('.', *SL):\n",
    "            execute_tuple(tuple(SL), Values)\n",
    "        case (':=', var, value):\n",
    "            Values[var] = evaluate(value, Values)\n",
    "        case ('expr', expr):\n",
    "            evaluate(expr, Values)\n",
    "        case ('if', test, stmnt):\n",
    "            if evaluate_bool(test, Values):\n",
    "                execute(stmnt, Values)\n",
    "        case ('while', test, stmnt):\n",
    "            while evaluate_bool(test, Values):\n",
    "                execute(stmnt, Values)\n",
    "        case _:\n",
    "            assert False, f'{stmnt} unexpected'"
   ]
  },
  {
   "cell_type": "markdown",
   "metadata": {},
   "source": [
    "The function `evaluate_bool` takes two arguments:\n",
    "- `expr` is a boolean expression expression,\n",
    "- `Values` is a dictionary assigning integer values to variable names.\n",
    "\n",
    "The function evaluates the given expression and returns this value."
   ]
  },
  {
   "cell_type": "code",
   "execution_count": null,
   "metadata": {},
   "outputs": [],
   "source": [
    "def evaluate_bool(expr: NestedTuple, Values: dict[str, Number]) -> bool:\n",
    "    match expr:\n",
    "        case ('==', lhs, rhs):\n",
    "            return evaluate(lhs, Values) == evaluate(rhs, Values)\n",
    "        case ('!=', lhs, rhs):\n",
    "            return evaluate(lhs, Values) != evaluate(rhs, Values)\n",
    "        case ('<=', lhs, rhs):\n",
    "            return evaluate(lhs, Values) <= evaluate(rhs, Values)\n",
    "        case ('>=', lhs, rhs):\n",
    "            return evaluate(lhs, Values) >= evaluate(rhs, Values)\n",
    "        case ('<', lhs, rhs):\n",
    "            return evaluate(lhs, Values) <  evaluate(rhs, Values)\n",
    "        case ('>', lhs, rhs):\n",
    "            return evaluate(lhs, Values) >  evaluate(rhs, Values)\n",
    "        case _:\n",
    "            assert False, f'{expr} unexpected'"
   ]
  },
  {
   "cell_type": "markdown",
   "metadata": {},
   "source": [
    "The function `evaluate` takes two arguments:\n",
    "- `expr` is a logical expression or an arithmetic expression,\n",
    "- `Values` is a dictionary assigning integer values to variable names.\n",
    "\n",
    "The function evaluates the given expression and returns this value."
   ]
  },
  {
   "cell_type": "code",
   "execution_count": null,
   "metadata": {},
   "outputs": [],
   "source": [
    "def evaluate(expr: NestedTuple, Values: dict[str, Number]) -> Number:\n",
    "    match expr:\n",
    "        case int():\n",
    "            return expr\n",
    "        case str():\n",
    "            return Values[expr] \n",
    "        case ('call', 'read'):\n",
    "            return int(input('Please enter a natural number: '))\n",
    "        case ('call', 'print', expr):\n",
    "            print(evaluate(expr, Values))\n",
    "            return 0;\n",
    "        case ('+', lhs, rhs):\n",
    "            return evaluate(lhs, Values) + evaluate(rhs, Values)\n",
    "        case ('-', lhs, rhs):\n",
    "            return evaluate(lhs, Values) - evaluate(rhs, Values)\n",
    "        case ('*', lhs, rhs):\n",
    "            return evaluate(lhs, Values) * evaluate(rhs, Values)\n",
    "        case ('/', lhs, rhs):\n",
    "            return evaluate(lhs, Values) / evaluate(rhs, Values)\n",
    "        case ('%', lhs, rhs):\n",
    "            return evaluate(lhs, Values) % evaluate(rhs, Values)\n",
    "        case _:\n",
    "            assert False, f'{expr} unexpected'"
   ]
  },
  {
   "cell_type": "code",
   "execution_count": null,
   "metadata": {},
   "outputs": [],
   "source": [
    "!cat sum.sl"
   ]
  },
  {
   "cell_type": "code",
   "execution_count": null,
   "metadata": {},
   "outputs": [],
   "source": [
    "def main(file):\n",
    "    with open(file, 'r') as handle:\n",
    "        program = handle.read() \n",
    "    stmnt = yacc.parse(program)\n",
    "    print(stmnt)\n",
    "    Values = {}\n",
    "    execute(stmnt, Values)"
   ]
  },
  {
   "cell_type": "code",
   "execution_count": null,
   "metadata": {},
   "outputs": [],
   "source": [
    "main('sum.sl')"
   ]
  },
  {
   "cell_type": "code",
   "execution_count": null,
   "metadata": {},
   "outputs": [],
   "source": [
    "!cat factorial.sl"
   ]
  },
  {
   "cell_type": "code",
   "execution_count": null,
   "metadata": {},
   "outputs": [],
   "source": [
    "main('factorial.sl')"
   ]
  },
  {
   "cell_type": "code",
   "execution_count": null,
   "metadata": {},
   "outputs": [],
   "source": []
  }
 ],
 "metadata": {
  "kernelspec": {
   "display_name": "Python 3 (ipykernel)",
   "language": "python",
   "name": "python3"
  },
  "language_info": {
   "codemirror_mode": {
    "name": "ipython",
    "version": 3
   },
   "file_extension": ".py",
   "mimetype": "text/x-python",
   "name": "python",
   "nbconvert_exporter": "python",
   "pygments_lexer": "ipython3",
   "version": "3.13.5"
  },
  "varInspector": {
   "cols": {
    "lenName": 16,
    "lenType": 16,
    "lenVar": 40
   },
   "kernels_config": {
    "python": {
     "delete_cmd_postfix": "",
     "delete_cmd_prefix": "del ",
     "library": "var_list.py",
     "varRefreshCmd": "print(var_dic_list())"
    },
    "r": {
     "delete_cmd_postfix": ") ",
     "delete_cmd_prefix": "rm(",
     "library": "var_list.r",
     "varRefreshCmd": "cat(var_dic_list()) "
    }
   },
   "types_to_exclude": [
    "module",
    "function",
    "builtin_function_or_method",
    "instance",
    "_Feature"
   ],
   "window_display": false
  }
 },
 "nbformat": 4,
 "nbformat_minor": 4
}
