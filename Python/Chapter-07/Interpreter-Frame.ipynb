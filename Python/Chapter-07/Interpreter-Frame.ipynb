{
 "cells": [
  {
   "cell_type": "code",
   "execution_count": null,
   "metadata": {},
   "outputs": [],
   "source": [
    "from IPython.display import HTML\n",
    "HTML(open('../style.css').read())"
   ]
  },
  {
   "cell_type": "code",
   "execution_count": null,
   "metadata": {},
   "outputs": [],
   "source": [
    "%load_ext nb_mypy"
   ]
  },
  {
   "cell_type": "markdown",
   "metadata": {},
   "source": [
    "# An Interpreter for a Simple Programming Language"
   ]
  },
  {
   "cell_type": "markdown",
   "metadata": {},
   "source": [
    "In this notebook we develop an interpreter for a small programming language."
   ]
  },
  {
   "cell_type": "code",
   "execution_count": null,
   "metadata": {},
   "outputs": [],
   "source": [
    "import ply.lex as lex"
   ]
  },
  {
   "cell_type": "code",
   "execution_count": null,
   "metadata": {},
   "outputs": [],
   "source": [
    "tokens = [ 'NUMBER',     # r'(0|[1-9][0-9]*)(\\.[0-9]+)?([eE][+-]?[1-9][0-9]*)?'\n",
    "           'STRING',     # r'(\"([^\"]+|\\\\\")*\")'\n",
    "           'IDENTIFIER', # r'[a-zA-Z][a-zA-Z0-9_]*'\n",
    "           'ASSIGN',     # r':='\n",
    "           'AND',        # r'&&'\n",
    "           'OR',         # r'\\|\\|'\n",
    "           'EQ',         # r'=='\n",
    "           'NE',         # r'!='\n",
    "           'LE',         # r'<='\n",
    "           'GE',         # r'>='\n",
    "           'IF',         # keyword, see below\n",
    "                         # your code here\n",
    "          ]"
   ]
  },
  {
   "cell_type": "markdown",
   "metadata": {},
   "source": [
    "We allow both *single-line comments* and *multi-line comments*.\n",
    "- The regular expression `/\\*(.|\\n)*?\\*/` recognizes multi-line comments.\n",
    "  Multi-line comments start with the string `/*` and end with the string `*/`.\n",
    "  Note the use of the *non-greedy* quantor `*?`.  If we have code like\n",
    "  ```\n",
    "  /* blah */ a := 1; /* blub */\n",
    "  ```\n",
    "  the greedy quantor would recognize the whole line as one comment. \n",
    "- The regular expression `//.*` recognizes single-line comments.\n",
    "  A single line comment starts with the string `//` and extends to the end of the line."
   ]
  },
  {
   "cell_type": "code",
   "execution_count": null,
   "metadata": {},
   "outputs": [],
   "source": [
    "def t_COMMENT(t):\n",
    "    r'/\\*(.|\\n)*?\\*/|//.*'\n",
    "    t.lexer.lineno += t.value.count('\\n')\n",
    "    pass"
   ]
  },
  {
   "cell_type": "markdown",
   "metadata": {},
   "source": [
    "The token `NUMBER` specifies a natural number."
   ]
  },
  {
   "cell_type": "code",
   "execution_count": null,
   "metadata": {},
   "outputs": [],
   "source": [
    "def t_NUMBER(t):\n",
    "    r'(0|[1-9][0-9]*)(\\.[0-9]+)?([eE][+-]?[1-9][0-9]*)?'\n",
    "    if '.' in t.value or 'e' in t.value or 'E' in t.value:\n",
    "        t.value = float(t.value)\n",
    "    else:\n",
    "        t.value = int(t.value)\n",
    "    return t"
   ]
  },
  {
   "cell_type": "code",
   "execution_count": null,
   "metadata": {},
   "outputs": [],
   "source": [
    "def t_STRING(t):\n",
    "    r'(\"([^\"]+|\\\\\")*\")'\n",
    "    return t"
   ]
  },
  {
   "cell_type": "code",
   "execution_count": null,
   "metadata": {},
   "outputs": [],
   "source": [
    "t_ASSIGN = r':='\n",
    "t_AND    = r'&&'\n",
    "t_OR     = r'\\|\\|'\n",
    "t_EQ     = r'=='\n",
    "t_NE     = r'!='\n",
    "t_LE     = r'<='\n",
    "t_GE     = r'>='"
   ]
  },
  {
   "cell_type": "markdown",
   "metadata": {},
   "source": [
    "The keywords 'int', 'if', 'else', 'while', 'return' have to be dealt with separately as they are syntactical identical to identifiers. The dictionary Keywords shown below maps every keyword to its token type."
   ]
  },
  {
   "cell_type": "code",
   "execution_count": null,
   "metadata": {},
   "outputs": [],
   "source": [
    "Keywords = { 'if': 'IF', 'while': 'WHILE' } # your code here"
   ]
  },
  {
   "cell_type": "markdown",
   "metadata": {},
   "source": [
    "When an identifier is read, we first have to check whether the identifier is one of our keywords.  If so, we assign the corresponding token type that is stored in the dictionary `Keywords`.  Otherwise, the token type is set to `IDENTIFIER`."
   ]
  },
  {
   "cell_type": "code",
   "execution_count": null,
   "metadata": {},
   "outputs": [],
   "source": [
    "def t_IDENTIFIER(t):\n",
    "    r'[a-zA-Z][a-zA-Z0-9_]*'\n",
    "    t.type = Keywords.get(t.value, 'IDENTIFIER')\n",
    "    return t"
   ]
  },
  {
   "cell_type": "markdown",
   "metadata": {},
   "source": [
    "Operators consisting of a single character do not need an associated token type.\n",
    "They are declared via the keyword `literals`."
   ]
  },
  {
   "cell_type": "code",
   "execution_count": null,
   "metadata": {},
   "outputs": [],
   "source": [
    "literals = ['+', '-', '*', '/', '%', '(', ')', '{', '}', ';', '<', '>', ',', '!']"
   ]
  },
  {
   "cell_type": "markdown",
   "metadata": {},
   "source": [
    "White space, i.e. *space characters*, *tabulators*, and *carriage returns* are ignored. "
   ]
  },
  {
   "cell_type": "code",
   "execution_count": null,
   "metadata": {},
   "outputs": [],
   "source": [
    "t_ignore  = ' \\t\\r'"
   ]
  },
  {
   "cell_type": "markdown",
   "metadata": {},
   "source": [
    "Syntactically, newline characters are ignored. However, we still need to keep track of them in order to know the current line number, which is used for error messages."
   ]
  },
  {
   "cell_type": "code",
   "execution_count": null,
   "metadata": {},
   "outputs": [],
   "source": [
    "def t_newline(t):\n",
    "    r'\\n'\n",
    "    t.lexer.lineno += 1\n",
    "    return"
   ]
  },
  {
   "cell_type": "markdown",
   "metadata": {},
   "source": [
    "Given a `token`, the function `find_colum` returns the column where `token` starts.  This is possible, because every token contains a reference to the current lexer as `token.lexer` and this lexer in turn stores the string that is given to it via the reference `lexer.lexdata`.  Furthermore, `token.lexpos` is the number of characters that precede `token`."
   ]
  },
  {
   "cell_type": "code",
   "execution_count": null,
   "metadata": {},
   "outputs": [],
   "source": [
    "def find_column(token):\n",
    "    program    = token.lexer.lexdata  # the complete string given to the scanner\n",
    "    line_start = program.rfind('\\n', 0, token.lexpos)\n",
    "    return token.lexpos - line_start"
   ]
  },
  {
   "cell_type": "markdown",
   "metadata": {},
   "source": [
    "The function `t_error` is called for any token `t` that can not be scanned by the lexer.  In this case, `t.value[0]` is the first character that is not recognized by the scanner.  This character is discarded.  After that, scanning proceeeds as if nothing has happened."
   ]
  },
  {
   "cell_type": "code",
   "execution_count": null,
   "metadata": {},
   "outputs": [],
   "source": [
    "def t_error(t):\n",
    "    column = find_column(t)\n",
    "    print(f\"Illegal character '{t.value[0]}' in line {t.lineno}, column {column}.\")\n",
    "    t.lexer.skip(1)"
   ]
  },
  {
   "cell_type": "code",
   "execution_count": null,
   "metadata": {},
   "outputs": [],
   "source": [
    "__file__ = 'main'"
   ]
  },
  {
   "cell_type": "code",
   "execution_count": null,
   "metadata": {},
   "outputs": [],
   "source": [
    "lexer = lex.lex()"
   ]
  },
  {
   "cell_type": "code",
   "execution_count": null,
   "metadata": {},
   "outputs": [],
   "source": [
    "def test_scanner(file_name):\n",
    "    with open(file_name, 'r') as handle:\n",
    "        program = handle.read() \n",
    "    print(program)\n",
    "    lexer.input(program)\n",
    "    lexer.lineno = 1          # reset line number\n",
    "    for t in lexer:           # start scanning and collect all tokens\n",
    "        print(t) "
   ]
  },
  {
   "cell_type": "code",
   "execution_count": null,
   "metadata": {},
   "outputs": [],
   "source": [
    "test_scanner('Examples/sum-for.sl')"
   ]
  },
  {
   "cell_type": "code",
   "execution_count": null,
   "metadata": {},
   "outputs": [],
   "source": [
    "import ply.yacc as yacc"
   ]
  },
  {
   "cell_type": "markdown",
   "metadata": {},
   "source": [
    "Below is the grammar for our language:\n",
    "```\n",
    "program\n",
    "    : 𝜆  \n",
    "    | stmnt program\n",
    "    ;\n",
    "stmnt \n",
    "    : FUNCTION IDENTIFIER '(' id_list ')' stmnt              # new\n",
    "    | IF '(' bool_expr ')' stmnt                 \n",
    "    | WHILE '(' bool_expr ')' stmnt\n",
    "    | FOR '(' assign ';' bool_expr ';' assign ')' stmnt      # new\n",
    "    | '{' program '}' \n",
    "    | assign ';'                                             # new\n",
    "    | expr ';'\n",
    "    | RETURN expr ';'                                        # new\n",
    "    ;\n",
    "assign                                                       # new\n",
    "    : IDENTIFIER ':=' expr \n",
    "    ;\n",
    "id_list\n",
    "    : 𝜆 \n",
    "    | ne_id_list\n",
    "    ;\n",
    "ne_id_list\n",
    "    : IDENTIFIER\n",
    "    | IDENTIFIER ',' ne_id_list\n",
    "    ;\n",
    "bool_expr                                                     # new\n",
    "    : bool_expr OR conjunction                                # new\n",
    "    | conjunction\n",
    "    ;\n",
    "conjunction                                                   # new\n",
    "    : conjunction AND negation                                # new\n",
    "    | negation                                                # new\n",
    "    ;\n",
    "negation                                                      # new\n",
    "    : '!' negation                                            # new\n",
    "    | bool_atom                                               # new\n",
    "    ; \n",
    "bool_atom\n",
    "    : '(' bool_expr ')'                                       # new\n",
    "    | expr '==' expr     \n",
    "    | expr '!=' expr     \n",
    "    | expr '<=' expr     \n",
    "    | expr '>=' expr     \n",
    "    | expr '<'  expr      \n",
    "    | expr '>'  expr     \n",
    "    ;\n",
    "expr: expr '+' product                 \n",
    "    | expr '-' product\n",
    "    | product\n",
    "    ;          \n",
    "product\n",
    "    : product '*' factor               \n",
    "    | product '/' factor\n",
    "    | factor\n",
    "    ;\n",
    "factor\n",
    "    : '(' expr ')' \n",
    "    | NUMBER\n",
    "    | IDENTIFIER\n",
    "    | IDENTIFIER '(' expr_list ')'\n",
    "    ;\n",
    "expr_list\n",
    "    : 𝜆 \n",
    "    | ne_expr_list\n",
    "    ;\n",
    "ne_expr_list\n",
    "    : expr\n",
    "    | expr ',' ne_expr_list\n",
    "    ;\n",
    "```"
   ]
  },
  {
   "cell_type": "markdown",
   "metadata": {},
   "source": [
    "The *start variable* of our grammar is `program`."
   ]
  },
  {
   "cell_type": "code",
   "execution_count": null,
   "metadata": {},
   "outputs": [],
   "source": [
    "start = 'program'"
   ]
  },
  {
   "cell_type": "markdown",
   "metadata": {},
   "source": [
    "An example program that conforms to this grammar is stored in the file `sum-for.sl` in the directory `Examples`."
   ]
  },
  {
   "cell_type": "code",
   "execution_count": null,
   "metadata": {},
   "outputs": [],
   "source": [
    "!cat Examples/sum-for.sl"
   ]
  },
  {
   "cell_type": "markdown",
   "metadata": {},
   "source": [
    "A program is a list of statements."
   ]
  },
  {
   "cell_type": "code",
   "execution_count": null,
   "metadata": {},
   "outputs": [],
   "source": [
    "def p_program_empty(p):\n",
    "    \"program : \"\n",
    "    p[0] = ('.',)\n",
    "\n",
    "def p_program_more(p):\n",
    "    \"program : stmnt program\"\n",
    "    p[0] = ('.', p[1]) + p[2][1:]"
   ]
  },
  {
   "cell_type": "code",
   "execution_count": null,
   "metadata": {},
   "outputs": [],
   "source": [
    "def p_stmnt_function(p):\n",
    "    \"stmnt : FUNCTION IDENTIFIER '(' id_list ')' stmnt\"\n",
    "    p[0] = ('def', p[2], p[4], p[6])\n",
    "\n",
    "def p_stmnt_if(p):\n",
    "    \"stmnt : IF '(' bool_expr ')' stmnt\"\n",
    "    p[0] = ('if', p[3], p[5])   \n",
    "\n",
    "def p_stmnt_while(p):\n",
    "    \"stmnt : WHILE '(' bool_expr ')' stmnt\"\n",
    "    p[0] = ('while', p[3], p[5])\n",
    "\n",
    "def p_stmnt_for(p):\n",
    "    \"stmnt : FOR '(' assign ';' bool_expr ';' assign ')' stmnt \"\n",
    "    # your code here\n",
    "    \n",
    "def p_stmnt_block(p):\n",
    "    \"stmnt : '{' program '}'\"\n",
    "    p[0] = p[2]\n",
    "    \n",
    "def p_stmnt_assign(p):\n",
    "    \"stmnt : assign ';'\"\n",
    "    p[0] = p[1]\n",
    "\n",
    "def p_stmnt_expr(p):\n",
    "    \"stmnt : expr ';'\"\n",
    "    p[0] = ('expr', p[1])\n",
    "\n",
    "def p_stmnt_return(p):\n",
    "    \"stmnt : RETURN expr ';'\"\n",
    "    # your code here"
   ]
  },
  {
   "cell_type": "code",
   "execution_count": null,
   "metadata": {},
   "outputs": [],
   "source": [
    "def p_assign(p):\n",
    "    \"assign : IDENTIFIER ASSIGN expr\"\n",
    "    p[0] = (':=', p[1], p[3])"
   ]
  },
  {
   "cell_type": "code",
   "execution_count": null,
   "metadata": {},
   "outputs": [],
   "source": [
    "def p_id_list_empty(p):\n",
    "    \"id_list : \"\n",
    "    p[0] = ('.',)\n",
    "    \n",
    "def p_id_list_ne(p):\n",
    "    \"id_list : ne_id_list\"\n",
    "    p[0] = p[1]     \n",
    "\n",
    "def p_ne_id_list_one(p):\n",
    "    \"ne_id_list : IDENTIFIER\"\n",
    "    p[0] = ('.', p[1])\n",
    "\n",
    "def p_ne_id_list_more(p):\n",
    "    \"ne_id_list : IDENTIFIER ',' ne_id_list\"\n",
    "    p[0] = ('.', p[1]) + p[3][1:]"
   ]
  },
  {
   "cell_type": "code",
   "execution_count": null,
   "metadata": {},
   "outputs": [],
   "source": [
    "def p_bool_expr_or(p):\n",
    "    \"bool_expr : bool_expr OR conjunction\"\n",
    "    # your code here\n",
    "\n",
    "def p_bool_expr_conj(p):\n",
    "    \"bool_expr : conjunction\"\n",
    "    # your code here"
   ]
  },
  {
   "cell_type": "code",
   "execution_count": null,
   "metadata": {},
   "outputs": [],
   "source": [
    "def p_conjunction_and(p):\n",
    "    \"conjunction : conjunction AND negation\"\n",
    "    # your code here\n",
    "\n",
    "def p_conjunction_neg(p):\n",
    "    \"conjunction : negation\"\n",
    "    # your code here"
   ]
  },
  {
   "cell_type": "code",
   "execution_count": null,
   "metadata": {},
   "outputs": [],
   "source": [
    "def p_negation_not(p):\n",
    "    \"negation : '!' negation\"\n",
    "    # your code here\n",
    "\n",
    "def p_negation_atom(p):\n",
    "     \"negation : bool_atom\"\n",
    "     # your code here"
   ]
  },
  {
   "cell_type": "code",
   "execution_count": null,
   "metadata": {},
   "outputs": [],
   "source": [
    "def p_bool_atom_paren(p):\n",
    "    \"bool_atom : '(' bool_expr ')'\"\n",
    "    # your code here\n",
    "    \n",
    "def p_bool_atom_eq(p):\n",
    "    \"bool_atom : expr EQ expr\"\n",
    "    p[0] = ('==', p[1], p[3])\n",
    "\n",
    "def p_bool_atom_ne(p):\n",
    "    \"bool_atom : expr NE expr\"\n",
    "    p[0] = ('!=', p[1], p[3])\n",
    "\n",
    "def p_bool_atom_le(p):\n",
    "    \"bool_atom : expr LE expr\"\n",
    "    p[0] = ('<=', p[1], p[3])\n",
    "    \n",
    "def p_bool_atom_ge(p):\n",
    "    \"bool_atom : expr GE expr\"\n",
    "    p[0] = ('>=', p[1], p[3])\n",
    "    \n",
    "def p_bool_atom_lt(p):\n",
    "    \"bool_atom : expr '<' expr\"\n",
    "    p[0] = ('<', p[1], p[3])\n",
    "\n",
    "def p_bool_atom_gt(p):\n",
    "    \"bool_atom : expr '>' expr\"\n",
    "    p[0] = ('>', p[1], p[3])"
   ]
  },
  {
   "cell_type": "code",
   "execution_count": null,
   "metadata": {},
   "outputs": [],
   "source": [
    "def p_expr_plus(p):\n",
    "    \"expr : expr '+' product\"\n",
    "    p[0] = ('+', p[1], p[3])\n",
    "    \n",
    "def p_expr_minus(p):\n",
    "    \"expr : expr '-' product\"\n",
    "    p[0] = ('-', p[1], p[3])\n",
    "\n",
    "def p_expr_product(p):\n",
    "    \"expr : product\"\n",
    "    p[0] = p[1]\n",
    "    \n",
    "def p_product_times(p):\n",
    "    \"product : product '*' factor\"\n",
    "    p[0] = ('*', p[1], p[3])\n",
    "    \n",
    "def p_product_divide(p):\n",
    "    \"product : product '/' factor\"\n",
    "    p[0] = ('/', p[1], p[3])\n",
    "\n",
    "def p_product_factor(p):\n",
    "    \"product : factor\"\n",
    "    p[0] = p[1]\n",
    "\n",
    "def p_factor_paren(p):\n",
    "    \"factor : '(' expr ')'\"\n",
    "    p[0] = p[2]\n",
    "\n",
    "def p_factor_number(p):\n",
    "    \"factor : NUMBER\"\n",
    "    p[0] = p[1]\n",
    "    \n",
    "def p_factor_string(p):\n",
    "    \"factor : STRING\"\n",
    "    p[0] = p[1]\n",
    "\n",
    "def p_factor_identifier(p):\n",
    "    \"factor : IDENTIFIER\"\n",
    "    p[0] = p[1]\n",
    "\n",
    "def p_factor_fct_call(p):\n",
    "    \"factor : IDENTIFIER '(' expr_list ')'\"\n",
    "    p[0] = ('call', p[1]) + p[3][1:]"
   ]
  },
  {
   "cell_type": "code",
   "execution_count": null,
   "metadata": {},
   "outputs": [],
   "source": [
    "def p_expr_list_empty(p):\n",
    "    \"expr_list : \"\n",
    "    p[0] = ('.',)\n",
    "    \n",
    "def p_expr_list_more(p):\n",
    "    \"expr_list : ne_expr_list\"\n",
    "    p[0] = p[1]\n",
    "\n",
    "def p_ne_expr_list_one(p):\n",
    "    \"ne_expr_list : expr\"\n",
    "    p[0] = ('.', p[1]) \n",
    "    \n",
    "def p_ne_expr_list_more(p):\n",
    "    \"ne_expr_list : expr ',' ne_expr_list\"\n",
    "    p[0] = ('.', p[1]) + p[3][1:] "
   ]
  },
  {
   "cell_type": "code",
   "execution_count": null,
   "metadata": {},
   "outputs": [],
   "source": [
    "def p_error(t):\n",
    "    column = find_column(t)\n",
    "    if t:\n",
    "        print(f'Syntax error at token \"{t.value}\" in line {t.lineno}, column {column}.')\n",
    "    else:\n",
    "        print('Syntax error at end of input.')"
   ]
  },
  {
   "cell_type": "code",
   "execution_count": null,
   "metadata": {},
   "outputs": [],
   "source": [
    "parser = yacc.yacc(write_tables=False, debug=True)"
   ]
  },
  {
   "cell_type": "markdown",
   "metadata": {},
   "source": [
    "The parser shown above will transform the program `sum.sl` into the *nested tuple* stored in the file `sum.ast`."
   ]
  },
  {
   "cell_type": "code",
   "execution_count": null,
   "metadata": {},
   "outputs": [],
   "source": [
    "%run AST2Dot.ipynb"
   ]
  },
  {
   "cell_type": "markdown",
   "metadata": {},
   "source": [
    "The function `parse` takes a `file_name` as ist sole argument.  The file is read and parsed. \n",
    "The resulting parse tree is visualized using `graphviz`.  It is important to reset the\n",
    "attribute `lineno` of the scanner, for otherwise error messages will not have the correct line numbers."
   ]
  },
  {
   "cell_type": "code",
   "execution_count": null,
   "metadata": {},
   "outputs": [],
   "source": [
    "def parse(file_name):\n",
    "    lexer.lineno = 1\n",
    "    with open(file_name, 'r') as handle:\n",
    "        program = handle.read() \n",
    "    ast = yacc.parse(program)\n",
    "    print(ast)\n",
    "    return tuple2dot(ast)"
   ]
  },
  {
   "cell_type": "code",
   "execution_count": null,
   "metadata": {},
   "outputs": [],
   "source": [
    "!cat Examples/factorial.sl"
   ]
  },
  {
   "cell_type": "code",
   "execution_count": null,
   "metadata": {},
   "outputs": [],
   "source": [
    "parse('Examples/factorial.sl')"
   ]
  },
  {
   "cell_type": "code",
   "execution_count": null,
   "metadata": {},
   "outputs": [],
   "source": [
    "from typing import TypeVar\n",
    "NestedTuple = TypeVar('NestedTuple')\n",
    "NestedTuple = int | str | tuple[NestedTuple, ...]\n",
    "Number      = int | float"
   ]
  },
  {
   "cell_type": "markdown",
   "metadata": {},
   "source": [
    "The class `ReturnValue` encapsulates a value that is to be returned."
   ]
  },
  {
   "cell_type": "code",
   "execution_count": null,
   "metadata": {},
   "outputs": [],
   "source": [
    "class ReturnValue(Exception):\n",
    "    def __init__(self, value):\n",
    "        self.mValue = value"
   ]
  },
  {
   "cell_type": "markdown",
   "metadata": {},
   "source": [
    "Below, we can see how we can catch an exception in Python."
   ]
  },
  {
   "cell_type": "code",
   "execution_count": null,
   "metadata": {},
   "outputs": [],
   "source": [
    "try:\n",
    "    raise ReturnValue(42)\n",
    "except ReturnValue as result:\n",
    "    print(result.mValue)"
   ]
  },
  {
   "cell_type": "markdown",
   "metadata": {},
   "source": [
    "The type checker needs some forward declarations."
   ]
  },
  {
   "cell_type": "code",
   "execution_count": null,
   "metadata": {},
   "outputs": [],
   "source": [
    "def execute(stmnt: NestedTuple, Values: dict[str, Number], Definitions: dict[str, NestedTuple]) -> None:\n",
    "    return None # type: ignore"
   ]
  },
  {
   "cell_type": "code",
   "execution_count": null,
   "metadata": {},
   "outputs": [],
   "source": [
    "def evaluate(expr: NestedTuple, Values: dict[str, Number], Definitions: dict[str, NestedTuple]) -> Number:\n",
    "    return None # type: ignore"
   ]
  },
  {
   "cell_type": "markdown",
   "metadata": {},
   "source": [
    "The function `execute_tuple` takes three arguments:\n",
    "- `Statement_List` is a list of statements,\n",
    "- `Values` is a dictionary assigning floating point values to variable names.\n",
    "- `Definitions` is a dictionary assigning function definitions to function names.\n",
    "The function executes the statements in `Statement_List`.  If an assignment statement is executed, the dictionary `Values` is updated."
   ]
  },
  {
   "cell_type": "code",
   "execution_count": null,
   "metadata": {},
   "outputs": [],
   "source": [
    "def execute_tuple(Statement_List: list[NestedTuple], \n",
    "                  Values: dict[str, Number], \n",
    "                  Definitions: dict[str, NestedTuple]) -> None:\n",
    "    for stmnt in Statement_List:\n",
    "        execute(stmnt, Values, Definitions)"
   ]
  },
  {
   "cell_type": "markdown",
   "metadata": {},
   "source": [
    "The function `execute` takes three arguments:\n",
    "- `stmnt` is a statement,\n",
    "- `Values` is a dictionary assigning values to variable names.\n",
    "- `Definitions` is a dictionary mapping function names to their definitions.\n",
    "- \n",
    "The function executes the statements in `Statement_List`.  If an assignment statement is executed,\n",
    "the dictionary `Values` is updated."
   ]
  },
  {
   "cell_type": "code",
   "execution_count": null,
   "metadata": {},
   "outputs": [],
   "source": [
    "def execute(stmnt: NestedTuple, Values: dict[str, Number], Definitions: dict[str, NestedTuple]) -> None:\n",
    "    match stmnt:\n",
    "        case '.', *SL:\n",
    "            execute_tuple(SL, Values, Definitions)\n",
    "        case # function definions\n",
    "             # your code here # type: ignore\n",
    "        case ':=', var, value:\n",
    "            Values[var] = evaluate(value, Values, Definitions)\n",
    "        case 'expr', expr:\n",
    "            evaluate(expr, Values, Definitions)\n",
    "        case 'if', test, *SL:\n",
    "            if evaluate(test, Values, Definitions):\n",
    "                execute_tuple(SL, Values, Definitions)\n",
    "        case 'while', test, *SL:\n",
    "            while evaluate(test, Values, Definitions):\n",
    "                execute_tuple(SL, Values, Definitions)\n",
    "        case # for statement \n",
    "            # your code here\n",
    "        case # return statement\n",
    "            # your code here, try to raise an exception\n",
    "        case 'call', _, *AL: # function calls are evaluated, not executed\n",
    "            evaluate(stmnt, Values, Definitions)\n",
    "        case _:\n",
    "            assert False, f'{stmnt} unexpected'"
   ]
  },
  {
   "cell_type": "code",
   "execution_count": null,
   "metadata": {},
   "outputs": [],
   "source": [
    "import math"
   ]
  },
  {
   "cell_type": "markdown",
   "metadata": {},
   "source": [
    "The function `evaluate` takes three arguments:\n",
    "- `expr` is a logical expression or an arithmetic expression,\n",
    "- `Values` is a dictionary assigning integer values to variable names.\n",
    "- `Definitions` is a dictionary assigning function definitions to function names.\n",
    "- \n",
    "The function evaluates the given expression and returns this value."
   ]
  },
  {
   "cell_type": "code",
   "execution_count": null,
   "metadata": {},
   "outputs": [],
   "source": [
    "def evaluate(expr: NestedTuple, Values: dict[str, Number], Definitions: dict[str, NestedTuple]) -> Number:\n",
    "    match expr:\n",
    "        case int(number):\n",
    "            return number\n",
    "        case float(number):\n",
    "            return number\n",
    "        case str(name):\n",
    "            if name[0] == '\"' and name[-1] == '\"':\n",
    "                return name[1:-1] # type: ignore\n",
    "            else:\n",
    "                return Values[name] \n",
    "        case '||', lhs, rhs:\n",
    "            return evaluate(lhs, Values, Definitions) or evaluate(rhs, Values, Definitions)\n",
    "        case '&&', lhs, rhs:\n",
    "            return evaluate(lhs, Values, Definitions) and evaluate(rhs, Values, Definitions)\n",
    "        case '!', lhs:\n",
    "            return not evaluate(lhs, Values, Definitions)\n",
    "        case '==', lhs, rhs:\n",
    "            return evaluate(lhs, Values, Definitions) == evaluate(rhs, Values, Definitions)\n",
    "        case '!=', lhs, rhs:\n",
    "            return evaluate(lhs, Values, Definitions) != evaluate(rhs, Values, Definitions)\n",
    "        case '<', lhs, rhs:\n",
    "            return evaluate(lhs, Values, Definitions) < evaluate(rhs, Values, Definitions)\n",
    "        case '>', lhs, rhs:\n",
    "            return evaluate(lhs, Values, Definitions) > evaluate(rhs, Values, Definitions)\n",
    "        case '<=', lhs, rhs:\n",
    "            return evaluate(lhs, Values, Definitions) <= evaluate(rhs, Values, Definitions)\n",
    "        case '>=', lhs, rhs:\n",
    "            return evaluate(lhs, Values, Definitions) >= evaluate(rhs, Values, Definitions)\n",
    "        case '+', lhs, rhs:\n",
    "            return evaluate(lhs, Values, Definitions) + evaluate(rhs, Values, Definitions)\n",
    "        case '-', lhs, rhs:\n",
    "            return evaluate(lhs, Values, Definitions) - evaluate(rhs, Values, Definitions)\n",
    "        case '*', lhs, rhs:\n",
    "            return evaluate(lhs, Values, Definitions) * evaluate(rhs, Values, Definitions)\n",
    "        case '/', lhs, rhs:\n",
    "            l = evaluate(lhs, Values, Definitions)\n",
    "            r = evaluate(rhs, Values, Definitions) \n",
    "            if isinstance(l, float) or isinstance(r, float):\n",
    "                return l / r\n",
    "            else:\n",
    "                return l // r\n",
    "        case 'call', fct_name, *AL:\n",
    "            if fct_name in Definitions:\n",
    "                # your code here\n",
    "                # lots of it!\n",
    "                # remember that the function returns its value by raising an exception!\n",
    "            \n",
    "            \n",
    "            \n",
    "            \n",
    "            else:\n",
    "                match fct_name:\n",
    "                    case 'read':\n",
    "                        s = input('Please enter a number: ')\n",
    "                        if '.' in s or 'e' in s or 'E' in s:\n",
    "                            return float(s)\n",
    "                        else:\n",
    "                            return int(s)\n",
    "                    case 'print':\n",
    "                        print(evaluate(AL[0], Values, Definitions)) \n",
    "                    case 'sqrt':\n",
    "                        return math.sqrt(evaluate(AL[0], Values, Definitions))\n",
    "                    case 'exp':\n",
    "                        return math.exp(evaluate(AL[0], Values, Definitions))\n",
    "                    case 'ln':\n",
    "                        return math.log(evaluate(AL[0], Values, Definitions))\n",
    "                    case 'sin':\n",
    "                        return math.sin(evaluate(AL[0], Values, Definitions))    \n",
    "                    case 'cos':\n",
    "                        return math.cos(evaluate(AL[0], Values, Definitions))    \n",
    "                    case 'tan':\n",
    "                        return math.tan(evaluate(AL[0], Values, Definitions))    \n",
    "                    case 'arctan':\n",
    "                        return math.atan(evaluate(AL[0], Values, Definitions))                        \n",
    "                    case _:\n",
    "                        assert False, f'function name {fct_name} is unknown'\n",
    "        case _:\n",
    "            assert False, f'{expr} unexpected' \n",
    "    return None # type: ignore"
   ]
  },
  {
   "cell_type": "code",
   "execution_count": null,
   "metadata": {},
   "outputs": [],
   "source": [
    "!cat Examples/factorial.sl"
   ]
  },
  {
   "cell_type": "code",
   "execution_count": null,
   "metadata": {},
   "outputs": [],
   "source": [
    "def main(file):\n",
    "    with open(file, 'r') as handle:\n",
    "        program = handle.read()\n",
    "    print(program)\n",
    "    lexer.lineno = 1\n",
    "    ast = yacc.parse(program)\n",
    "    print(ast)\n",
    "    display(tuple2dot(ast))\n",
    "    Values = {}\n",
    "    Definitions = {}\n",
    "    execute(ast, Values, Definitions)"
   ]
  },
  {
   "cell_type": "code",
   "execution_count": null,
   "metadata": {},
   "outputs": [],
   "source": [
    "main('Examples/factorial.sl')"
   ]
  },
  {
   "cell_type": "code",
   "execution_count": null,
   "metadata": {},
   "outputs": [],
   "source": [
    "main('Examples/solve.sl')"
   ]
  },
  {
   "cell_type": "code",
   "execution_count": null,
   "metadata": {},
   "outputs": [],
   "source": [
    "main('Examples/pi.sl')"
   ]
  },
  {
   "cell_type": "code",
   "execution_count": null,
   "metadata": {},
   "outputs": [],
   "source": [
    "main('Examples/sum-for.sl')"
   ]
  },
  {
   "cell_type": "code",
   "execution_count": null,
   "metadata": {},
   "outputs": [],
   "source": [
    "main('Examples/e.sl')"
   ]
  },
  {
   "cell_type": "code",
   "execution_count": null,
   "metadata": {},
   "outputs": [],
   "source": [
    "math.exp(1)"
   ]
  }
 ],
 "metadata": {
  "kernelspec": {
   "display_name": "Python 3 (ipykernel)",
   "language": "python",
   "name": "python3"
  },
  "language_info": {
   "codemirror_mode": {
    "name": "ipython",
    "version": 3
   },
   "file_extension": ".py",
   "mimetype": "text/x-python",
   "name": "python",
   "nbconvert_exporter": "python",
   "pygments_lexer": "ipython3",
   "version": "3.13.7"
  },
  "varInspector": {
   "cols": {
    "lenName": 16,
    "lenType": 16,
    "lenVar": 40
   },
   "kernels_config": {
    "python": {
     "delete_cmd_postfix": "",
     "delete_cmd_prefix": "del ",
     "library": "var_list.py",
     "varRefreshCmd": "print(var_dic_list())"
    },
    "r": {
     "delete_cmd_postfix": ") ",
     "delete_cmd_prefix": "rm(",
     "library": "var_list.r",
     "varRefreshCmd": "cat(var_dic_list()) "
    }
   },
   "types_to_exclude": [
    "module",
    "function",
    "builtin_function_or_method",
    "instance",
    "_Feature"
   ],
   "window_display": false
  }
 },
 "nbformat": 4,
 "nbformat_minor": 4
}
