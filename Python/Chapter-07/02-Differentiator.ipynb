{
 "cells": [
  {
   "cell_type": "code",
   "execution_count": null,
   "metadata": {},
   "outputs": [],
   "source": [
    "from IPython.display import HTML\n",
    "HTML(open('../style.css').read())"
   ]
  },
  {
   "cell_type": "markdown",
   "metadata": {},
   "source": [
    "# Symbolic Differentiation \n",
    "\n",
    "In this notebook our goal is to implement *symbolic differentiation*.  Concretely, we want do implement a function `diff` that takes one argument:\n",
    "  - The argument `expr` represents an *arithmetic expression*.\n",
    "    Here an arithmetic expression is any string that is build from variable and numbers by application\n",
    "    of any of the operator symbols \"`+`\", \"`-`\", \"`*`\", \"`/`\", and \"`**`\".\n",
    "    The operator \"`**`\" represents exponentiation, i.e. an expression of the form \n",
    "    $a \\texttt{**} b$ is interpreted as $a^b$.          \n",
    "    Furthermore, if $e$ is an expression, then both $\\exp(e)$ and $\\ln(e)$ are expressions too.\n",
    "\n",
    "The function call `diff(expr)` will then compute the derivative of `expr` with respect to the variable `x`.  For example, the function call \n",
    "`diff(\"x * exp(x)\")` will compute the output\n",
    "`1 * exp(x) + x * exp(x)` because we have:\n",
    "$$ \\frac{\\mathrm{d}\\;}{\\mathrm{d}x} \\bigl( x \\cdot \\mathrm{e}^x \\bigr) = 1 \\cdot \\mathrm{e}^x + x \\cdot \\mathrm{e}^x. $$\n",
    "\n",
    "This file shows the implementation of a program that can perform *symbolic differentiation* using `Ply`.  The grammar for the language implemented by this parser is as follows:\n",
    "$$\n",
    "\\begin{array}{lcl}\n",
    "  \\texttt{expr}    & \\rightarrow & \\;\\texttt{expr}\\; \\texttt{'+'} \\; \\texttt{product}  \\\\\n",
    "                   & \\mid        & \\;\\texttt{expr}\\; \\texttt{'-'} \\; \\texttt{product}  \\\\\n",
    "                   & \\mid        & \\;\\texttt{product}                                  \\\\[0.2cm]\n",
    "  \\texttt{product} & \\rightarrow & \\;\\texttt{product}\\; \\texttt{'*'} \\;\\texttt{factor} \\\\\n",
    "                   & \\mid        & \\;\\texttt{product}\\; \\texttt{'/'} \\;\\texttt{factor} \\\\\n",
    "                   & \\mid        & \\;\\texttt{factor}                                   \\\\[0.2cm]\n",
    "  \\texttt{factor}  & \\rightarrow & \\texttt{base} \\;\\texttt{'**'} \\; \\texttt{factor}    \\\\\n",
    "                   & \\mid        & \\texttt{base}                                       \\\\[0.2cm]\n",
    "  \\texttt{base}    & \\rightarrow & \\texttt{exp} \\; \\texttt{'('} \\; \\texttt{expr} \\;\\texttt{')'}     \\\\\n",
    "                   & \\mid        & \\texttt{ln} \\; \\texttt{'('} \\; \\texttt{expr} \\;\\texttt{')'}      \\\\\n",
    "                   & \\mid        & \\texttt{'('} \\; \\texttt{expr} \\;\\texttt{')'}                     \\\\\n",
    "                   & \\mid        & \\;\\texttt{NUMBER}                                                \\\\\n",
    "                   & \\mid        & \\;\\texttt{'x'}                               \n",
    "\\end{array}\n",
    "$$"
   ]
  },
  {
   "cell_type": "markdown",
   "metadata": {},
   "source": [
    "## Specification of the Scanner"
   ]
  },
  {
   "cell_type": "code",
   "execution_count": null,
   "metadata": {},
   "outputs": [],
   "source": [
    "import ply.lex as lex"
   ]
  },
  {
   "cell_type": "markdown",
   "metadata": {},
   "source": [
    "Most of the tokens consist only of a single character and can therefore be defined as *literals*.\n",
    "Hence, we only have to define four tokens explicitely."
   ]
  },
  {
   "cell_type": "code",
   "execution_count": null,
   "metadata": {},
   "outputs": [],
   "source": [
    "tokens = [ 'NUMBER', 'EXP', 'LN', 'POWER' ]"
   ]
  },
  {
   "cell_type": "markdown",
   "metadata": {},
   "source": [
    "The token `NUMBER` specifies a *natural number*."
   ]
  },
  {
   "cell_type": "code",
   "execution_count": null,
   "metadata": {},
   "outputs": [],
   "source": [
    "def t_NUMBER(t):\n",
    "    r'0|[1-9][0-9]*'\n",
    "    t.value = int(t.value)\n",
    "    return t"
   ]
  },
  {
   "cell_type": "code",
   "execution_count": null,
   "metadata": {},
   "outputs": [],
   "source": [
    "t_EXP = r'exp'"
   ]
  },
  {
   "cell_type": "code",
   "execution_count": null,
   "metadata": {},
   "outputs": [],
   "source": [
    "t_LN = r'ln'"
   ]
  },
  {
   "cell_type": "markdown",
   "metadata": {},
   "source": [
    "Below, we need to escape the meta charater `*`."
   ]
  },
  {
   "cell_type": "code",
   "execution_count": null,
   "metadata": {},
   "outputs": [],
   "source": [
    "t_POWER = r'\\*\\*'"
   ]
  },
  {
   "cell_type": "code",
   "execution_count": null,
   "metadata": {},
   "outputs": [],
   "source": [
    "literals = ['+', '-', '*', '/', '(', ')', 'x']"
   ]
  },
  {
   "cell_type": "markdown",
   "metadata": {},
   "source": [
    "Blanks and tabulators are ignored."
   ]
  },
  {
   "cell_type": "code",
   "execution_count": null,
   "metadata": {},
   "outputs": [],
   "source": [
    "t_ignore  = ' \\t'"
   ]
  },
  {
   "cell_type": "markdown",
   "metadata": {},
   "source": [
    "Unkown characters are reported as lexical errors."
   ]
  },
  {
   "cell_type": "code",
   "execution_count": null,
   "metadata": {},
   "outputs": [],
   "source": [
    "def t_error(t):\n",
    "    print(f\"Illegal character '{t.value[0]}' at character number {t.lexer.lexpos}.\")\n",
    "    t.lexer.skip(1)"
   ]
  },
  {
   "cell_type": "markdown",
   "metadata": {},
   "source": [
    "The next line is necessary because we use `Ply` from a notebook."
   ]
  },
  {
   "cell_type": "code",
   "execution_count": null,
   "metadata": {},
   "outputs": [],
   "source": [
    "__file__ = 'main'"
   ]
  },
  {
   "cell_type": "markdown",
   "metadata": {},
   "source": [
    "We generate the lexer."
   ]
  },
  {
   "cell_type": "code",
   "execution_count": null,
   "metadata": {},
   "outputs": [],
   "source": [
    "lexer = lex.lex()"
   ]
  },
  {
   "cell_type": "markdown",
   "metadata": {},
   "source": [
    "## Specification of the Parser"
   ]
  },
  {
   "cell_type": "code",
   "execution_count": null,
   "metadata": {},
   "outputs": [],
   "source": [
    "import ply.yacc as yacc"
   ]
  },
  {
   "cell_type": "markdown",
   "metadata": {},
   "source": [
    "The *start variable* of our grammar is `statement`."
   ]
  },
  {
   "cell_type": "code",
   "execution_count": null,
   "metadata": {},
   "outputs": [],
   "source": [
    "start = 'expr'"
   ]
  },
  {
   "cell_type": "markdown",
   "metadata": {},
   "source": [
    "An *expr* is a sequence of *products* that are combined with the operator `+`.\n",
    "The corresponding grammar rules are:\n",
    "```\n",
    "    expr : expr '+' product\n",
    "         | expr '-' product\n",
    "         | product\n",
    "         ;\n",
    "```"
   ]
  },
  {
   "cell_type": "code",
   "execution_count": null,
   "metadata": {},
   "outputs": [],
   "source": [
    "def p_expr_plus(p):\n",
    "    \"expr : expr '+' product\"\n",
    "    p[0] = ('+', p[1], p[3])\n",
    "\n",
    "def p_expr_minus(p):\n",
    "    \"expr : expr '-' product\"\n",
    "    p[0] = ('-', p[1], p[3])\n",
    "    \n",
    "def p_expr_product(p):\n",
    "    \"expr : product\"\n",
    "    p[0] = p[1]"
   ]
  },
  {
   "cell_type": "markdown",
   "metadata": {},
   "source": [
    "A *product* is a sequence of *factors* that are combined with the operator `*`.\n",
    "The corresponding grammar rules are:\n",
    "```\n",
    "    product : product '*' factor\n",
    "            | product '/' factor\n",
    "            | factor\n",
    "            ;\n",
    "```"
   ]
  },
  {
   "cell_type": "code",
   "execution_count": null,
   "metadata": {},
   "outputs": [],
   "source": [
    "def p_product_multiply(p):\n",
    "    \"product : product '*' factor\"\n",
    "    p[0] = ('*', p[1], p[3])\n",
    "\n",
    "def p_product_divide(p):\n",
    "    \"product : product '/' factor\"\n",
    "    p[0] = ('/', p[1], p[3])\n",
    "    \n",
    "def p_product_factor(p):\n",
    "    \"product : factor\"\n",
    "    p[0] = p[1]"
   ]
  },
  {
   "cell_type": "markdown",
   "metadata": {},
   "source": [
    "A `factor` is either a `base` expression raised to a power or it is just a `base` expression.\n",
    "```\n",
    "   factor : base '**' factor\n",
    "          | base\n",
    "          ;\n",
    "```"
   ]
  },
  {
   "cell_type": "code",
   "execution_count": null,
   "metadata": {},
   "outputs": [],
   "source": [
    "def p_factor_power(p):\n",
    "    \"factor : base POWER factor\"\n",
    "    p[0] = ('**', p[1], p[3])\n",
    "\n",
    "def p_factor_base(p):\n",
    "    \"factor : base\"\n",
    "    p[0] = p[1]"
   ]
  },
  {
   "cell_type": "markdown",
   "metadata": {},
   "source": [
    "A `base` expression can be the application of a function, an expression in parenthesis, a number, or the variable `x`.\n",
    "```\n",
    "    base : exp '(' expr ')'\n",
    "         | ln  '(' expr ')'\n",
    "         | '(' expr ')'\n",
    "         | NUMBER\n",
    "         | 'x'\n",
    "         ;\n",
    "```"
   ]
  },
  {
   "cell_type": "code",
   "execution_count": null,
   "metadata": {},
   "outputs": [],
   "source": [
    "def p_base_exp(p):\n",
    "    \"base : EXP '(' expr ')'\"\n",
    "    p[0] = ('exp', p[3])\n",
    "\n",
    "def p_base_ln(p):\n",
    "    \"base : LN '(' expr ')'\"\n",
    "    p[0] = ('ln', p[3])\n",
    "    \n",
    "def p_base_group(p):\n",
    "    \"base : '(' expr ')'\"\n",
    "    p[0] = p[2]\n",
    "\n",
    "def p_base_number(p):\n",
    "    \"base : NUMBER\"\n",
    "    p[0] = p[1]\n",
    "\n",
    "def p_base_x(p):\n",
    "    \"base : 'x'\"\n",
    "    p[0] = p[1]"
   ]
  },
  {
   "cell_type": "markdown",
   "metadata": {},
   "source": [
    "The method `p_error` is called if a syntax error occurs.  The argument `p` is the token that could not be read.  If `p` is `None` then the syntax error occurs at the end of the input."
   ]
  },
  {
   "cell_type": "code",
   "execution_count": null,
   "metadata": {},
   "outputs": [],
   "source": [
    "def p_error(p):\n",
    "    if p:\n",
    "        print(f\"Syntax error at character number {p.lexer.lexpos} at token '{p.value}'.\")\n",
    "    else:\n",
    "        raise(f\"Incomplete input.\")"
   ]
  },
  {
   "cell_type": "code",
   "execution_count": null,
   "metadata": {},
   "outputs": [],
   "source": [
    "parser = yacc.yacc(write_tables=False, debug=True)"
   ]
  },
  {
   "cell_type": "markdown",
   "metadata": {},
   "source": [
    "The parser is invoked by calling the method `yacc.parse(s)` where `s` is a string that is to be parsed."
   ]
  },
  {
   "cell_type": "code",
   "execution_count": null,
   "metadata": {},
   "outputs": [],
   "source": [
    "def parse(s):\n",
    "    return yacc.parse(s)"
   ]
  },
  {
   "cell_type": "code",
   "execution_count": null,
   "metadata": {},
   "outputs": [],
   "source": [
    "parse('ln(x ** x) + exp(x * x)')"
   ]
  },
  {
   "cell_type": "markdown",
   "metadata": {},
   "source": [
    "Now we are ready to implement the function `diff` that takes an expression possibly containing the variable `x`.\n",
    "It computes the derivative of the given expression with respect to `x`.\n",
    "<ol>\n",
    "<li>  The lines 4 - 6 implement the rule: \n",
    "      $$\\frac{\\mathrm{d}\\;}{\\mathrm{d}x}\\bigl(f(x) + g(x)\\bigr) = \\frac{\\mathrm{d}\\;}{\\mathrm{d}x} f(x) + \\frac{\\mathrm{d}\\;}{\\mathrm{d}x} g(x)$$\n",
    "      </li>\n",
    "<li>  Line 7 - 9 implement the rule:\n",
    "      $$\\frac{\\mathrm{d}\\;}{\\mathrm{d}x}\\bigl(f(x) - g(x)\\bigr) = \\frac{\\mathrm{d}\\;}{\\mathrm{d}x} f(x) - \\frac{\\mathrm{d}\\;}{\\mathrm{d}x} g(x)$$\n",
    "      </li>\n",
    "<li>  Line 10 - 12 deals with the case where <tt>e</tt> is a product.  The \n",
    "      <a href=\"https://en.wikipedia.org/wiki/Product_rule\">product rule</a> is      \n",
    "      $$ \\frac{\\mathrm{d}\\;}{\\mathrm{d}x}\\bigl(f(x) \\cdot g(x)\\bigr) = \\left(\\frac{\\mathrm{d}\\;}{\\mathrm{d}x} f(x)\\right)\\cdot g(x) + f(x) \\cdot \\left(\\frac{\\mathrm{d}\\;}{\\mathrm{d}x} g(x)\\right)\n",
    "      $$\n",
    "      </li>\n",
    "<li>  Line 13 - 15 deals with the case where <tt>e</tt> is a quotient.  The\n",
    "      <a href=\"https://en.wikipedia.org/wiki/Quotient_rule\">quotient rule</a> is\n",
    "      $$ \\frac{\\mathrm{d}\\;}{\\mathrm{d}x}\\left(\\frac{f(x)}{g(x)}\\right) = \n",
    "         \\frac{\\displaystyle\\left(\\frac{\\mathrm{d}\\;}{\\mathrm{d}x} f(x)\\right)\\cdot g(x) - \n",
    "         f(x) \\cdot \\left(\\frac{\\mathrm{d}\\;}{\\mathrm{d}x} g(x)\\right)}{g(x) \\cdot g(x)}\n",
    "      $$\n",
    "      </li>\n",
    "<li>  Line 16 - 18 deals with the case where <tt>e</tt> is a power.  Now in order to take the derivative of an\n",
    "      expression of the form\n",
    "      $$  f(x)^{g(x)} $$\n",
    "      we first need to rewrite this expression using the following trick:\n",
    "      $$ f(x)^{g(x)} = \\exp\\bigl(\\ln\\bigl(f(x)^{g(x)}\\bigr)\\bigr) = \\exp\\bigl(g(x) \\cdot \\ln(f(x))\\bigr) $$\n",
    "      Then, we can recursively call <tt>diff</tt> for this expression.  This works, because the function\n",
    "      <tt>diff</tt> can deal with both the exponential function $x \\mapsto \\exp(x)$ and with the natural\n",
    "      logarithm $x \\mapsto \\ln(x)$.  This rewriting is done in line 21.\n",
    "      </li>\n",
    "<li>  Line 19-21 deals with the case where <tt>e</tt> has the form \n",
    "      $$\\ln\\bigl(f(x)\\bigr)$$  \n",
    "      In order to take the derivative of this expression, we first need to know the derivative of the natural\n",
    "      logarithm.  This derivative is given as     \n",
    "      $$ \\frac{\\mathrm{d}\\;}{\\mathrm{d}x} \\ln(x) = \\frac{1}{x}$$\n",
    "      Then, using the <a href=\"https://en.wikipedia.org/wiki/Chain_rule\">chain rule</a> we have that\n",
    "      $$ \\frac{\\mathrm{d}\\;}{\\mathrm{d}x} \\ln\\bigl(f(x)\\bigr) = \\frac{\\frac{\\mathrm{d}\\;}{\\mathrm{d}x} f(x)}{f(x)}$$\n",
    "      </li>\n",
    "<li>  Line 22 - 24 deals with the case where <tt>e</tt> has the form $\\exp\\bigl(f(x)\\bigr)$.  \n",
    "      In order to take the derivative of this expression, we first need to know the derivative of the \n",
    "      <a href=\"https://en.wikipedia.org/wiki/Exponential_function\">exponential function</a>.  \n",
    "      This derivative is given as \n",
    "      $$ \\frac{\\mathrm{d}\\;}{\\mathrm{d}x} \\exp(x) = \\exp(x)$$    \n",
    "      Then, using the <a href=\"https://en.wikipedia.org/wiki/Chain_rule\">chain rule</a> we have that\n",
    "      $$\\frac{\\mathrm{d}\\;}{\\mathrm{d}x} \\exp\\bigl(f(x)\\bigr) = \\left(\\frac{\\mathrm{d}\\;}{\\mathrm{d}x} f(x)\\right) \\cdot \\exp\\bigl(f(x)\\bigr)\n",
    "      $$\n",
    "      </li>\n",
    "<li>  Line 25-26 deals with the case where <tt>e</tt> is a variable and happens to be the same variable as\n",
    "      <tt>x</tt>.   As we have\n",
    "      $$\\frac{\\mathrm{d}x}{\\mathrm{d}x} = 1,$$\n",
    "      the function <tt>diff</tt> returns <tt>1</tt> in this case.\n",
    "      </li>\n",
    "<li>  Otherwise, the expression is assumed to be a constant and hence we return 0.\n",
    "      </li>\n",
    "</ol>\n"
   ]
  },
  {
   "cell_type": "code",
   "execution_count": null,
   "metadata": {},
   "outputs": [],
   "source": [
    "def diff(e):\n",
    "    \"differentiate the expression e with respect to the variable x\"\n",
    "    match e:\n",
    "        case ('+', f, g):\n",
    "            fs, gs = diff(f), diff(g)\n",
    "            return ('+', fs, gs)\n",
    "        case ('-', f, g):\n",
    "            fs, gs = diff(f), diff(g)\n",
    "            return ('-', fs, gs)\n",
    "        case ('*', f, g):\n",
    "            fs, gs = diff(f), diff(g)\n",
    "            return ('+', ('*', fs, g), ('*', f, gs))\n",
    "        case ('/', f, g):\n",
    "            fs, gs = diff(f), diff(g)\n",
    "            return ('/', ('-', ('*', fs, g), ('*', f, gs)), ('*', g, g))\n",
    "        case ('**', f, g):\n",
    "            return diff(('exp', ('*', g, ('ln', f))))\n",
    "        case ('ln', f):\n",
    "            fs = diff(f) \n",
    "            return ('/', fs, f)\n",
    "        case ('exp', f):\n",
    "            fs = diff(f)\n",
    "            return ('*', fs, e)\n",
    "        case 'x':\n",
    "            return 1\n",
    "    return 0"
   ]
  },
  {
   "cell_type": "markdown",
   "metadata": {},
   "source": [
    "The function below turns a nested tuple representing a function into a readable string."
   ]
  },
  {
   "cell_type": "code",
   "execution_count": null,
   "metadata": {},
   "outputs": [],
   "source": [
    "def toString(e):\n",
    "    if isinstance(e, (int, str)):\n",
    "        return str(e)\n",
    "    if len(e) == 2:\n",
    "        return e[0] + '(' + toString(e[1]) + ')'\n",
    "    if e[0] == '+':\n",
    "        return toString(e[1]) + ' + ' + toString(e[2])\n",
    "    if e[0] == '-':\n",
    "        lhs = toString(e[1])\n",
    "        if precedenceOp(e[2]) == 1:\n",
    "            rhs = '(' + toString(e[2]) + ')'\n",
    "        else:\n",
    "            rhs = toString(e[2])\n",
    "        return lhs + ' - ' + rhs\n",
    "    if e[0] == '*':\n",
    "        if precedenceOp(e[1]) == 1:\n",
    "           lhs = '(' + toString(e[1]) + ')'\n",
    "        else:\n",
    "           lhs = toString(e[1])\n",
    "        if precedenceOp(e[2]) == 1:\n",
    "            rhs = '(' + toString(e[2]) + ')'\n",
    "        else:\n",
    "            rhs = toString(e[2])\n",
    "        return lhs + '*' + rhs\n",
    "    if e[0] == '/':\n",
    "        if precedenceOp(e[1]) == 1:\n",
    "            lhs = '(' + toString(e[1]) + ')'\n",
    "        else:\n",
    "            lhs = toString(e[1])\n",
    "        if precedenceOp(e[2]) <= 2:\n",
    "            rhs = '(' + toString(e[2]) + ')'\n",
    "        else:\n",
    "            rhs = toString(e[2])\n",
    "        return lhs + '/' + rhs\n",
    "    if e[0] == '**':\n",
    "        if precedenceOp(e[1]) <= 3:\n",
    "            lhs = '(' + toString(e[1]) + ')'\n",
    "        else:\n",
    "            lhs = toString(e[1])\n",
    "        if precedenceOp(e[2]) <= 2:\n",
    "            rhs = '(' + toString(e[2]) + ')'\n",
    "        else:\n",
    "            rhs = toString(e[2])\n",
    "        return lhs + '**' + rhs\n",
    "\n",
    "def precedenceOp(expr):\n",
    "    if isinstance(expr, tuple):\n",
    "        return precedence(expr[0])\n",
    "    return 4\n",
    "\n",
    "def precedence(op: str):\n",
    "    Precedences = { '+': 1, '-': 1, '*': 2, '/': 2, '**': 3 }\n",
    "    if op in Precedences:\n",
    "        return Precedences[op]\n",
    "    return 4"
   ]
  },
  {
   "cell_type": "code",
   "execution_count": null,
   "metadata": {},
   "outputs": [],
   "source": [
    "def test(s):\n",
    "    t = parse(s)\n",
    "    d = diff(t)\n",
    "    print(f\"d/dx {s} = {toString(d)}\")"
   ]
  },
  {
   "cell_type": "code",
   "execution_count": null,
   "metadata": {},
   "outputs": [],
   "source": [
    "test(\"x ** x\")"
   ]
  },
  {
   "cell_type": "code",
   "execution_count": null,
   "metadata": {},
   "outputs": [],
   "source": [
    "test(\"ln(exp(x)) / exp(x/x)\")"
   ]
  },
  {
   "cell_type": "code",
   "execution_count": null,
   "metadata": {},
   "outputs": [],
   "source": []
  }
 ],
 "metadata": {
  "kernelspec": {
   "display_name": "Python 3 (ipykernel)",
   "language": "python",
   "name": "python3"
  },
  "language_info": {
   "codemirror_mode": {
    "name": "ipython",
    "version": 3
   },
   "file_extension": ".py",
   "mimetype": "text/x-python",
   "name": "python",
   "nbconvert_exporter": "python",
   "pygments_lexer": "ipython3",
   "version": "3.13.7"
  },
  "varInspector": {
   "cols": {
    "lenName": 16,
    "lenType": 16,
    "lenVar": 40
   },
   "kernels_config": {
    "python": {
     "delete_cmd_postfix": "",
     "delete_cmd_prefix": "del ",
     "library": "var_list.py",
     "varRefreshCmd": "print(var_dic_list())"
    },
    "r": {
     "delete_cmd_postfix": ") ",
     "delete_cmd_prefix": "rm(",
     "library": "var_list.r",
     "varRefreshCmd": "cat(var_dic_list()) "
    }
   },
   "types_to_exclude": [
    "module",
    "function",
    "builtin_function_or_method",
    "instance",
    "_Feature"
   ],
   "window_display": false
  }
 },
 "nbformat": 4,
 "nbformat_minor": 4
}
