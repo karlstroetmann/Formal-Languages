{
 "cells": [
  {
   "cell_type": "code",
   "execution_count": null,
   "metadata": {},
   "outputs": [],
   "source": [
    "from IPython.display import HTML\n",
    "HTML(open('../style.css').read())"
   ]
  },
  {
   "cell_type": "markdown",
   "metadata": {},
   "source": [
    "# A Simple Calculator\n",
    "\n",
    "This file shows the implementation of a *symbolic calculator* using `Ply`.  The grammar for the language implemented by this parser is as follows:\n",
    "$$\n",
    "\\begin{array}{lcl}\n",
    "  \\texttt{stmnt}   & \\rightarrow & \\;\\texttt{IDENTIFIER}\\; \\texttt{':='} \\; \\;\\texttt{expr}\\; \\texttt{';'} \\\\\n",
    "                   & \\mid        & \\;\\texttt{expr}\\; \\texttt{';'} \\\\[0.2cm]   \n",
    "  \\texttt{expr}    & \\rightarrow & \\;\\texttt{expr}\\; \\texttt{'+'} \\; \\texttt{product}  \\\\\n",
    "                   & \\mid        & \\;\\texttt{expr}\\; \\texttt{'-'} \\; \\texttt{product}  \\\\\n",
    "                   & \\mid        & \\;\\texttt{product}                                  \\\\[0.2cm]\n",
    "  \\texttt{product} & \\rightarrow & \\;\\texttt{product}\\; \\texttt{'*'} \\;\\texttt{factor} \\\\\n",
    "                   & \\mid        & \\;\\texttt{product}\\; \\texttt{'/'} \\;\\texttt{factor} \\\\\n",
    "                   & \\mid        & \\;\\texttt{factor}                                   \\\\[0.2cm]\n",
    "  \\texttt{factor}  & \\rightarrow &   \\texttt{'('} \\; \\texttt{expr} \\;\\texttt{')'}      \\\\\n",
    "                   & \\mid        & \\;\\texttt{NUMBER}                                   \\\\\n",
    "                   & \\mid        & \\;\\texttt{IDENTIFIER}                               \n",
    "\\end{array}\n",
    "$$"
   ]
  },
  {
   "cell_type": "markdown",
   "metadata": {},
   "source": [
    "## Specification of the Scanner"
   ]
  },
  {
   "cell_type": "code",
   "execution_count": null,
   "metadata": {},
   "outputs": [],
   "source": [
    "import ply.lex as lex"
   ]
  },
  {
   "cell_type": "markdown",
   "metadata": {},
   "source": [
    "We only need to define four tokens. \n",
    "The other tokens, namely the operators `+`, `-`, `*`, and `/` and the parenthesis consist \n",
    "only of a single character and can therefore be defined as literals."
   ]
  },
  {
   "cell_type": "code",
   "execution_count": null,
   "metadata": {},
   "outputs": [],
   "source": [
    "tokens = [ 'NUMBER', 'IDENTIFIER', 'ASSIGN' ]"
   ]
  },
  {
   "cell_type": "markdown",
   "metadata": {},
   "source": [
    "The token `NUMBER` specifies a *floating point number*."
   ]
  },
  {
   "cell_type": "code",
   "execution_count": null,
   "metadata": {},
   "outputs": [],
   "source": [
    "def t_NUMBER(t):\n",
    "    r'(0|[1-9][0-9]*)(\\.[0-9]+)?'\n",
    "    t.value = float(t.value)\n",
    "    return t"
   ]
  },
  {
   "cell_type": "code",
   "execution_count": null,
   "metadata": {},
   "outputs": [],
   "source": [
    "t_IDENTIFIER = r'[a-zA-Z][a-zA-Z0-9_]*'"
   ]
  },
  {
   "cell_type": "code",
   "execution_count": null,
   "metadata": {},
   "outputs": [],
   "source": [
    "t_ASSIGN = r':='"
   ]
  },
  {
   "cell_type": "code",
   "execution_count": null,
   "metadata": {},
   "outputs": [],
   "source": [
    "def t_LINEBREAK(t):\n",
    "    r'\\n'\n",
    "    t.lexer.lineno += 1"
   ]
  },
  {
   "cell_type": "code",
   "execution_count": null,
   "metadata": {},
   "outputs": [],
   "source": [
    "literals = ['+', '-', '*', '/', '(', ')', ';']"
   ]
  },
  {
   "cell_type": "markdown",
   "metadata": {},
   "source": [
    "Blanks and tabulators are ignored."
   ]
  },
  {
   "cell_type": "code",
   "execution_count": null,
   "metadata": {},
   "outputs": [],
   "source": [
    "t_ignore  = ' \\t'"
   ]
  },
  {
   "cell_type": "markdown",
   "metadata": {},
   "source": [
    "Unkown characters are reported as lexical errors."
   ]
  },
  {
   "cell_type": "code",
   "execution_count": null,
   "metadata": {},
   "outputs": [],
   "source": [
    "def t_error(t):\n",
    "    print(f\"Illegal character '{t.value[0]}' at character number {t.lexer.lexpos} in line {t.lexer.lineno}.\")\n",
    "    t.lexer.skip(1)"
   ]
  },
  {
   "cell_type": "markdown",
   "metadata": {},
   "source": [
    "The next line is necessary because we use `Ply` from a notebook."
   ]
  },
  {
   "cell_type": "code",
   "execution_count": null,
   "metadata": {},
   "outputs": [],
   "source": [
    "__file__ = 'main'"
   ]
  },
  {
   "cell_type": "markdown",
   "metadata": {},
   "source": [
    "We generate the lexer."
   ]
  },
  {
   "cell_type": "code",
   "execution_count": null,
   "metadata": {},
   "outputs": [],
   "source": [
    "lexer = lex.lex()"
   ]
  },
  {
   "cell_type": "markdown",
   "metadata": {},
   "source": [
    "## Specification of the Parser"
   ]
  },
  {
   "cell_type": "code",
   "execution_count": null,
   "metadata": {},
   "outputs": [],
   "source": [
    "import ply.yacc as yacc"
   ]
  },
  {
   "cell_type": "markdown",
   "metadata": {},
   "source": [
    "The *start variable* of our grammar is `statement`."
   ]
  },
  {
   "cell_type": "code",
   "execution_count": null,
   "metadata": {},
   "outputs": [],
   "source": [
    "start = 'stmnt'"
   ]
  },
  {
   "cell_type": "markdown",
   "metadata": {},
   "source": [
    "The variable `Names2Values` is a global dictionary that stores the values that are associated with the variables we define."
   ]
  },
  {
   "cell_type": "code",
   "execution_count": null,
   "metadata": {},
   "outputs": [],
   "source": [
    "Names2Values = {}"
   ]
  },
  {
   "cell_type": "markdown",
   "metadata": {},
   "source": [
    "The function `p_stmnt_assign` implements the following grammar rule:\n",
    "$$ \\texttt{stmnt} \\rightarrow \\texttt{IDENTIFIER}\\; \\texttt{':='} \\; \\texttt{expr} \\; \\texttt{';'}$$"
   ]
  },
  {
   "cell_type": "code",
   "execution_count": null,
   "metadata": {},
   "outputs": [],
   "source": [
    "def p_stmnt_assign(p):\n",
    "    \"stmnt : IDENTIFIER ASSIGN expr ';'\"\n",
    "    Names2Values[p[1]] = p[3]"
   ]
  },
  {
   "cell_type": "markdown",
   "metadata": {},
   "source": [
    "The function `p_stmnt_expr` implements the following grammar rule:\n",
    "$$ \\texttt{stmnt} \\rightarrow \\texttt{expr} \\; \\texttt{';'} $$"
   ]
  },
  {
   "cell_type": "code",
   "execution_count": null,
   "metadata": {},
   "outputs": [],
   "source": [
    "def p_stmnt_expr(p):\n",
    "    \"stmnt : expr ';'\"\n",
    "    print(p[1])"
   ]
  },
  {
   "cell_type": "markdown",
   "metadata": {},
   "source": [
    "An *expr* is a sequence of *products* that are combined with the operator `+`.\n",
    "The corresponding grammar rules are:\n",
    "```\n",
    "    expr : expr '+' product\n",
    "         | expr '-' product\n",
    "         | product\n",
    "         ;\n",
    "```"
   ]
  },
  {
   "cell_type": "code",
   "execution_count": null,
   "metadata": {},
   "outputs": [],
   "source": [
    "def p_expr_plus(p):\n",
    "    \"expr : expr '+' product\"\n",
    "    p[0] = p[1] + p[3]\n",
    "\n",
    "def p_expr_minus(p):\n",
    "    \"expr : expr '-' product\"\n",
    "    p[0] = p[1] - p[3]\n",
    "    \n",
    "def p_expr_product(p):\n",
    "    \"expr : product\"\n",
    "    p[0] = p[1]"
   ]
  },
  {
   "cell_type": "markdown",
   "metadata": {},
   "source": [
    "A *product* is a sequence of *factors* that are combined with the operator `*`.\n",
    "The corresponding grammar rules are:\n",
    "```\n",
    "    product : product '*' factor\n",
    "            | product '/' factor\n",
    "            | factor\n",
    "            ;\n",
    "```"
   ]
  },
  {
   "cell_type": "code",
   "execution_count": null,
   "metadata": {},
   "outputs": [],
   "source": [
    "def p_product_multiply(p):\n",
    "    \"product : product '*' factor\"\n",
    "    p[0] = p[1] * p[3]\n",
    "\n",
    "def p_product_divide(p):\n",
    "    \"product : product '/' factor\"\n",
    "    p[0] = p[1] / p[3]\n",
    "    \n",
    "def p_product_factor(p):\n",
    "    \"product : factor\"\n",
    "    p[0] = p[1]"
   ]
  },
  {
   "cell_type": "markdown",
   "metadata": {},
   "source": [
    "A factor is either an expression in parenthesis or a number.\n",
    "```\n",
    "   factor : '(' expr ')'\n",
    "          | NUMBER\n",
    "          | IDENTIFIER\n",
    "          ;\n",
    "```\n",
    "In the case that `factor` is an `IDENTIFIER` we have to look up the value that is\n",
    "associated with the corresponding variable name in the dictionary `Names2Values`."
   ]
  },
  {
   "cell_type": "code",
   "execution_count": null,
   "metadata": {},
   "outputs": [],
   "source": [
    "def p_factor_group(p):\n",
    "    \"factor : '(' expr ')'\"\n",
    "    p[0] = p[2]\n",
    "\n",
    "def p_factor_number(p):\n",
    "    \"factor : NUMBER\"\n",
    "    p[0] = p[1]\n",
    "\n",
    "def p_factor_identifier(p):\n",
    "    \"factor : IDENTIFIER\"\n",
    "    p[0] = Names2Values[p[1]]"
   ]
  },
  {
   "cell_type": "markdown",
   "metadata": {},
   "source": [
    "The method `p_error` is called if a syntax error occurs.  The argument `p` is the token that could not be read.  If `p` is `None` then the syntax error occurs at the end of the input."
   ]
  },
  {
   "cell_type": "code",
   "execution_count": null,
   "metadata": {},
   "outputs": [],
   "source": [
    "def p_error(p):\n",
    "    if p:\n",
    "        print(f\"Syntax error at character number {p.lexer.lexpos} at token '{p.value}' in line {p.lexer.lineno}.\")\n",
    "    else:\n",
    "        raise(f\"Incomplete input.\")"
   ]
  },
  {
   "cell_type": "code",
   "execution_count": null,
   "metadata": {},
   "outputs": [],
   "source": [
    "parser = yacc.yacc(write_tables=False, debug=True)"
   ]
  },
  {
   "cell_type": "markdown",
   "metadata": {},
   "source": [
    "The parser is invoked by calling the method `yacc.parse(s)` where `s` is the string that is to be parsed."
   ]
  },
  {
   "cell_type": "code",
   "execution_count": null,
   "metadata": {},
   "outputs": [],
   "source": [
    "def main():\n",
    "    while True:\n",
    "        s = input('calc> ')\n",
    "        if s == '':\n",
    "            break\n",
    "        yacc.parse(s)"
   ]
  },
  {
   "cell_type": "code",
   "execution_count": null,
   "metadata": {},
   "outputs": [],
   "source": [
    "main()"
   ]
  },
  {
   "cell_type": "code",
   "execution_count": null,
   "metadata": {},
   "outputs": [],
   "source": [
    "Names2Values"
   ]
  },
  {
   "cell_type": "code",
   "execution_count": null,
   "metadata": {},
   "outputs": [],
   "source": []
  }
 ],
 "metadata": {
  "kernelspec": {
   "display_name": "Python 3 (ipykernel)",
   "language": "python",
   "name": "python3"
  },
  "language_info": {
   "codemirror_mode": {
    "name": "ipython",
    "version": 3
   },
   "file_extension": ".py",
   "mimetype": "text/x-python",
   "name": "python",
   "nbconvert_exporter": "python",
   "pygments_lexer": "ipython3",
   "version": "3.13.7"
  },
  "varInspector": {
   "cols": {
    "lenName": 16,
    "lenType": 16,
    "lenVar": 40
   },
   "kernels_config": {
    "python": {
     "delete_cmd_postfix": "",
     "delete_cmd_prefix": "del ",
     "library": "var_list.py",
     "varRefreshCmd": "print(var_dic_list())"
    },
    "r": {
     "delete_cmd_postfix": ") ",
     "delete_cmd_prefix": "rm(",
     "library": "var_list.r",
     "varRefreshCmd": "cat(var_dic_list()) "
    }
   },
   "types_to_exclude": [
    "module",
    "function",
    "builtin_function_or_method",
    "instance",
    "_Feature"
   ],
   "window_display": false
  }
 },
 "nbformat": 4,
 "nbformat_minor": 4
}
